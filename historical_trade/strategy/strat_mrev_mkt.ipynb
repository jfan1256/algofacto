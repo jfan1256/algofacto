{
 "cells": [
  {
   "cell_type": "code",
   "execution_count": null,
   "id": "da8365a4-fdeb-4356-9136-fc3b73194df8",
   "metadata": {},
   "outputs": [],
   "source": [
    "import os\n",
    "import yfinance as yf\n",
    "import quantstats as qs\n",
    "import scipy.cluster.hierarchy as sch\n",
    "import cvxopt as opt\n",
    "import matplotlib.pyplot as plt\n",
    "import shutil\n",
    "import base64\n",
    "import pandas as pd\n",
    "import statsmodels.api as sm\n",
    "from IPython.display import display, HTML\n",
    "\n",
    "from statsmodels.regression.rolling import RollingOLS\n",
    "from joblib import Parallel, delayed\n",
    "from io import BytesIO\n",
    "from datetime import timedelta\n",
    "from IPython.display import Image\n",
    "from tqdm import tqdm\n",
    "from sklearn.cluster import AgglomerativeClustering\n",
    "from scipy.spatial.distance import squareform\n",
    "from scipy.cluster.hierarchy import fcluster\n",
    "from scipy.cluster.hierarchy import dendrogram, linkage, cophenet\n",
    "from sklearn.metrics import adjusted_mutual_info_score\n",
    "from sklearn import cluster, covariance, manifold\n",
    "from cvxopt import blas, solvers\n",
    "from IPython.display import display\n",
    "from matplotlib.backends.backend_svg import FigureCanvasSVG\n",
    "from pandas.tseries.offsets import BDay\n",
    "from sklearn.preprocessing import MinMaxScaler\n",
    "\n",
    "\n",
    "from functions.utils.system import *\n",
    "from functions.utils.func import *\n",
    "from model_class.prep_factor import PrepFactor \n",
    "\n",
    "import warnings\n",
    "\n",
    "warnings.filterwarnings('ignore')"
   ]
  },
  {
   "cell_type": "code",
   "execution_count": null,
   "id": "b7dff094-04f5-4cae-9a14-cfb67c0963c9",
   "metadata": {},
   "outputs": [],
   "source": [
    "# Params\n",
    "live = True\n",
    "stock = read_stock(get_large(live) / 'permno_live.csv')\n",
    "start = '2005-01-01'\n",
    "window = 168\n",
    "threshold = 2_000_000_000\n",
    "past_date = (date.today() - timedelta(days=1)).strftime('%Y-%m-%d')\n",
    "current_date = (date.today()).strftime('%Y-%m-%d')\n",
    "past_date = '2023-11-09'\n",
    "current_date = '2023-11-10'\n",
    "format_end = date.today().strftime('%Y%m%d')\n",
    "trial = f'mrev_{format_end}'\n",
    "dir_path = Path(get_strat_mrev_etf() / 'report')\n",
    "sbo = 0.85\n",
    "sso = 0.85\n",
    "sbc = 0.25\n",
    "ssc = 0.25\n",
    "etf_list = ['SPY', 'MDY', 'VEA', 'EEM', 'VNQ', 'DBC']"
   ]
  },
  {
   "cell_type": "code",
   "execution_count": null,
   "id": "f9ae819b-20de-45d1-a352-561448ea9b0e",
   "metadata": {},
   "outputs": [],
   "source": [
    "def create_multi_index(factor_data, stock):\n",
    "    factor_values = pd.concat([factor_data] * len(stock), ignore_index=True).values\n",
    "    multi_index = pd.MultiIndex.from_product([stock, factor_data.index])\n",
    "    multi_index_factor = pd.DataFrame(factor_values, columns=factor_data.columns, index=multi_index)\n",
    "    multi_index_factor.index = multi_index_factor.index.set_names(['permno', 'date'])\n",
    "    return multi_index_factor"
   ]
  },
  {
   "cell_type": "markdown",
   "id": "e642405a-368a-43d4-a6be-b76b49c03c1d",
   "metadata": {},
   "source": [
    "# Past"
   ]
  },
  {
   "cell_type": "code",
   "execution_count": null,
   "id": "dbbb6312-1865-467e-bccd-329a4a2ee896",
   "metadata": {},
   "outputs": [],
   "source": [
    "# Find correlation between returns\n",
    "def corr(df):\n",
    "    # Unstack the DataFrame to get ticker returns in separate columns\n",
    "    unstacked_df = df.unstack(level='ticker')\n",
    "    returns_df = unstacked_df['RET_01']\n",
    "\n",
    "    # Calculate the correlation matrix\n",
    "    correlation_matrix = returns_df.corr()\n",
    "\n",
    "    # Print pairwise correlations\n",
    "    tickers = correlation_matrix.columns\n",
    "    for i in range(len(tickers)):\n",
    "        for j in range(i+1, len(tickers)):\n",
    "            print(f\"Correlation between {tickers[i]} and {tickers[j]}: {correlation_matrix.iloc[i, j]:.4f}\")"
   ]
  },
  {
   "cell_type": "code",
   "execution_count": null,
   "id": "8fd0ffe9-aa2f-4e2e-a20c-b7a705fad64b",
   "metadata": {},
   "outputs": [],
   "source": [
    "# Read in ETF data from FMP\n",
    "T = [1]\n",
    "sector_ret_past = get_data_fmp(ticker_list=etf_list, start=start, current_date=past_date)\n",
    "sector_ret_past = sector_ret_past[['Open', 'High', 'Low', 'Volume', 'Adj Close']]\n",
    "sector_ret_past = sector_ret_past.rename(columns={'Adj Close': 'Close'})\n",
    "sector_ret_past = sector_ret_past.loc[~sector_ret_past.index.duplicated(keep='first')]\n",
    "# Create returns and unstack dataframe to only have 'date' index and 'ETF ticker' columns\n",
    "sector_ret_past = create_return(sector_ret_past, T)\n",
    "corr(sector_ret_past)\n",
    "sector_ret_past = sector_ret_past.drop(['Close', 'High', 'Low', 'Open', 'Volume'], axis=1)\n",
    "sector_ret_past = sector_ret_past.unstack('ticker').swaplevel(axis=1)\n",
    "sector_ret_past.columns = ['_'.join(col).strip() for col in sector_ret_past.columns.values]\n",
    "sector_ret_past = sector_ret_past.fillna(0)"
   ]
  },
  {
   "cell_type": "code",
   "execution_count": null,
   "id": "defc1389-064f-4520-9522-b1d9e774cc2e",
   "metadata": {},
   "outputs": [],
   "source": [
    "# Read in price data and set up params for Rolling LR\n",
    "T = [1]\n",
    "ret = f'RET_01'\n",
    "past_data = pd.read_parquet(get_parquet_dir(live) / 'data_price.parquet.brotli')\n",
    "factor_col_past = sector_ret_past.columns\n",
    "past_data = create_return(past_data, T)\n",
    "past_data = past_data.fillna(0)"
   ]
  },
  {
   "cell_type": "code",
   "execution_count": null,
   "id": "b7d07ddf-af2f-4c6d-b403-9852cc76972d",
   "metadata": {},
   "outputs": [],
   "source": [
    "# Execute Rolling LR\n",
    "beta_data_past = rolling_ols_parallel(data=past_data, ret=ret, factor_data=sector_ret_past, factor_cols=factor_col_past.tolist(), window=window, name=f'sector_01')"
   ]
  },
  {
   "cell_type": "code",
   "execution_count": null,
   "id": "e6893370-18ae-42f2-a94e-730c4d150c78",
   "metadata": {},
   "outputs": [],
   "source": [
    "# Retrieve Needed Data\n",
    "beta_data_past = beta_data_past[beta_data_past.columns[1:len(factor_col_past)+2]]\n",
    "beta_data_past = beta_data_past.fillna(0)"
   ]
  },
  {
   "cell_type": "code",
   "execution_count": null,
   "id": "fe9063c2-649e-41e9-92d9-b6939c1734bf",
   "metadata": {},
   "outputs": [],
   "source": [
    "# Calculate rolling mean and standard deviation\n",
    "rolling_mean = beta_data_past.groupby('permno')[f'epsil_sector_01_{window:02}'].rolling(window=window).mean().reset_index(level=0, drop=True)\n",
    "rolling_std = beta_data_past.groupby('permno')[f'epsil_sector_01_{window:02}'].rolling(window=window).std().reset_index(level=0, drop=True)\n",
    "# Calculate the rolling Z-score\n",
    "beta_data_past['s_score'] = (beta_data_past[f'epsil_sector_01_{window:02}'] - rolling_mean) / rolling_std"
   ]
  },
  {
   "cell_type": "code",
   "execution_count": null,
   "id": "64212272-8ab1-49f8-b372-cc5784c06e77",
   "metadata": {},
   "outputs": [],
   "source": [
    "# Convert ETF Dataframe to multi-index\n",
    "stock = read_stock(get_large_dir(live) / 'permno_live.csv')\n",
    "sector_multi_past = create_multi_index(sector_ret_past, stock)\n",
    "# Merge the necessary columns together into one dataframe\n",
    "combined_past = beta_data_past.merge(sector_multi_past, left_index=True, right_index=True, how='left')\n",
    "combined_past = combined_past.merge(past_data[['RET_01']], left_index=True, right_index=True, how='left')\n",
    "combined_past = combined_past.fillna(0)"
   ]
  },
  {
   "cell_type": "code",
   "execution_count": null,
   "id": "c469af15-64d2-417f-9106-5e48b2038236",
   "metadata": {},
   "outputs": [],
   "source": [
    "# Retrieve the needed columns\n",
    "ret_columns = [col for col in combined_past.columns if \"RET_01\" in col]\n",
    "combined_past = combined_past[['s_score'] + ret_columns]"
   ]
  },
  {
   "cell_type": "code",
   "execution_count": null,
   "id": "6152fbdb-2936-4836-b7ca-86ddf153f803",
   "metadata": {},
   "outputs": [],
   "source": [
    "def create_signal_past(data, sbo, sso, sbc, ssc, threshold):\n",
    "    def apply_rules(group):\n",
    "        # Initialize signals and positions\n",
    "        signals = [None] * len(group)\n",
    "        positions = [None] * len(group)\n",
    "        # Create masks for conditions\n",
    "        open_long_condition = (group['s_score'] < -sbo) & (group['market_cap'] > threshold)\n",
    "        open_short_condition = (group['s_score'] > sso) & (group['market_cap'] > threshold)\n",
    "        close_long_condition = group['s_score'] > -ssc\n",
    "        close_short_condition = group['s_score'] < sbc\n",
    "        # Flag to check if any position is open\n",
    "        position_open = False\n",
    "        current_position = None\n",
    "        \n",
    "        for i in range(len(group)):\n",
    "            if position_open:\n",
    "                if positions[i-1] == 'long' and close_long_condition.iloc[i]:\n",
    "                    signals[i] = 'close long'\n",
    "                    positions[i] = None\n",
    "                    position_open = False\n",
    "                    current_position = None\n",
    "                elif positions[i-1] == 'short' and close_short_condition.iloc[i]:\n",
    "                    signals[i] = 'close short'\n",
    "                    positions[i] = None\n",
    "                    position_open = False\n",
    "                    current_position = None\n",
    "                else:\n",
    "                    signals[i] = 'hold'\n",
    "                    positions[i] = current_position\n",
    "            else:\n",
    "                if open_long_condition.iloc[i]:\n",
    "                    positions[i] = 'long'\n",
    "                    signals[i] = 'buy to open'\n",
    "                    current_position = 'long'\n",
    "                    position_open = True\n",
    "                elif open_short_condition.iloc[i]:\n",
    "                    positions[i] = 'short'\n",
    "                    signals[i] = 'sell to open'\n",
    "                    position_open = True\n",
    "                    current_position = 'short'\n",
    "\n",
    "        return pd.DataFrame({'signal': signals, 'position': positions}, index=group.index)\n",
    "\n",
    "    # Sort data\n",
    "    data = data.sort_index(level=['permno', 'date'])\n",
    "    # Group by permno and apply the rules for each group\n",
    "    results = data.groupby('permno').apply(apply_rules).reset_index(level=0, drop=True)\n",
    "    # Flatten the results and assign back to the data\n",
    "    data = data.join(results)\n",
    "    return data"
   ]
  },
  {
   "cell_type": "code",
   "execution_count": null,
   "id": "13ff7c40-ab0e-4617-a86c-8037f71bca0c",
   "metadata": {},
   "outputs": [],
   "source": [
    "# Create signals\n",
    "copy = combined_past.copy(deep=True)\n",
    "misc = pd.read_parquet(get_parquet_dir(live) / 'data_misc.parquet.brotli', columns=['market_cap'])\n",
    "copy = copy.merge(misc, left_index=True, right_index=True, how='left')\n",
    "result_past = create_signal_past(copy, sbo, sso, sbc, ssc, threshold)"
   ]
  },
  {
   "cell_type": "code",
   "execution_count": null,
   "id": "5037f2c1-0521-434f-8486-d39318d42597",
   "metadata": {},
   "outputs": [],
   "source": [
    "tsla = get_stock_data(beta_data_past, 93436)"
   ]
  },
  {
   "cell_type": "code",
   "execution_count": null,
   "id": "30717756-5222-4454-975d-8fe3a17eea89",
   "metadata": {},
   "outputs": [],
   "source": [
    "# Create a figure and axis object\n",
    "fig, ax = plt.subplots(figsize=(20, 10))\n",
    "# Plot the s_score\n",
    "tsla.s_score.plot(ax=ax)\n",
    "# Plot the threshold lines\n",
    "ax.axhline(y=-sbo, color='r', linestyle='--', label='sbo')\n",
    "ax.axhline(y=sso, color='g', linestyle='--', label='sso')\n",
    "ax.axhline(y=sbc, color='m', linestyle='--', label='sbc')\n",
    "ax.axhline(y=-ssc, color='y', linestyle='--', label='ssc')\n",
    "# Add legend\n",
    "ax.legend()\n",
    "# Display the plot\n",
    "plt.show()"
   ]
  },
  {
   "cell_type": "code",
   "execution_count": null,
   "id": "00ecda46-650a-4fb6-b323-fc59a30cdd65",
   "metadata": {},
   "outputs": [],
   "source": [
    "def calc_total_ret(df, etf_returns):\n",
    "    print(\"Get hedge weights...\")\n",
    "    mask_long = df['position'] == 'long'\n",
    "    mask_short = df['position'] == 'short'\n",
    "    df['hedge_weight'] = np.where(mask_long, -1, np.where(mask_short, 1, 0))\n",
    "    \n",
    "    # Get net hedge betas\n",
    "    print(\"Get net hedge betas...\")\n",
    "    beta_columns = [col for col in df.columns if '_sector_' in col]\n",
    "    weighted_betas = df[beta_columns].multiply(df['hedge_weight'], axis=0)\n",
    "    net_hedge_betas = weighted_betas.groupby('date').sum()\n",
    "    \n",
    "    # Combine and normalize weights\n",
    "    print(\"Normalize weights...\")\n",
    "    df['stock_weight'] = np.where(mask_long, 1, np.where(mask_short, -1, 0))\n",
    "    \n",
    "    # Normalize net hedge betas and stock weights combined\n",
    "    df['abs_stock_weight'] = df['stock_weight'].abs()\n",
    "    combined_weights = df.groupby('date')['abs_stock_weight'].sum() + net_hedge_betas.abs().sum(axis=1)\n",
    "    df['normalized_weight'] = df['stock_weight'].div(combined_weights, axis=0)\n",
    "    normalized_net_hedge_betas = net_hedge_betas.div(combined_weights, axis=0)\n",
    "    \n",
    "    # Get net hedge return\n",
    "    print(\"Get net hedge returns...\")\n",
    "    net_hedge_returns = pd.DataFrame(index=normalized_net_hedge_betas.index)\n",
    "    for beta in beta_columns:\n",
    "        etf_return_column = beta.split('_sector_')[0]\n",
    "        if etf_return_column in etf_returns.columns:\n",
    "            net_hedge_returns[beta] = normalized_net_hedge_betas[beta] * etf_returns[etf_return_column]\n",
    "    \n",
    "    # Get total hedge return\n",
    "    print(\"Get total hedge return...\")\n",
    "    net_hedge_return_total = net_hedge_returns.sum(axis=1)\n",
    "    \n",
    "    print(\"Get daily returns...\")\n",
    "    daily_returns = (df['RET_01'] * df['normalized_weight']).groupby('date').sum()\n",
    "    \n",
    "    print(\"Get total returns...\")\n",
    "    total_returns = daily_returns + net_hedge_return_total\n",
    "    \n",
    "    return total_returns, daily_returns, net_hedge_return_total, normalized_net_hedge_betas, df[['normalized_weight']]"
   ]
  },
  {
   "cell_type": "code",
   "execution_count": null,
   "id": "0bd7245d-75d3-4c62-ad96-35bd658a7f3d",
   "metadata": {},
   "outputs": [],
   "source": [
    "def _top_inv_vol(df):\n",
    "    long_df = df[df['position'] == 'long']\n",
    "    short_df = df[df['position'] == 'short']\n",
    "    top_long = long_df.nlargest(50, 'inv_vol')\n",
    "    top_short = short_df.nlargest(50, 'inv_vol')\n",
    "    comb = pd.concat([top_long, top_short], axis=0)\n",
    "    return comb"
   ]
  },
  {
   "cell_type": "code",
   "execution_count": null,
   "id": "6cde3415-9917-435b-bd2f-04820f442325",
   "metadata": {},
   "outputs": [],
   "source": [
    "result_past_copy = result_past.copy(deep=True)"
   ]
  },
  {
   "cell_type": "code",
   "execution_count": null,
   "id": "3525041e-91c5-4884-a84d-274d237fd4f1",
   "metadata": {},
   "outputs": [],
   "source": [
    "result_past_copy['vol'] = result_past_copy.groupby('ticker')['RET_01'].rolling(21).std().reset_index(level=0, drop=True)\n",
    "result_past_copy['inv_vol'] = 1 / result_past_copy['vol']"
   ]
  },
  {
   "cell_type": "code",
   "execution_count": null,
   "id": "bc74210b-8572-42ec-87c2-770ace538409",
   "metadata": {},
   "outputs": [],
   "source": [
    "result_past_copy = result_past_copy.groupby('date').apply(_top_inv_vol).reset_index(level=0, drop=True)"
   ]
  },
  {
   "cell_type": "code",
   "execution_count": null,
   "id": "7f30b37e-76e1-44f8-8e15-483e9ad05355",
   "metadata": {},
   "outputs": [],
   "source": [
    "result_past_copy['RET_01'] = result_past_copy.groupby('permno')['RET_01'].shift(-1)"
   ]
  },
  {
   "cell_type": "code",
   "execution_count": null,
   "id": "639a3e2f-7ee4-4dd3-8dd4-80bb08188654",
   "metadata": {},
   "outputs": [],
   "source": [
    "# Calculate strategy's return\n",
    "ewp_ret, daily_ret, hedge_ret, beta_weight, stock_weight = calc_total_ret(result_past_copy, sector_ret_past.shift(-1))"
   ]
  },
  {
   "cell_type": "code",
   "execution_count": null,
   "id": "9f2e0124",
   "metadata": {
    "scrolled": true
   },
   "outputs": [],
   "source": [
    "# Plot Results\n",
    "spy = get_spy(start_date='2005-01-01', end_date=current_date)\n",
    "qs.reports.full(ewp_ret, spy)"
   ]
  },
  {
   "cell_type": "code",
   "execution_count": null,
   "id": "0ca6ad0a-2f87-46b3-9949-c80791caefd2",
   "metadata": {},
   "outputs": [],
   "source": []
  },
  {
   "cell_type": "code",
   "execution_count": null,
   "id": "36eb6038-96d9-49a6-bd7d-18d1571fc125",
   "metadata": {},
   "outputs": [],
   "source": []
  }
 ],
 "metadata": {
  "kernelspec": {
   "display_name": "algofacto",
   "language": "python",
   "name": "algofacto"
  },
  "language_info": {
   "codemirror_mode": {
    "name": "ipython",
    "version": 3
   },
   "file_extension": ".py",
   "mimetype": "text/x-python",
   "name": "python",
   "nbconvert_exporter": "python",
   "pygments_lexer": "ipython3",
   "version": "3.10.13"
  }
 },
 "nbformat": 4,
 "nbformat_minor": 5
}
