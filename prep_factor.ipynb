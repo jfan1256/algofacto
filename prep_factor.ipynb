{
 "cells": [
  {
   "cell_type": "markdown",
   "source": [
    "# Prep Factors"
   ],
   "metadata": {
    "collapsed": false
   },
   "id": "78b9128d608b8094"
  },
  {
   "cell_type": "code",
   "execution_count": 1,
   "id": "e04cbf10",
   "metadata": {
    "ExecuteTime": {
     "end_time": "2023-08-20T02:37:11.724714900Z",
     "start_time": "2023-08-20T02:37:10.153378600Z"
    }
   },
   "outputs": [],
   "source": [
    "from functions.utils.func import *\n",
    "\n",
    "from prep_factor import PrepFactor\n",
    "\n",
    "tickers = read_ticker(get_load_data_large_dir() / 'tickers_to_train_fundamental.csv')\n",
    "start='2010-01-01'\n",
    "end='2022-01-01'"
   ]
  },
  {
   "cell_type": "code",
   "execution_count": 3,
   "id": "99130ac6",
   "metadata": {
    "ExecuteTime": {
     "end_time": "2023-08-20T02:32:11.978042700Z",
     "start_time": "2023-08-20T02:32:09.147997300Z"
    }
   },
   "outputs": [
    {
     "name": "stdout",
     "output_type": "stream",
     "text": [
      "Creating factor_time --------------------------------------- | \u001B[92m✔\u001B[0m\n",
      "Shape: (2109219, 2)\n"
     ]
    }
   ],
   "source": [
    "cycle = PrepFactor(factor_name='factor_time', interval='D', kind='price', tickers=tickers, div=False, start=start, end=end, save=True).prep()"
   ]
  },
  {
   "cell_type": "code",
   "execution_count": 29,
   "id": "b4197b53",
   "metadata": {
    "ExecuteTime": {
     "end_time": "2023-08-20T03:40:08.614889Z",
     "start_time": "2023-08-20T03:40:07.394307Z"
    }
   },
   "outputs": [
    {
     "name": "stdout",
     "output_type": "stream",
     "text": [
      "Creating factor_talib --------------------------------------| |\u001B[92m✔\u001B[0m\n",
      "Shape: (2109219, 20)\n"
     ]
    }
   ],
   "source": [
    "talib = PrepFactor(factor_name='factor_talib', interval='D', kind='price', tickers=tickers, div=False, start=start, end=end, save=True).prep()"
   ]
  },
  {
   "cell_type": "code",
   "execution_count": 8,
   "id": "10d229f6",
   "metadata": {
    "ExecuteTime": {
     "end_time": "2023-08-20T02:33:34.997168300Z",
     "start_time": "2023-08-20T02:33:31.959557500Z"
    }
   },
   "outputs": [
    {
     "name": "stdout",
     "output_type": "stream",
     "text": [
      "Creating factor_ind ----------------------------------------| -\u001B[92m✔\u001B[0m\n",
      "Shape: (2109219, 2)\n"
     ]
    }
   ],
   "source": [
    "ind = PrepFactor(factor_name='factor_ind', interval='D', kind='ind', tickers=tickers, div=False, start=start, end=end, save=True).prep()"
   ]
  },
  {
   "cell_type": "code",
   "execution_count": 31,
   "id": "bb150641",
   "metadata": {
    "ExecuteTime": {
     "end_time": "2023-08-20T03:42:15.631353300Z",
     "start_time": "2023-08-20T03:42:12.039402600Z"
    }
   },
   "outputs": [
    {
     "name": "stdout",
     "output_type": "stream",
     "text": [
      "Creating factor_fund_ratio ---------------------------------| \u001B[92m✔\u001B[0m\n",
      "/Shape: (2084791, 87)\n"
     ]
    }
   ],
   "source": [
    "fund_ratio = PrepFactor(factor_name='factor_fund_ratio', interval='D', kind='fundamental', tickers=tickers, div=True, start=start, end=end, save=True).prep()"
   ]
  },
  {
   "cell_type": "code",
   "execution_count": 10,
   "id": "4d0a7bfd",
   "metadata": {
    "ExecuteTime": {
     "end_time": "2023-08-20T02:36:17.044882400Z",
     "start_time": "2023-08-20T02:36:11.897275100Z"
    }
   },
   "outputs": [
    {
     "name": "stdout",
     "output_type": "stream",
     "text": [
      "Creating factor_macro --------------------------------------/| \u001B[92m✔\u001B[0m\n",
      "Shape: (2601861, 12)\n",
      "/"
     ]
    }
   ],
   "source": [
    "macro = PrepFactor(factor_name='factor_macro', interval='D', kind='macro', tickers=tickers, div=False, start=start, end=end, save=True).prep()"
   ]
  },
  {
   "cell_type": "code",
   "execution_count": 2,
   "id": "4b59dc86",
   "metadata": {
    "ExecuteTime": {
     "end_time": "2023-08-20T02:37:29.208839Z",
     "start_time": "2023-08-20T02:37:15.515563500Z"
    }
   },
   "outputs": [
    {
     "name": "stdout",
     "output_type": "stream",
     "text": [
      "Creating factor_ret ---------------------------------------- | \u001B[92m✔\u001B[0m\n",
      "Shape: (2109219, 11)\n"
     ]
    }
   ],
   "source": [
    "ret = PrepFactor(factor_name='factor_ret', interval='D', kind='price', tickers=tickers, div=False, start=start, end=end, save=True).prep()"
   ]
  },
  {
   "cell_type": "code",
   "execution_count": 3,
   "outputs": [
    {
     "name": "stdout",
     "output_type": "stream",
     "text": [
      "Creating factor_volume ------------------------------------- | \u001B[92m✔\u001B[0m\n",
      "Shape: (2109219, 5)\n"
     ]
    }
   ],
   "source": [
    "volume = PrepFactor(factor_name='factor_volume', interval='D', kind='price', div=False, tickers=tickers, start=start, end=end, save=True).prep()"
   ],
   "metadata": {
    "collapsed": false,
    "ExecuteTime": {
     "end_time": "2023-08-20T02:37:36.757464200Z",
     "start_time": "2023-08-20T02:37:32.261955Z"
    }
   },
   "id": "41abbb3d8f2ab46a"
  },
  {
   "cell_type": "code",
   "execution_count": 4,
   "id": "28ae0010",
   "metadata": {
    "ExecuteTime": {
     "end_time": "2023-08-20T02:37:53.653052300Z",
     "start_time": "2023-08-20T02:37:36.757464200Z"
    }
   },
   "outputs": [
    {
     "name": "stdout",
     "output_type": "stream",
     "text": [
      "Creating factor_volatility --------------------------------- | \u001B[92m✔\u001B[0m\n",
      "Shape: (2109219, 11)\n"
     ]
    }
   ],
   "source": [
    "vol = PrepFactor(factor_name='factor_volatility', interval='D', kind='price', tickers=tickers, div=False, start=start, end=end, save=True).prep()"
   ]
  },
  {
   "cell_type": "code",
   "execution_count": 6,
   "id": "be3de686",
   "metadata": {
    "ExecuteTime": {
     "end_time": "2023-08-20T02:38:04.930543500Z",
     "start_time": "2023-08-20T02:38:01.958730300Z"
    }
   },
   "outputs": [
    {
     "name": "stdout",
     "output_type": "stream",
     "text": [
      "Creating factor_ind_mom ------------------------------------| \u001B[92m✔\u001B[0m\n",
      "\\Shape: (2109219, 1)\n"
     ]
    }
   ],
   "source": [
    "ind_mom = PrepFactor(factor_name='factor_ind_mom', interval='D', kind='ind', tickers=tickers, div=False, start=start, end=end, save=True).prep()"
   ]
  },
  {
   "cell_type": "code",
   "execution_count": 9,
   "id": "c6077744",
   "metadata": {
    "ExecuteTime": {
     "end_time": "2023-08-20T02:38:32.606251400Z",
     "start_time": "2023-08-20T02:38:21.951178800Z"
    }
   },
   "outputs": [
    {
     "name": "stdout",
     "output_type": "stream",
     "text": [
      "Creating factor_sb_fama -------------------------------------| \u001B[92m✔\u001B[0m\n",
      "Shape: (2109219, 14)\n",
      "-"
     ]
    }
   ],
   "source": [
    "sb_fama = PrepFactor(factor_name='factor_sb_fama', interval='D', kind='price', tickers=tickers, div=False, start=start, end=end, save=True).prep()"
   ]
  },
  {
   "cell_type": "code",
   "execution_count": 10,
   "id": "2a449d33",
   "metadata": {
    "ExecuteTime": {
     "end_time": "2023-08-20T02:38:49.332605700Z",
     "start_time": "2023-08-20T02:38:33.766548600Z"
    }
   },
   "outputs": [
    {
     "name": "stdout",
     "output_type": "stream",
     "text": [
      "Creating factor_sb_etf -------------------------------------\\| \u001B[92m✔\u001B[0m\n",
      "Shape: (2109219, 24)\n",
      "|"
     ]
    }
   ],
   "source": [
    "sb_etf = PrepFactor(factor_name='factor_sb_etf', interval='D', kind='price', div=False, tickers=tickers, start=start, end=end, save=True).prep()"
   ]
  },
  {
   "cell_type": "code",
   "execution_count": 24,
   "id": "c3fe7d6c",
   "metadata": {
    "ExecuteTime": {
     "end_time": "2023-08-20T03:26:53.402116600Z",
     "start_time": "2023-08-20T03:26:38.061448100Z"
    }
   },
   "outputs": [
    {
     "name": "stdout",
     "output_type": "stream",
     "text": [
      "|Creating factor_rf_ret --------------------------------------| \u001B[92m✔\u001B[0m\n",
      "Shape: (2109219, 24)\n",
      "\\"
     ]
    }
   ],
   "source": [
    "rf_ret = PrepFactor(factor_name='factor_rf_ret', interval='D', kind='price', div=False, tickers=tickers, start=start, end=end, save=True).prep()"
   ]
  },
  {
   "cell_type": "code",
   "execution_count": 20,
   "id": "5b17f50f",
   "metadata": {
    "ExecuteTime": {
     "end_time": "2023-08-20T02:44:52.639983300Z",
     "start_time": "2023-08-20T02:44:45.571174Z"
    }
   },
   "outputs": [
    {
     "name": "stdout",
     "output_type": "stream",
     "text": [
      "Creating factor_load_ret -----------------------------------/| \u001B[92m✔\u001B[0m\n",
      "Shape: (2111975, 5)\n"
     ]
    }
   ],
   "source": [
    "load_ret = PrepFactor(factor_name='factor_load_ret', interval='D', kind='loading', tickers=tickers, div=False, start=start, end=end, save=True).prep()"
   ]
  },
  {
   "cell_type": "code",
   "execution_count": 21,
   "id": "52358edc",
   "metadata": {
    "ExecuteTime": {
     "end_time": "2023-08-20T02:44:55.660047200Z",
     "start_time": "2023-08-20T02:44:52.639983300Z"
    }
   },
   "outputs": [
    {
     "name": "stdout",
     "output_type": "stream",
     "text": [
      "Creating factor_clust_ret ----------------------------------\\||\u001B[92m✔\u001B[0m\n",
      "Shape: (2110888, 1)\n"
     ]
    }
   ],
   "source": [
    "clust_ret = PrepFactor(factor_name='factor_clust_ret', interval='D', kind='cluster', tickers=tickers, div=False, start=start, end=end, save=True).prep()"
   ]
  },
  {
   "cell_type": "code",
   "execution_count": 22,
   "id": "cf0a9399",
   "metadata": {
    "ExecuteTime": {
     "end_time": "2023-08-20T02:44:58.912137200Z",
     "start_time": "2023-08-20T02:44:55.628886Z"
    }
   },
   "outputs": [
    {
     "name": "stdout",
     "output_type": "stream",
     "text": [
      "Creating factor_clust_load_ret -----------------------------/|-\u001B[92m✔\u001B[0m\n",
      "Shape: (2112680, 5)\n"
     ]
    }
   ],
   "source": [
    "clust_load_ret = PrepFactor(factor_name='factor_clust_load_ret', interval='D', kind='cluster', tickers=tickers, div=False, start=start, end=end, save=True).prep()"
   ]
  },
  {
   "cell_type": "code",
   "execution_count": 19,
   "outputs": [
    {
     "name": "stdout",
     "output_type": "stream",
     "text": [
      "Creating factor_open_asset ---------------------------------/|-\u001B[92m✔\u001B[0m\n",
      "Shape: (2108383, 12)\n"
     ]
    }
   ],
   "source": [
    "open_asset = PrepFactor(factor_name='factor_open_asset', interval='M', kind='open', tickers='all', div=False, start=start, end=end, save=True).prep()"
   ],
   "metadata": {
    "collapsed": false,
    "ExecuteTime": {
     "end_time": "2023-08-20T02:44:35.569616300Z",
     "start_time": "2023-08-20T02:44:15.103650600Z"
    }
   },
   "id": "198e593d6cf647c3"
  },
  {
   "cell_type": "code",
   "execution_count": 18,
   "outputs": [
    {
     "name": "stdout",
     "output_type": "stream",
     "text": [
      "Creating factor_streversal ---------------------------------/|-\u001B[92m✔\u001B[0m\n",
      "Shape: (2109219, 2)\n"
     ]
    }
   ],
   "source": [
    "streversal = PrepFactor(factor_name='factor_streversal', interval='D', kind='price', tickers=tickers, div=False, start=start, end=end, save=True).prep()"
   ],
   "metadata": {
    "collapsed": false,
    "ExecuteTime": {
     "end_time": "2023-08-20T02:44:09.921444700Z",
     "start_time": "2023-08-20T02:44:06.669324200Z"
    }
   },
   "id": "57ebf9035fdac853"
  },
  {
   "cell_type": "code",
   "execution_count": 17,
   "outputs": [
    {
     "name": "stdout",
     "output_type": "stream",
     "text": [
      "Creating factor_rank ---------------------------------------/| \u001B[92m✔\u001B[0m\n",
      "Shape: (2109219, 3)\n"
     ]
    }
   ],
   "source": [
    "rank = PrepFactor(factor_name='factor_rank', interval='D', kind='price', tickers=tickers, div=False, start=start, end=end, save=True).prep()"
   ],
   "metadata": {
    "collapsed": false,
    "ExecuteTime": {
     "end_time": "2023-08-20T02:44:06.692652300Z",
     "start_time": "2023-08-20T02:44:03.056311200Z"
    }
   },
   "id": "10476ff4d58ed38b"
  },
  {
   "cell_type": "code",
   "execution_count": 15,
   "outputs": [
    {
     "name": "stdout",
     "output_type": "stream",
     "text": [
      "Creating factor_sb_bond ------------------------------------/| \u001B[92m✔\u001B[0m\n",
      "Shape: (2109219, 22)\n"
     ]
    }
   ],
   "source": [
    "sb_bond = PrepFactor(factor_name='factor_sb_bond', interval='D', kind='price', tickers=tickers, div=False, start=start, end=end, save=True).prep()"
   ],
   "metadata": {
    "collapsed": false,
    "ExecuteTime": {
     "end_time": "2023-08-20T02:43:36.858109100Z",
     "start_time": "2023-08-20T02:43:18.642098100Z"
    }
   },
   "id": "b0a2bfa18a5955f3"
  },
  {
   "cell_type": "code",
   "execution_count": 14,
   "outputs": [
    {
     "name": "stdout",
     "output_type": "stream",
     "text": [
      "Creating factor_sign ---------------------------------------/| \u001B[92m✔\u001B[0m\n",
      "Shape: (2109219, 3)\n",
      "/"
     ]
    }
   ],
   "source": [
    "sign = PrepFactor(factor_name='factor_sign', interval='D', kind='price', tickers=tickers, div=False, start=start, end=end, save=True).prep()"
   ],
   "metadata": {
    "collapsed": false,
    "ExecuteTime": {
     "end_time": "2023-08-20T02:43:16.581410800Z",
     "start_time": "2023-08-20T02:43:13.519555Z"
    }
   },
   "id": "6fbfc030909a304d"
  },
  {
   "cell_type": "code",
   "execution_count": 26,
   "outputs": [
    {
     "name": "stdout",
     "output_type": "stream",
     "text": [
      "Creating factor_rf_volume ----------------------------------/| \u001B[92m✔\u001B[0m\n",
      "Shape: (2109219, 24)\n"
     ]
    }
   ],
   "source": [
    "rf_volume = PrepFactor(factor_name='factor_rf_volume', interval='D', kind='price', tickers=tickers, div=False, start=start, end=end, save=True).prep()"
   ],
   "metadata": {
    "collapsed": false,
    "ExecuteTime": {
     "end_time": "2023-08-20T03:27:30.974738300Z",
     "start_time": "2023-08-20T03:27:17.133277400Z"
    }
   },
   "id": "7c1f3f64aa266dd9"
  },
  {
   "cell_type": "code",
   "execution_count": 27,
   "outputs": [
    {
     "name": "stdout",
     "output_type": "stream",
     "text": [
      "Creating factor_rf_sign ------------------------------------\\||\u001B[92m✔\u001B[0m\n",
      "Shape: (2109219, 24)\n"
     ]
    }
   ],
   "source": [
    "rf_sign = PrepFactor(factor_name='factor_rf_sign', interval='D', kind='price', tickers=tickers, div=False, start=start, end=end, save=True).prep()"
   ],
   "metadata": {
    "collapsed": false,
    "ExecuteTime": {
     "end_time": "2023-08-20T03:27:44.742463700Z",
     "start_time": "2023-08-20T03:27:30.974738300Z"
    }
   },
   "id": "911cc0884e1edcba"
  },
  {
   "cell_type": "code",
   "execution_count": 12,
   "outputs": [
    {
     "name": "stdout",
     "output_type": "stream",
     "text": [
      "Creating factor_sb_spy_inv ---------------------------------\\|/\u001B[92m✔\u001B[0m\n",
      "Shape: (2109219, 2)\n"
     ]
    }
   ],
   "source": [
    "sb_spy_inv = PrepFactor(factor_name='factor_sb_spy_inv', interval='D', kind='price', tickers=tickers, div=False, start=start, end=end, save=True).prep()"
   ],
   "metadata": {
    "collapsed": false,
    "ExecuteTime": {
     "end_time": "2023-08-20T02:43:03.874695100Z",
     "start_time": "2023-08-20T02:42:58.606911800Z"
    }
   },
   "id": "5e5501bba1bc94ba"
  }
 ],
 "metadata": {
  "kernelspec": {
   "display_name": "quantPycharm",
   "language": "python",
   "name": "quantpycharm"
  },
  "language_info": {
   "codemirror_mode": {
    "name": "ipython",
    "version": 3
   },
   "file_extension": ".py",
   "mimetype": "text/x-python",
   "name": "python",
   "nbconvert_exporter": "python",
   "pygments_lexer": "ipython3",
   "version": "3.10.11"
  }
 },
 "nbformat": 4,
 "nbformat_minor": 5
}
