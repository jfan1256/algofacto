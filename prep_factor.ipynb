{
 "cells": [
  {
   "cell_type": "markdown",
   "id": "78b9128d608b8094",
   "metadata": {},
   "source": [
    "# Prep Factors"
   ]
  },
  {
   "cell_type": "code",
   "execution_count": 1,
   "id": "e04cbf10",
   "metadata": {
    "ExecuteTime": {
     "end_time": "2023-08-28T02:14:33.631198Z",
     "start_time": "2023-08-28T02:14:32.202267600Z"
    }
   },
   "outputs": [],
   "source": [
    "from functions.utils.func import *\n",
    "\n",
    "from prep_factor import PrepFactor\n",
    "\n",
    "stock = read_stock(get_load_data_large_dir() / 'permno_to_train_fund.csv')\n",
    "start='2007-01-01'\n",
    "end = '2023-01-01'"
   ]
  },
  {
   "cell_type": "code",
   "execution_count": 3,
   "id": "99130ac6",
   "metadata": {
    "ExecuteTime": {
     "end_time": "2023-08-20T02:32:11.978042700Z",
     "start_time": "2023-08-20T02:32:09.147997300Z"
    }
   },
   "outputs": [
    {
     "name": "stdout",
     "output_type": "stream",
     "text": [
      "Creating factor_time --------------------------------------- | \u001b[92m✔\u001b[0m\n",
      "Shape: (3239809, 5)\n"
     ]
    }
   ],
   "source": [
    "cycle = PrepFactor(factor_name='factor_time', group='permno', interval='D', kind='price', stock=stock, div=False, start=start, end=end, save=True).prep()"
   ]
  },
  {
   "cell_type": "code",
   "execution_count": 61,
   "id": "4b59dc86",
   "metadata": {
    "ExecuteTime": {
     "end_time": "2023-08-20T02:37:29.208839Z",
     "start_time": "2023-08-20T02:37:15.515563500Z"
    }
   },
   "outputs": [
    {
     "name": "stdout",
     "output_type": "stream",
     "text": [
      "Creating factor_ret ----------------------------------------| \u001b[92m✔\u001b[0m\n",
      "|Shape: (3239809, 11)\n",
      "--"
     ]
    }
   ],
   "source": [
    "ret = PrepFactor(factor_name='factor_ret', group='permno', interval='D', kind='price', stock=stock, div=False, start=start, end=end, save=True).prep()"
   ]
  },
  {
   "cell_type": "code",
   "execution_count": 65,
   "id": "2c438a4b-12e2-456d-89fb-f2609886fa24",
   "metadata": {},
   "outputs": [
    {
     "name": "stdout",
     "output_type": "stream",
     "text": [
      "\b\\"
     ]
    }
   ],
   "source": [
    "ohclv = pd.read_parquet(get_load_data_parquet_dir() / 'data_price.parquet.brotli')"
   ]
  },
  {
   "cell_type": "code",
   "execution_count": 70,
   "id": "37c0f5d6-9de1-4a78-9f87-a40fa9656453",
   "metadata": {},
   "outputs": [
    {
     "name": "stdout",
     "output_type": "stream",
     "text": [
      "\b|"
     ]
    },
    {
     "data": {
      "text/html": [
       "<div>\n",
       "<style scoped>\n",
       "    .dataframe tbody tr th:only-of-type {\n",
       "        vertical-align: middle;\n",
       "    }\n",
       "\n",
       "    .dataframe tbody tr th {\n",
       "        vertical-align: top;\n",
       "    }\n",
       "\n",
       "    .dataframe thead th {\n",
       "        text-align: right;\n",
       "    }\n",
       "</style>\n",
       "<table border=\"1\" class=\"dataframe\">\n",
       "  <thead>\n",
       "    <tr style=\"text-align: right;\">\n",
       "      <th></th>\n",
       "      <th></th>\n",
       "      <th>ticker</th>\n",
       "    </tr>\n",
       "    <tr>\n",
       "      <th>permno</th>\n",
       "      <th>date</th>\n",
       "      <th></th>\n",
       "    </tr>\n",
       "  </thead>\n",
       "  <tbody>\n",
       "    <tr>\n",
       "      <th rowspan=\"5\" valign=\"top\">10078</th>\n",
       "      <th>2005-01-03</th>\n",
       "      <td>SUNW</td>\n",
       "    </tr>\n",
       "    <tr>\n",
       "      <th>2005-01-04</th>\n",
       "      <td>SUNW</td>\n",
       "    </tr>\n",
       "    <tr>\n",
       "      <th>2005-01-05</th>\n",
       "      <td>SUNW</td>\n",
       "    </tr>\n",
       "    <tr>\n",
       "      <th>2005-01-06</th>\n",
       "      <td>SUNW</td>\n",
       "    </tr>\n",
       "    <tr>\n",
       "      <th>2005-01-07</th>\n",
       "      <td>SUNW</td>\n",
       "    </tr>\n",
       "    <tr>\n",
       "      <th>...</th>\n",
       "      <th>...</th>\n",
       "      <td>...</td>\n",
       "    </tr>\n",
       "    <tr>\n",
       "      <th rowspan=\"5\" valign=\"top\">93436</th>\n",
       "      <th>2022-12-23</th>\n",
       "      <td>TSLA</td>\n",
       "    </tr>\n",
       "    <tr>\n",
       "      <th>2022-12-27</th>\n",
       "      <td>TSLA</td>\n",
       "    </tr>\n",
       "    <tr>\n",
       "      <th>2022-12-28</th>\n",
       "      <td>TSLA</td>\n",
       "    </tr>\n",
       "    <tr>\n",
       "      <th>2022-12-29</th>\n",
       "      <td>TSLA</td>\n",
       "    </tr>\n",
       "    <tr>\n",
       "      <th>2022-12-30</th>\n",
       "      <td>TSLA</td>\n",
       "    </tr>\n",
       "  </tbody>\n",
       "</table>\n",
       "<p>4047711 rows × 1 columns</p>\n",
       "</div>"
      ],
      "text/plain": [
       "                  ticker\n",
       "permno date             \n",
       "10078  2005-01-03   SUNW\n",
       "       2005-01-04   SUNW\n",
       "       2005-01-05   SUNW\n",
       "       2005-01-06   SUNW\n",
       "       2005-01-07   SUNW\n",
       "...                  ...\n",
       "93436  2022-12-23   TSLA\n",
       "       2022-12-27   TSLA\n",
       "       2022-12-28   TSLA\n",
       "       2022-12-29   TSLA\n",
       "       2022-12-30   TSLA\n",
       "\n",
       "[4047711 rows x 1 columns]"
      ]
     },
     "execution_count": 70,
     "metadata": {},
     "output_type": "execute_result"
    },
    {
     "name": "stdout",
     "output_type": "stream",
     "text": []
    },
    {
     "name": "stdout",
     "output_type": "stream",
     "text": [
      "\\\\"
     ]
    }
   ],
   "source": [
    "ticker = pd.read_parquet(get_load_data_parquet_dir() / 'data_ticker.parquet.brotli')\n",
    "ticker"
   ]
  },
  {
   "cell_type": "code",
   "execution_count": 85,
   "id": "b386bfe4-4bd5-4e9e-91d2-332846dc276a",
   "metadata": {},
   "outputs": [
    {
     "data": {
      "text/html": [
       "<div>\n",
       "<style scoped>\n",
       "    .dataframe tbody tr th:only-of-type {\n",
       "        vertical-align: middle;\n",
       "    }\n",
       "\n",
       "    .dataframe tbody tr th {\n",
       "        vertical-align: top;\n",
       "    }\n",
       "\n",
       "    .dataframe thead th {\n",
       "        text-align: right;\n",
       "    }\n",
       "</style>\n",
       "<table border=\"1\" class=\"dataframe\">\n",
       "  <thead>\n",
       "    <tr style=\"text-align: right;\">\n",
       "      <th></th>\n",
       "      <th></th>\n",
       "      <th>ticker</th>\n",
       "    </tr>\n",
       "    <tr>\n",
       "      <th>permno</th>\n",
       "      <th>date</th>\n",
       "      <th></th>\n",
       "    </tr>\n",
       "  </thead>\n",
       "  <tbody>\n",
       "    <tr>\n",
       "      <th rowspan=\"11\" valign=\"top\">93436</th>\n",
       "      <th>2020-11-05</th>\n",
       "      <td>TSLA</td>\n",
       "    </tr>\n",
       "    <tr>\n",
       "      <th>2020-11-06</th>\n",
       "      <td>TSLA</td>\n",
       "    </tr>\n",
       "    <tr>\n",
       "      <th>2020-11-09</th>\n",
       "      <td>TSLA</td>\n",
       "    </tr>\n",
       "    <tr>\n",
       "      <th>2020-11-10</th>\n",
       "      <td>TSLA</td>\n",
       "    </tr>\n",
       "    <tr>\n",
       "      <th>2020-11-11</th>\n",
       "      <td>TSLA</td>\n",
       "    </tr>\n",
       "    <tr>\n",
       "      <th>...</th>\n",
       "      <td>...</td>\n",
       "    </tr>\n",
       "    <tr>\n",
       "      <th>2022-11-08</th>\n",
       "      <td>TSLA</td>\n",
       "    </tr>\n",
       "    <tr>\n",
       "      <th>2022-11-09</th>\n",
       "      <td>TSLA</td>\n",
       "    </tr>\n",
       "    <tr>\n",
       "      <th>2022-11-10</th>\n",
       "      <td>TSLA</td>\n",
       "    </tr>\n",
       "    <tr>\n",
       "      <th>2022-11-11</th>\n",
       "      <td>TSLA</td>\n",
       "    </tr>\n",
       "    <tr>\n",
       "      <th>2022-11-14</th>\n",
       "      <td>TSLA</td>\n",
       "    </tr>\n",
       "  </tbody>\n",
       "</table>\n",
       "<p>510 rows × 1 columns</p>\n",
       "</div>"
      ],
      "text/plain": [
       "                  ticker\n",
       "permno date             \n",
       "93436  2020-11-05   TSLA\n",
       "       2020-11-06   TSLA\n",
       "       2020-11-09   TSLA\n",
       "       2020-11-10   TSLA\n",
       "       2020-11-11   TSLA\n",
       "...                  ...\n",
       "       2022-11-08   TSLA\n",
       "       2022-11-09   TSLA\n",
       "       2022-11-10   TSLA\n",
       "       2022-11-11   TSLA\n",
       "       2022-11-14   TSLA\n",
       "\n",
       "[510 rows x 1 columns]"
      ]
     },
     "execution_count": 85,
     "metadata": {},
     "output_type": "execute_result"
    },
    {
     "name": "stdout",
     "output_type": "stream",
     "text": [
      "--"
     ]
    }
   ],
   "source": [
    "x = get_stock_data(ticker, 93436)\n",
    "x = set_timeframe(x, '2020-11-05', '2022-11-14')\n",
    "x"
   ]
  },
  {
   "cell_type": "code",
   "execution_count": 78,
   "id": "5bf66033-7d8f-473e-a40e-bd6fd527474f",
   "metadata": {},
   "outputs": [
    {
     "name": "stdout",
     "output_type": "stream",
     "text": [
      "\b|"
     ]
    }
   ],
   "source": [
    "y = get_stock_data(ohclv, 93436)\n",
    "# y = set_timeframe(y, '2007-11-05', '2007-11-14')"
   ]
  },
  {
   "cell_type": "code",
   "execution_count": 84,
   "id": "6e81b137-2c8a-4dbe-8471-85240e2c9b45",
   "metadata": {},
   "outputs": [
    {
     "data": {
      "text/html": [
       "<div>\n",
       "<style scoped>\n",
       "    .dataframe tbody tr th:only-of-type {\n",
       "        vertical-align: middle;\n",
       "    }\n",
       "\n",
       "    .dataframe tbody tr th {\n",
       "        vertical-align: top;\n",
       "    }\n",
       "\n",
       "    .dataframe thead th {\n",
       "        text-align: right;\n",
       "    }\n",
       "</style>\n",
       "<table border=\"1\" class=\"dataframe\">\n",
       "  <thead>\n",
       "    <tr style=\"text-align: right;\">\n",
       "      <th></th>\n",
       "      <th></th>\n",
       "      <th>Open</th>\n",
       "      <th>High</th>\n",
       "      <th>Low</th>\n",
       "      <th>Close</th>\n",
       "      <th>Volume</th>\n",
       "    </tr>\n",
       "    <tr>\n",
       "      <th>permno</th>\n",
       "      <th>date</th>\n",
       "      <th></th>\n",
       "      <th></th>\n",
       "      <th></th>\n",
       "      <th></th>\n",
       "      <th></th>\n",
       "    </tr>\n",
       "  </thead>\n",
       "  <tbody>\n",
       "    <tr>\n",
       "      <th rowspan=\"11\" valign=\"top\">93436</th>\n",
       "      <th>2020-06-10</th>\n",
       "      <td>991.88000</td>\n",
       "      <td>1027.47998</td>\n",
       "      <td>982.50000</td>\n",
       "      <td>1025.05005</td>\n",
       "      <td>18502866.0</td>\n",
       "    </tr>\n",
       "    <tr>\n",
       "      <th>2020-06-18</th>\n",
       "      <td>1003.00000</td>\n",
       "      <td>1019.20001</td>\n",
       "      <td>994.47083</td>\n",
       "      <td>1003.96002</td>\n",
       "      <td>9734252.0</td>\n",
       "    </tr>\n",
       "    <tr>\n",
       "      <th>2020-06-19</th>\n",
       "      <td>1012.78003</td>\n",
       "      <td>1015.96991</td>\n",
       "      <td>991.34003</td>\n",
       "      <td>1000.90002</td>\n",
       "      <td>8661989.0</td>\n",
       "    </tr>\n",
       "    <tr>\n",
       "      <th>2020-06-23</th>\n",
       "      <td>998.88000</td>\n",
       "      <td>1012.00000</td>\n",
       "      <td>994.01007</td>\n",
       "      <td>1001.78003</td>\n",
       "      <td>6351083.0</td>\n",
       "    </tr>\n",
       "    <tr>\n",
       "      <th>2020-06-29</th>\n",
       "      <td>969.01001</td>\n",
       "      <td>1010.00000</td>\n",
       "      <td>948.52008</td>\n",
       "      <td>1009.34998</td>\n",
       "      <td>9000317.0</td>\n",
       "    </tr>\n",
       "    <tr>\n",
       "      <th>...</th>\n",
       "      <td>...</td>\n",
       "      <td>...</td>\n",
       "      <td>...</td>\n",
       "      <td>...</td>\n",
       "      <td>...</td>\n",
       "    </tr>\n",
       "    <tr>\n",
       "      <th>2022-04-13</th>\n",
       "      <td>981.07501</td>\n",
       "      <td>1026.23999</td>\n",
       "      <td>973.09698</td>\n",
       "      <td>1022.37000</td>\n",
       "      <td>18315090.0</td>\n",
       "    </tr>\n",
       "    <tr>\n",
       "      <th>2022-04-18</th>\n",
       "      <td>989.03003</td>\n",
       "      <td>1014.91998</td>\n",
       "      <td>973.40997</td>\n",
       "      <td>1004.28998</td>\n",
       "      <td>17183467.0</td>\n",
       "    </tr>\n",
       "    <tr>\n",
       "      <th>2022-04-19</th>\n",
       "      <td>1005.06000</td>\n",
       "      <td>1034.93994</td>\n",
       "      <td>995.32501</td>\n",
       "      <td>1028.15002</td>\n",
       "      <td>16558682.0</td>\n",
       "    </tr>\n",
       "    <tr>\n",
       "      <th>2022-04-21</th>\n",
       "      <td>1074.72998</td>\n",
       "      <td>1092.21997</td>\n",
       "      <td>996.41498</td>\n",
       "      <td>1008.78003</td>\n",
       "      <td>34985364.0</td>\n",
       "    </tr>\n",
       "    <tr>\n",
       "      <th>2022-04-22</th>\n",
       "      <td>1014.90997</td>\n",
       "      <td>1034.84998</td>\n",
       "      <td>994.00012</td>\n",
       "      <td>1005.04999</td>\n",
       "      <td>23158275.0</td>\n",
       "    </tr>\n",
       "  </tbody>\n",
       "</table>\n",
       "<p>117 rows × 5 columns</p>\n",
       "</div>"
      ],
      "text/plain": [
       "                         Open        High        Low       Close      Volume\n",
       "permno date                                                                 \n",
       "93436  2020-06-10   991.88000  1027.47998  982.50000  1025.05005  18502866.0\n",
       "       2020-06-18  1003.00000  1019.20001  994.47083  1003.96002   9734252.0\n",
       "       2020-06-19  1012.78003  1015.96991  991.34003  1000.90002   8661989.0\n",
       "       2020-06-23   998.88000  1012.00000  994.01007  1001.78003   6351083.0\n",
       "       2020-06-29   969.01001  1010.00000  948.52008  1009.34998   9000317.0\n",
       "...                       ...         ...        ...         ...         ...\n",
       "       2022-04-13   981.07501  1026.23999  973.09698  1022.37000  18315090.0\n",
       "       2022-04-18   989.03003  1014.91998  973.40997  1004.28998  17183467.0\n",
       "       2022-04-19  1005.06000  1034.93994  995.32501  1028.15002  16558682.0\n",
       "       2022-04-21  1074.72998  1092.21997  996.41498  1008.78003  34985364.0\n",
       "       2022-04-22  1014.90997  1034.84998  994.00012  1005.04999  23158275.0\n",
       "\n",
       "[117 rows x 5 columns]"
      ]
     },
     "execution_count": 84,
     "metadata": {},
     "output_type": "execute_result"
    },
    {
     "name": "stdout",
     "output_type": "stream",
     "text": [
      "\\\\"
     ]
    }
   ],
   "source": [
    "y.loc[y.Close>1000]"
   ]
  },
  {
   "cell_type": "code",
   "execution_count": 80,
   "id": "4e05f851-7143-47da-a731-765e17827882",
   "metadata": {},
   "outputs": [
    {
     "data": {
      "text/plain": [
       "<AxesSubplot:xlabel='permno,date'>"
      ]
     },
     "execution_count": 80,
     "metadata": {},
     "output_type": "execute_result"
    },
    {
     "name": "stdout",
     "output_type": "stream",
     "text": [
      "\b-"
     ]
    },
    {
     "data": {
      "image/png": "[encoded data removed]",
      "text/plain": [
       "<Figure size 3000x1000 with 1 Axes>"
      ]
     },
     "metadata": {},
     "output_type": "display_data"
    },
    {
     "name": "stdout",
     "output_type": "stream",
     "text": [
      "\b|"
     ]
    }
   ],
   "source": [
    "y.Close.plot(figsize=(30,10))"
   ]
  },
  {
   "cell_type": "code",
   "execution_count": 64,
   "id": "e89c74c8-0b3c-4281-8d86-e6423a43a690",
   "metadata": {},
   "outputs": [
    {
     "data": {
      "text/html": [
       "<div>\n",
       "<style scoped>\n",
       "    .dataframe tbody tr th:only-of-type {\n",
       "        vertical-align: middle;\n",
       "    }\n",
       "\n",
       "    .dataframe tbody tr th {\n",
       "        vertical-align: top;\n",
       "    }\n",
       "\n",
       "    .dataframe thead th {\n",
       "        text-align: right;\n",
       "    }\n",
       "</style>\n",
       "<table border=\"1\" class=\"dataframe\">\n",
       "  <thead>\n",
       "    <tr style=\"text-align: right;\">\n",
       "      <th></th>\n",
       "      <th></th>\n",
       "      <th>RET_01</th>\n",
       "      <th>RET_02</th>\n",
       "      <th>RET_03</th>\n",
       "      <th>RET_04</th>\n",
       "      <th>RET_05</th>\n",
       "      <th>RET_10</th>\n",
       "      <th>RET_20</th>\n",
       "      <th>RET_40</th>\n",
       "      <th>RET_60</th>\n",
       "      <th>RET_120</th>\n",
       "      <th>RET_210</th>\n",
       "    </tr>\n",
       "    <tr>\n",
       "      <th>permno</th>\n",
       "      <th>date</th>\n",
       "      <th></th>\n",
       "      <th></th>\n",
       "      <th></th>\n",
       "      <th></th>\n",
       "      <th></th>\n",
       "      <th></th>\n",
       "      <th></th>\n",
       "      <th></th>\n",
       "      <th></th>\n",
       "      <th></th>\n",
       "      <th></th>\n",
       "    </tr>\n",
       "  </thead>\n",
       "  <tbody>\n",
       "    <tr>\n",
       "      <th rowspan=\"5\" valign=\"top\">10078</th>\n",
       "      <th>2007-11-12</th>\n",
       "      <td>2.990272</td>\n",
       "      <td>2.951830</td>\n",
       "      <td>2.929119</td>\n",
       "      <td>2.974806</td>\n",
       "      <td>2.591944</td>\n",
       "      <td>2.476271</td>\n",
       "      <td>2.356792</td>\n",
       "      <td>2.604569</td>\n",
       "      <td>3.299790</td>\n",
       "      <td>2.812268</td>\n",
       "      <td>2.384488</td>\n",
       "    </tr>\n",
       "    <tr>\n",
       "      <th>2008-09-30</th>\n",
       "      <td>0.125926</td>\n",
       "      <td>-0.005236</td>\n",
       "      <td>-0.045226</td>\n",
       "      <td>-0.028133</td>\n",
       "      <td>-0.020619</td>\n",
       "      <td>-0.097387</td>\n",
       "      <td>-0.155556</td>\n",
       "      <td>-0.174810</td>\n",
       "      <td>-0.295644</td>\n",
       "      <td>-0.503268</td>\n",
       "      <td>-0.631961</td>\n",
       "    </tr>\n",
       "    <tr>\n",
       "      <th>2008-10-13</th>\n",
       "      <td>0.195833</td>\n",
       "      <td>0.101727</td>\n",
       "      <td>0.014134</td>\n",
       "      <td>-0.028765</td>\n",
       "      <td>-0.130303</td>\n",
       "      <td>-0.149630</td>\n",
       "      <td>-0.346241</td>\n",
       "      <td>-0.471455</td>\n",
       "      <td>-0.394515</td>\n",
       "      <td>-0.627756</td>\n",
       "      <td>-0.698688</td>\n",
       "    </tr>\n",
       "    <tr>\n",
       "      <th>2008-11-13</th>\n",
       "      <td>0.127072</td>\n",
       "      <td>0.012407</td>\n",
       "      <td>-0.016867</td>\n",
       "      <td>-0.028571</td>\n",
       "      <td>-0.040000</td>\n",
       "      <td>-0.228733</td>\n",
       "      <td>-0.227273</td>\n",
       "      <td>-0.496917</td>\n",
       "      <td>-0.593625</td>\n",
       "      <td>-0.687356</td>\n",
       "      <td>-0.737283</td>\n",
       "    </tr>\n",
       "    <tr>\n",
       "      <th>2008-12-02</th>\n",
       "      <td>0.148410</td>\n",
       "      <td>0.025237</td>\n",
       "      <td>0.045016</td>\n",
       "      <td>0.062092</td>\n",
       "      <td>0.015625</td>\n",
       "      <td>-0.099723</td>\n",
       "      <td>-0.329897</td>\n",
       "      <td>-0.507576</td>\n",
       "      <td>-0.630262</td>\n",
       "      <td>-0.715412</td>\n",
       "      <td>-0.811703</td>\n",
       "    </tr>\n",
       "    <tr>\n",
       "      <th>...</th>\n",
       "      <th>...</th>\n",
       "      <td>...</td>\n",
       "      <td>...</td>\n",
       "      <td>...</td>\n",
       "      <td>...</td>\n",
       "      <td>...</td>\n",
       "      <td>...</td>\n",
       "      <td>...</td>\n",
       "      <td>...</td>\n",
       "      <td>...</td>\n",
       "      <td>...</td>\n",
       "      <td>...</td>\n",
       "    </tr>\n",
       "    <tr>\n",
       "      <th rowspan=\"5\" valign=\"top\">93436</th>\n",
       "      <th>2020-11-18</th>\n",
       "      <td>0.101968</td>\n",
       "      <td>0.192482</td>\n",
       "      <td>0.191285</td>\n",
       "      <td>0.181854</td>\n",
       "      <td>0.166639</td>\n",
       "      <td>0.155969</td>\n",
       "      <td>0.151429</td>\n",
       "      <td>0.279420</td>\n",
       "      <td>-0.759487</td>\n",
       "      <td>-0.458145</td>\n",
       "      <td>-0.145586</td>\n",
       "    </tr>\n",
       "    <tr>\n",
       "      <th>2021-03-09</th>\n",
       "      <td>0.196412</td>\n",
       "      <td>0.126482</td>\n",
       "      <td>0.083902</td>\n",
       "      <td>0.031200</td>\n",
       "      <td>-0.018734</td>\n",
       "      <td>-0.036146</td>\n",
       "      <td>-0.219870</td>\n",
       "      <td>-0.234586</td>\n",
       "      <td>0.114313</td>\n",
       "      <td>0.497643</td>\n",
       "      <td>-0.136480</td>\n",
       "    </tr>\n",
       "    <tr>\n",
       "      <th>2021-10-25</th>\n",
       "      <td>0.126616</td>\n",
       "      <td>0.146376</td>\n",
       "      <td>0.183714</td>\n",
       "      <td>0.185810</td>\n",
       "      <td>0.177851</td>\n",
       "      <td>0.294113</td>\n",
       "      <td>0.295062</td>\n",
       "      <td>0.439572</td>\n",
       "      <td>0.491356</td>\n",
       "      <td>0.527499</td>\n",
       "      <td>0.586520</td>\n",
       "    </tr>\n",
       "    <tr>\n",
       "      <th>2022-01-03</th>\n",
       "      <td>0.135317</td>\n",
       "      <td>0.120934</td>\n",
       "      <td>0.104577</td>\n",
       "      <td>0.102263</td>\n",
       "      <td>0.096751</td>\n",
       "      <td>0.286531</td>\n",
       "      <td>0.182084</td>\n",
       "      <td>-0.024498</td>\n",
       "      <td>0.511801</td>\n",
       "      <td>0.836267</td>\n",
       "      <td>1.006489</td>\n",
       "    </tr>\n",
       "    <tr>\n",
       "      <th>2022-01-31</th>\n",
       "      <td>0.106776</td>\n",
       "      <td>0.129803</td>\n",
       "      <td>-0.000736</td>\n",
       "      <td>0.019948</td>\n",
       "      <td>0.007226</td>\n",
       "      <td>-0.107554</td>\n",
       "      <td>-0.113609</td>\n",
       "      <td>-0.136345</td>\n",
       "      <td>-0.228313</td>\n",
       "      <td>0.319343</td>\n",
       "      <td>0.415519</td>\n",
       "    </tr>\n",
       "  </tbody>\n",
       "</table>\n",
       "<p>13501 rows × 11 columns</p>\n",
       "</div>"
      ],
      "text/plain": [
       "                     RET_01    RET_02    RET_03    RET_04    RET_05    RET_10  \\\n",
       "permno date                                                                     \n",
       "10078  2007-11-12  2.990272  2.951830  2.929119  2.974806  2.591944  2.476271   \n",
       "       2008-09-30  0.125926 -0.005236 -0.045226 -0.028133 -0.020619 -0.097387   \n",
       "       2008-10-13  0.195833  0.101727  0.014134 -0.028765 -0.130303 -0.149630   \n",
       "       2008-11-13  0.127072  0.012407 -0.016867 -0.028571 -0.040000 -0.228733   \n",
       "       2008-12-02  0.148410  0.025237  0.045016  0.062092  0.015625 -0.099723   \n",
       "...                     ...       ...       ...       ...       ...       ...   \n",
       "93436  2020-11-18  0.101968  0.192482  0.191285  0.181854  0.166639  0.155969   \n",
       "       2021-03-09  0.196412  0.126482  0.083902  0.031200 -0.018734 -0.036146   \n",
       "       2021-10-25  0.126616  0.146376  0.183714  0.185810  0.177851  0.294113   \n",
       "       2022-01-03  0.135317  0.120934  0.104577  0.102263  0.096751  0.286531   \n",
       "       2022-01-31  0.106776  0.129803 -0.000736  0.019948  0.007226 -0.107554   \n",
       "\n",
       "                     RET_20    RET_40    RET_60   RET_120   RET_210  \n",
       "permno date                                                          \n",
       "10078  2007-11-12  2.356792  2.604569  3.299790  2.812268  2.384488  \n",
       "       2008-09-30 -0.155556 -0.174810 -0.295644 -0.503268 -0.631961  \n",
       "       2008-10-13 -0.346241 -0.471455 -0.394515 -0.627756 -0.698688  \n",
       "       2008-11-13 -0.227273 -0.496917 -0.593625 -0.687356 -0.737283  \n",
       "       2008-12-02 -0.329897 -0.507576 -0.630262 -0.715412 -0.811703  \n",
       "...                     ...       ...       ...       ...       ...  \n",
       "93436  2020-11-18  0.151429  0.279420 -0.759487 -0.458145 -0.145586  \n",
       "       2021-03-09 -0.219870 -0.234586  0.114313  0.497643 -0.136480  \n",
       "       2021-10-25  0.295062  0.439572  0.491356  0.527499  0.586520  \n",
       "       2022-01-03  0.182084 -0.024498  0.511801  0.836267  1.006489  \n",
       "       2022-01-31 -0.113609 -0.136345 -0.228313  0.319343  0.415519  \n",
       "\n",
       "[13501 rows x 11 columns]"
      ]
     },
     "execution_count": 64,
     "metadata": {},
     "output_type": "execute_result"
    },
    {
     "name": "stdout",
     "output_type": "stream",
     "text": []
    },
    {
     "name": "stdout",
     "output_type": "stream",
     "text": []
    },
    {
     "name": "stdout",
     "output_type": "stream",
     "text": []
    },
    {
     "name": "stdout",
     "output_type": "stream",
     "text": []
    },
    {
     "name": "stdout",
     "output_type": "stream",
     "text": []
    },
    {
     "name": "stdout",
     "output_type": "stream",
     "text": []
    },
    {
     "name": "stdout",
     "output_type": "stream",
     "text": []
    },
    {
     "name": "stdout",
     "output_type": "stream",
     "text": []
    },
    {
     "name": "stdout",
     "output_type": "stream",
     "text": []
    },
    {
     "name": "stdout",
     "output_type": "stream",
     "text": []
    },
    {
     "name": "stdout",
     "output_type": "stream",
     "text": []
    },
    {
     "name": "stdout",
     "output_type": "stream",
     "text": []
    },
    {
     "name": "stdout",
     "output_type": "stream",
     "text": []
    },
    {
     "name": "stdout",
     "output_type": "stream",
     "text": []
    },
    {
     "name": "stdout",
     "output_type": "stream",
     "text": []
    },
    {
     "name": "stdout",
     "output_type": "stream",
     "text": []
    },
    {
     "name": "stdout",
     "output_type": "stream",
     "text": []
    },
    {
     "name": "stdout",
     "output_type": "stream",
     "text": []
    },
    {
     "name": "stdout",
     "output_type": "stream",
     "text": []
    },
    {
     "name": "stdout",
     "output_type": "stream",
     "text": []
    },
    {
     "name": "stdout",
     "output_type": "stream",
     "text": []
    },
    {
     "name": "stdout",
     "output_type": "stream",
     "text": []
    },
    {
     "name": "stdout",
     "output_type": "stream",
     "text": []
    },
    {
     "name": "stdout",
     "output_type": "stream",
     "text": []
    },
    {
     "name": "stdout",
     "output_type": "stream",
     "text": []
    },
    {
     "name": "stdout",
     "output_type": "stream",
     "text": [
      "\\/"
     ]
    }
   ],
   "source": [
    "ret.loc[ret.RET_01>0.10]"
   ]
  },
  {
   "cell_type": "code",
   "execution_count": 5,
   "id": "28ae0010",
   "metadata": {
    "ExecuteTime": {
     "end_time": "2023-08-20T02:37:53.653052300Z",
     "start_time": "2023-08-20T02:37:36.757464200Z"
    }
   },
   "outputs": [
    {
     "name": "stdout",
     "output_type": "stream",
     "text": [
      "Creating factor_volatility --------------------------------- | \u001b[92m✔\u001b[0m\n",
      "Shape: (3239809, 11)\n"
     ]
    }
   ],
   "source": [
    "volatility = PrepFactor(factor_name='factor_volatility', group='permno', interval='D', kind='price', stock=stock, div=False, start=start, end=end, save=True).prep()"
   ]
  },
  {
   "cell_type": "code",
   "execution_count": 6,
   "id": "41abbb3d8f2ab46a",
   "metadata": {
    "ExecuteTime": {
     "end_time": "2023-08-20T02:37:36.757464200Z",
     "start_time": "2023-08-20T02:37:32.261955Z"
    }
   },
   "outputs": [
    {
     "name": "stdout",
     "output_type": "stream",
     "text": [
      "Creating factor_volume ------------------------------------- | \u001b[92m✔\u001b[0m\n",
      "Shape: (3239809, 5)\n"
     ]
    }
   ],
   "source": [
    "volume = PrepFactor(factor_name='factor_volume', group='permno', interval='D', kind='price', div=False, stock=stock, start=start, end=end, save=True).prep()"
   ]
  },
  {
   "cell_type": "code",
   "execution_count": 7,
   "id": "c6077744",
   "metadata": {
    "ExecuteTime": {
     "end_time": "2023-08-20T02:38:32.606251400Z",
     "start_time": "2023-08-20T02:38:21.951178800Z"
    }
   },
   "outputs": [
    {
     "name": "stdout",
     "output_type": "stream",
     "text": [
      "Creating factor_sb_fama ------------------------------------ | \u001b[92m✔\u001b[0m\n",
      "Shape: (3239809, 20)\n"
     ]
    }
   ],
   "source": [
    "sb_fama = PrepFactor(factor_name='factor_sb_fama', group='permno', interval='D', kind='price', stock=stock, div=False, start=start, end=end, save=True).prep()"
   ]
  },
  {
   "cell_type": "code",
   "execution_count": 8,
   "id": "2a449d33",
   "metadata": {
    "ExecuteTime": {
     "end_time": "2023-08-20T02:38:49.332605700Z",
     "start_time": "2023-08-20T02:38:33.766548600Z"
    }
   },
   "outputs": [
    {
     "name": "stdout",
     "output_type": "stream",
     "text": [
      "Creating factor_sb_etf -------------------------------------| \u001b[92m✔\u001b[0m\n",
      "Shape: (3239809, 30)\n"
     ]
    }
   ],
   "source": [
    "sb_etf = PrepFactor(factor_name='factor_sb_etf', group='permno', interval='D', kind='price', div=False, stock=stock, start=start, end=end, save=True).prep()"
   ]
  },
  {
   "cell_type": "code",
   "execution_count": 12,
   "id": "10476ff4d58ed38b",
   "metadata": {
    "ExecuteTime": {
     "end_time": "2023-08-20T02:44:06.692652300Z",
     "start_time": "2023-08-20T02:44:03.056311200Z"
    }
   },
   "outputs": [
    {
     "name": "stdout",
     "output_type": "stream",
     "text": [
      "Creating factor_rank_ret ----------------------------------- | \u001b[92m✔\u001b[0m\n",
      "Shape: (3239809, 3)\n"
     ]
    }
   ],
   "source": [
    "rank_ret = PrepFactor(factor_name='factor_rank_ret', group='permno', interval='D', kind='price', stock=stock, div=False, start=start, end=end, save=True).prep()"
   ]
  },
  {
   "cell_type": "code",
   "execution_count": 13,
   "id": "b0a2bfa18a5955f3",
   "metadata": {
    "ExecuteTime": {
     "end_time": "2023-08-20T02:43:36.858109100Z",
     "start_time": "2023-08-20T02:43:18.642098100Z"
    }
   },
   "outputs": [
    {
     "name": "stdout",
     "output_type": "stream",
     "text": [
      "Creating factor_sb_bond ------------------------------------ | \u001b[92m✔\u001b[0m\n",
      "Shape: (3239809, 20)\n"
     ]
    }
   ],
   "source": [
    "sb_bond = PrepFactor(factor_name='factor_sb_bond', group='permno', interval='D', kind='price', stock=stock, div=False, start=start, end=end, save=True).prep()"
   ]
  },
  {
   "cell_type": "code",
   "execution_count": 14,
   "id": "6fbfc030909a304d",
   "metadata": {
    "ExecuteTime": {
     "end_time": "2023-08-20T02:43:16.581410800Z",
     "start_time": "2023-08-20T02:43:13.519555Z"
    }
   },
   "outputs": [
    {
     "name": "stdout",
     "output_type": "stream",
     "text": [
      "Creating factor_sign --------------------------------------- | \u001b[92m✔\u001b[0m\n",
      "Shape: (3239809, 3)\n"
     ]
    }
   ],
   "source": [
    "sign = PrepFactor(factor_name='factor_sign', group='permno', interval='D', kind='price', stock=stock, div=False, start=start, end=end, save=True).prep()"
   ]
  },
  {
   "cell_type": "code",
   "execution_count": 17,
   "id": "b4197b53",
   "metadata": {
    "ExecuteTime": {
     "end_time": "2023-08-20T03:40:08.614889Z",
     "start_time": "2023-08-20T03:40:07.394307Z"
    }
   },
   "outputs": [
    {
     "name": "stdout",
     "output_type": "stream",
     "text": [
      "Creating factor_talib -------------------------------------- | \u001b[92m✔\u001b[0m\n",
      "Shape: (3239809, 13)\n"
     ]
    }
   ],
   "source": [
    "talib = PrepFactor(factor_name='factor_talib', group='permno', interval='D', kind='price', stock=stock, div=False, start=start, end=end, save=True).prep()"
   ]
  },
  {
   "cell_type": "code",
   "execution_count": 23,
   "id": "9f9c07eb",
   "metadata": {},
   "outputs": [
    {
     "name": "stdout",
     "output_type": "stream",
     "text": [
      "Creating factor_high --------------------------------------- | \u001b[92m✔\u001b[0m\n",
      "Shape: (3239809, 5)\n"
     ]
    }
   ],
   "source": [
    "high = PrepFactor(factor_name='factor_high', group='permno', interval='D', kind='price', div=False, stock=stock, start=start, end=end, save=True).prep()"
   ]
  },
  {
   "cell_type": "code",
   "execution_count": 24,
   "id": "8bd357d1",
   "metadata": {},
   "outputs": [
    {
     "name": "stdout",
     "output_type": "stream",
     "text": [
      "Creating factor_low ---------------------------------------- | \u001b[92m✔\u001b[0m\n",
      "Shape: (3239809, 5)\n"
     ]
    }
   ],
   "source": [
    "low = PrepFactor(factor_name='factor_low', group='permno', interval='D', kind='price', div=False, stock=stock, start=start, end=end, save=True).prep()"
   ]
  },
  {
   "cell_type": "code",
   "execution_count": 25,
   "id": "252b83bc",
   "metadata": {},
   "outputs": [
    {
     "name": "stdout",
     "output_type": "stream",
     "text": [
      "Creating factor_rank_volume -------------------------------- | \u001b[92m✔\u001b[0m\n",
      "Shape: (3239809, 1)\n"
     ]
    }
   ],
   "source": [
    "rank_volume = PrepFactor(factor_name='factor_rank_volume', group='permno', interval='D', kind='price', stock=stock, div=False, start=start, end=end, save=True).prep()"
   ]
  },
  {
   "cell_type": "code",
   "execution_count": 27,
   "id": "da11b59c",
   "metadata": {},
   "outputs": [
    {
     "name": "stdout",
     "output_type": "stream",
     "text": [
      "Creating factor_total -------------------------------------- | \u001b[92m✔\u001b[0m\n",
      "Shape: (3239809, 1)\n"
     ]
    }
   ],
   "source": [
    "total = PrepFactor(factor_name='factor_total', group='permno', interval='D', kind='price', stock=stock, div=False, start=start, end=end, save=True).prep()"
   ]
  },
  {
   "cell_type": "code",
   "execution_count": 28,
   "id": "ee894509",
   "metadata": {},
   "outputs": [
    {
     "name": "stdout",
     "output_type": "stream",
     "text": [
      "Creating factor_rank_volatility ---------------------------- | \u001b[92m✔\u001b[0m\n",
      "Shape: (3239809, 6)\n"
     ]
    }
   ],
   "source": [
    "rank_volatility = PrepFactor(factor_name='factor_rank_volatility', group='permno', interval='D', kind='price', stock=stock, div=False, start=start, end=end, save=True).prep()"
   ]
  },
  {
   "cell_type": "code",
   "execution_count": 75,
   "id": "80739c96",
   "metadata": {},
   "outputs": [
    {
     "name": "stdout",
     "output_type": "stream",
     "text": [
      "Creating factor_cond_ret ----------------------------------- | \u001b[92m✔\u001b[0m\n",
      "Shape: (3239809, 2)\n"
     ]
    }
   ],
   "source": [
    "cond_ret = PrepFactor(factor_name='factor_cond_ret', group='permno', interval='D', kind='price', stock=stock, div=False, start=start, end=end, save=True).prep()"
   ]
  },
  {
   "cell_type": "code",
   "execution_count": 38,
   "id": "c12ec726",
   "metadata": {},
   "outputs": [
    {
     "name": "stdout",
     "output_type": "stream",
     "text": [
      "Creating factor_sb_overall --------------------------------- | \u001b[92m✔\u001b[0m\n",
      "Shape: (3239809, 20)\n"
     ]
    }
   ],
   "source": [
    "sb_overall = PrepFactor(factor_name='factor_sb_overall', group='permno', interval='D', kind='price', stock=stock, div=False, start=start, end=end, save=True).prep()"
   ]
  },
  {
   "cell_type": "code",
   "execution_count": 39,
   "id": "373eb5e9",
   "metadata": {},
   "outputs": [
    {
     "name": "stdout",
     "output_type": "stream",
     "text": [
      "Creating factor_sb_sector ---------------------------------- | \u001b[92m✔\u001b[0m\n",
      "Shape: (3239809, 28)\n"
     ]
    }
   ],
   "source": [
    "sb_sector = PrepFactor(factor_name='factor_sb_sector', group='permno', interval='D', kind='price', stock=stock, div=False, start=start, end=end, save=True).prep()"
   ]
  },
  {
   "cell_type": "code",
   "execution_count": 40,
   "id": "956f6129",
   "metadata": {},
   "outputs": [
    {
     "name": "stdout",
     "output_type": "stream",
     "text": [
      "Creating factor_sb_ind ------------------------------------- | \u001b[92m✔\u001b[0m\n",
      "Shape: (3239809, 28)\n"
     ]
    }
   ],
   "source": [
    "sb_ind = PrepFactor(factor_name='factor_sb_ind', group='permno', interval='D', kind='price', stock=stock, div=False, start=start, end=end, save=True).prep()"
   ]
  },
  {
   "cell_type": "code",
   "execution_count": 41,
   "id": "0861edc0",
   "metadata": {},
   "outputs": [
    {
     "name": "stdout",
     "output_type": "stream",
     "text": [
      "Creating factor_dividend ----------------------------------- | \u001b[92m✔\u001b[0m\n",
      "Shape: (3239809, 1)\n"
     ]
    }
   ],
   "source": [
    "dividend = PrepFactor(factor_name='factor_dividend', group='permno', interval='D', kind='dividend', stock=stock, div=False, start=start, end=end, save=True).prep()"
   ]
  },
  {
   "cell_type": "code",
   "execution_count": 42,
   "id": "32d68ecf-fa8f-4743-b665-775450d25142",
   "metadata": {},
   "outputs": [
    {
     "name": "stdout",
     "output_type": "stream",
     "text": [
      "Creating factor_sb_lag_bond -------------------------------- | \u001b[92m✔\u001b[0m\n",
      "Shape: (3239809, 28)\n"
     ]
    }
   ],
   "source": [
    "sb_lag_bond = PrepFactor(factor_name='factor_sb_lag_bond', group='permno', interval='D', kind='price', stock=stock, div=False, start=start, end=end, save=True).prep()"
   ]
  },
  {
   "cell_type": "code",
   "execution_count": 43,
   "id": "2fc95d6e-e863-4c31-869d-4d3dbe2899fc",
   "metadata": {},
   "outputs": [
    {
     "name": "stdout",
     "output_type": "stream",
     "text": [
      "Creating factor_sb_pca ------------------------------------- | \u001b[92m✔\u001b[0m\n",
      "Shape: (3239809, 20)\n"
     ]
    }
   ],
   "source": [
    "sb_pca = PrepFactor(factor_name='factor_sb_pca', group='permno', interval='D', kind='price', stock=stock, div=False, start=start, end=end, save=True).prep()"
   ]
  },
  {
   "cell_type": "code",
   "execution_count": 49,
   "id": "10d229f6",
   "metadata": {
    "ExecuteTime": {
     "end_time": "2023-08-20T02:33:34.997168300Z",
     "start_time": "2023-08-20T02:33:31.959557500Z"
    }
   },
   "outputs": [
    {
     "name": "stdout",
     "output_type": "stream",
     "text": [
      "Creating factor_ind ---------------------------------------- | \u001b[92m✔\u001b[0m\n",
      "Shape: (3239809, 1)\n"
     ]
    }
   ],
   "source": [
    "ind = PrepFactor(factor_name='factor_ind', group='permno', interval='D', kind='ind', stock=stock, div=False, start=start, end=end, save=True).prep()"
   ]
  },
  {
   "cell_type": "code",
   "execution_count": 50,
   "id": "be3de686",
   "metadata": {
    "ExecuteTime": {
     "end_time": "2023-08-27T05:46:23.717054Z",
     "start_time": "2023-08-27T05:46:23.067545200Z"
    }
   },
   "outputs": [
    {
     "name": "stdout",
     "output_type": "stream",
     "text": [
      "Creating factor_ind_mom ------------------------------------ | \u001b[92m✔\u001b[0m\n",
      "Shape: (3239809, 6)\n"
     ]
    }
   ],
   "source": [
    "ind_mom = PrepFactor(factor_name='factor_ind_mom', group='permno', interval='D', kind='ind', stock=stock, div=False, start=start, end=end, save=True).prep()"
   ]
  },
  {
   "cell_type": "code",
   "execution_count": 52,
   "id": "383bbcf5-edab-43ed-8834-eee32a637504",
   "metadata": {},
   "outputs": [
    {
     "name": "stdout",
     "output_type": "stream",
     "text": [
      "Creating factor_cond_ind_mom ------------------------------- | \u001b[92m✔\u001b[0m\n",
      "Shape: (3239809, 1)\n"
     ]
    }
   ],
   "source": [
    "cond_ind_mom = PrepFactor(factor_name='factor_cond_ind_mom', group='permno', interval='D', kind='ind', stock=stock, div=False, start=start, end=end, save=True).prep()"
   ]
  },
  {
   "cell_type": "code",
   "execution_count": 53,
   "id": "0f11ddb2-2c52-4b41-b404-545a9bd66a73",
   "metadata": {},
   "outputs": [
    {
     "name": "stdout",
     "output_type": "stream",
     "text": [
      "Creating factor_ind_vwr ------------------------------------ | \u001b[92m✔\u001b[0m\n",
      "Shape: (3239809, 6)\n"
     ]
    }
   ],
   "source": [
    "ind_vwr = PrepFactor(factor_name='factor_ind_vwr', group='permno', interval='D', kind='ind', stock=stock, div=False, start=start, end=end, save=True).prep()"
   ]
  },
  {
   "cell_type": "code",
   "execution_count": 54,
   "id": "bf13822b-0aec-4924-b6c4-e8f1ea1eb877",
   "metadata": {},
   "outputs": [
    {
     "name": "stdout",
     "output_type": "stream",
     "text": [
      "Creating factor_rank_ind_vwr ------------------------------- | \u001b[92m✔\u001b[0m\n",
      "Shape: (3239809, 6)\n"
     ]
    }
   ],
   "source": [
    "rank_ind_vwr = PrepFactor(factor_name='factor_rank_ind_vwr', group='permno', interval='D', kind='ind', stock=stock, div=False, start=start, end=end, save=True).prep()"
   ]
  },
  {
   "cell_type": "code",
   "execution_count": 55,
   "id": "437d53ea-c7a3-44d3-ab35-60686d2be0a6",
   "metadata": {},
   "outputs": [
    {
     "name": "stdout",
     "output_type": "stream",
     "text": [
      "Creating factor_rank_ind_mom ------------------------------- | \u001b[92m✔\u001b[0m\n",
      "Shape: (3239809, 6)\n"
     ]
    }
   ],
   "source": [
    "rank_ind_mom = PrepFactor(factor_name='factor_rank_ind_mom', group='permno', interval='D', kind='ind', stock=stock, div=False, start=start, end=end, save=True).prep()"
   ]
  },
  {
   "cell_type": "code",
   "execution_count": 56,
   "id": "e9ddc73f-859b-4fcb-97d4-4e98d94beae7",
   "metadata": {},
   "outputs": [
    {
     "name": "stdout",
     "output_type": "stream",
     "text": [
      "Creating factor_ind_fama ----------------------------------- | \u001b[92m✔\u001b[0m\n",
      "Shape: (3239809, 1)\n"
     ]
    }
   ],
   "source": [
    "ind_fama = PrepFactor(factor_name='factor_ind_fama', group='permno', interval='D', kind='ind', stock=stock, div=False, start=start, end=end, save=True).prep()"
   ]
  },
  {
   "cell_type": "code",
   "execution_count": 57,
   "id": "c91d297b-0fb9-4bf2-b90e-89cdcc250414",
   "metadata": {},
   "outputs": [
    {
     "name": "stdout",
     "output_type": "stream",
     "text": [
      "Creating factor_ind_mom_fama ------------------------------- | \u001b[92m✔\u001b[0m\n",
      "Shape: (3239809, 6)\n"
     ]
    }
   ],
   "source": [
    "ind_mom_fama = PrepFactor(factor_name='factor_ind_mom_fama', group='permno', interval='D', kind='ind', stock=stock, div=False, start=start, end=end, save=True).prep()"
   ]
  },
  {
   "cell_type": "code",
   "execution_count": 59,
   "id": "6157cabd-5c50-42dc-8339-7b759b7c90e6",
   "metadata": {},
   "outputs": [
    {
     "name": "stdout",
     "output_type": "stream",
     "text": [
      "Creating factor_cond_ind_mom_fama -------------------------- | \u001b[92m✔\u001b[0m\n",
      "Shape: (3239809, 1)\n"
     ]
    }
   ],
   "source": [
    "cond_ind_mom_fama = PrepFactor(factor_name='factor_cond_ind_mom_fama', group='permno', interval='D', kind='ind', stock=stock, div=False, start=start, end=end, save=True).prep()"
   ]
  },
  {
   "cell_type": "code",
   "execution_count": 60,
   "id": "54bb3803-c9d1-401a-ae03-a3a21345d3ef",
   "metadata": {},
   "outputs": [
    {
     "name": "stdout",
     "output_type": "stream",
     "text": [
      "Creating factor_ind_vwr_fama ------------------------------- | \u001b[92m✔\u001b[0m\n",
      "Shape: (3239809, 6)\n"
     ]
    }
   ],
   "source": [
    "ind_vwr_fama = PrepFactor(factor_name='factor_ind_vwr_fama', group='permno', interval='D', kind='ind', stock=stock, div=False, start=start, end=end, save=True).prep()"
   ]
  },
  {
   "cell_type": "code",
   "execution_count": 61,
   "id": "7de9c128-0735-4ed2-a9b6-0b077c09a60b",
   "metadata": {},
   "outputs": [
    {
     "name": "stdout",
     "output_type": "stream",
     "text": [
      "Creating factor_rank_ind_vwr_fama -------------------------- | \u001b[92m✔\u001b[0m\n",
      "Shape: (3239809, 6)\n"
     ]
    }
   ],
   "source": [
    "rank_ind_vwr_fama = PrepFactor(factor_name='factor_rank_ind_vwr_fama', group='permno', interval='D', kind='ind', stock=stock, div=False, start=start, end=end, save=True).prep()"
   ]
  },
  {
   "cell_type": "code",
   "execution_count": 62,
   "id": "6c147713-3940-4971-9279-98c2fd588b10",
   "metadata": {},
   "outputs": [
    {
     "name": "stdout",
     "output_type": "stream",
     "text": [
      "Creating factor_rank_ind_mom_fama -------------------------- | \u001b[92m✔\u001b[0m\n",
      "Shape: (3239809, 6)\n"
     ]
    }
   ],
   "source": [
    "rank_ind_mom_fama = PrepFactor(factor_name='factor_rank_ind_mom_fama', group='permno', interval='D', kind='ind', stock=stock, div=False, start=start, end=end, save=True).prep()"
   ]
  },
  {
   "cell_type": "code",
   "execution_count": 70,
   "id": "0129fcb7-ad83-4361-9b64-f6d807cddfb4",
   "metadata": {},
   "outputs": [
    {
     "name": "stdout",
     "output_type": "stream",
     "text": [
      "Creating factor_rf_ret ------------------------------------- | \u001b[92m✔\u001b[0m\n",
      "Shape: (3239809, 36)\n"
     ]
    }
   ],
   "source": [
    "rf_ret = PrepFactor(factor_name='factor_rf_ret', group='permno', interval='D', kind='price', div=False, stock=stock, start=start, end=end, save=True).prep()"
   ]
  },
  {
   "cell_type": "code",
   "execution_count": 102,
   "id": "a6f63151-2eb3-4d87-903f-16068c4c3e41",
   "metadata": {},
   "outputs": [
    {
     "name": "stdout",
     "output_type": "stream",
     "text": [
      "Creating factor_rank_ind_mom_fama -------------------------- | \u001b[92m✔\u001b[0m\n",
      "Shape: (3239809, 6)\n"
     ]
    }
   ],
   "source": [
    "rank_ind_mom_fama = PrepFactor(factor_name='factor_rank_ind_mom_fama', group='permno', interval='D', kind='ind', stock=stock, div=False, start=start, end=end, save=False).prep()"
   ]
  },
  {
   "cell_type": "code",
   "execution_count": 87,
   "id": "5b17f50f",
   "metadata": {
    "ExecuteTime": {
     "end_time": "2023-08-20T02:44:52.639983300Z",
     "start_time": "2023-08-20T02:44:45.571174Z"
    }
   },
   "outputs": [
    {
     "name": "stdout",
     "output_type": "stream",
     "text": [
      "Creating factor_load_ret ----------------------------------- | \u001b[92m✔\u001b[0m\n",
      "Shape: (3194363, 5)\n"
     ]
    }
   ],
   "source": [
    "load_ret = PrepFactor(factor_name='factor_load_ret', group='permno', interval='D', kind='loading', stock=stock, div=False, start=start, end=end, save=True).prep()"
   ]
  },
  {
   "cell_type": "code",
   "execution_count": 88,
   "id": "52358edc",
   "metadata": {
    "ExecuteTime": {
     "end_time": "2023-08-26T23:05:21.075743100Z",
     "start_time": "2023-08-26T23:05:18.475355Z"
    }
   },
   "outputs": [
    {
     "name": "stdout",
     "output_type": "stream",
     "text": [
      "Creating factor_clust_ret ---------------------------------- | \u001b[92m✔\u001b[0m\n",
      "Shape: (3191951, 1)\n"
     ]
    }
   ],
   "source": [
    "clust_ret = PrepFactor(factor_name='factor_clust_ret', group='permno', interval='D', kind='cluster', stock=stock, div=False, start=start, end=end, save=True).prep()"
   ]
  },
  {
   "cell_type": "code",
   "execution_count": 89,
   "id": "cf0a9399",
   "metadata": {
    "ExecuteTime": {
     "end_time": "2023-08-20T02:44:58.912137200Z",
     "start_time": "2023-08-20T02:44:55.628886Z"
    }
   },
   "outputs": [
    {
     "name": "stdout",
     "output_type": "stream",
     "text": [
      "Creating factor_clust_load_ret ----------------------------- | \u001b[92m✔\u001b[0m\n",
      "Shape: (3148911, 5)\n"
     ]
    }
   ],
   "source": [
    "clust_load_ret = PrepFactor(factor_name='factor_clust_load_ret', group='permno', interval='D', kind='cluster', stock=stock, div=False, start=start, end=end, save=True).prep()"
   ]
  },
  {
   "cell_type": "code",
   "execution_count": 90,
   "id": "5cc059a57d7c8ca3",
   "metadata": {
    "ExecuteTime": {
     "end_time": "2023-08-26T23:05:41.963295200Z",
     "start_time": "2023-08-26T23:05:39.483524Z"
    }
   },
   "outputs": [
    {
     "name": "stdout",
     "output_type": "stream",
     "text": [
      "Creating factor_clust_volume ------------------------------- | \u001b[92m✔\u001b[0m\n",
      "Shape: (3194363, 1)\n"
     ]
    }
   ],
   "source": [
    "clust_volume = PrepFactor(factor_name='factor_clust_volume', group='permno', interval='D', kind='cluster', stock=stock, div=False, start=start, end=end, save=True).prep()"
   ]
  },
  {
   "cell_type": "code",
   "execution_count": 91,
   "id": "e81a93a9",
   "metadata": {},
   "outputs": [
    {
     "name": "stdout",
     "output_type": "stream",
     "text": [
      "Creating factor_load_volume -------------------------------- | \u001b[92m✔\u001b[0m\n",
      "Shape: (3194363, 5)\n"
     ]
    }
   ],
   "source": [
    "load_volume = PrepFactor(factor_name='factor_load_volume', group='permno', interval='D', kind='loading', stock=stock, div=False, start=start, end=end, save=True).prep()"
   ]
  },
  {
   "cell_type": "code",
   "execution_count": 92,
   "id": "d083b3cbe74b8043",
   "metadata": {},
   "outputs": [
    {
     "name": "stdout",
     "output_type": "stream",
     "text": [
      "Creating factor_load_volatility ---------------------------- | \u001b[92m✔\u001b[0m\n",
      "Shape: (2988930, 5)\n"
     ]
    }
   ],
   "source": [
    "load_volatility = PrepFactor(factor_name='factor_load_volatility', group='permno', interval='D', kind='loading', stock=stock, div=False, start=start, end=end, save=True).prep()"
   ]
  },
  {
   "cell_type": "code",
   "execution_count": 93,
   "id": "a9caece6",
   "metadata": {},
   "outputs": [
    {
     "name": "stdout",
     "output_type": "stream",
     "text": [
      "Creating factor_clust_volatility --------------------------- | \u001b[92m✔\u001b[0m\n",
      "Shape: (2988930, 1)\n"
     ]
    }
   ],
   "source": [
    "clust_volatility = PrepFactor(factor_name='factor_clust_volatility', group='permno', interval='D', kind='cluster', stock=stock, div=False, start=start, end=end, save=True).prep()"
   ]
  },
  {
   "cell_type": "code",
   "execution_count": 94,
   "id": "b3c15a2a",
   "metadata": {},
   "outputs": [
    {
     "name": "stdout",
     "output_type": "stream",
     "text": [
      "Creating factor_clust_load_volume -------------------------- | \u001b[92m✔\u001b[0m\n",
      "Shape: (3148911, 5)\n"
     ]
    }
   ],
   "source": [
    "clust_load_volume = PrepFactor(factor_name='factor_clust_load_volume', group='permno', interval='D', kind='cluster', stock=stock, div=False, start=start, end=end, save=True).prep()"
   ]
  },
  {
   "cell_type": "code",
   "execution_count": 95,
   "id": "0bac8b10",
   "metadata": {},
   "outputs": [
    {
     "name": "stdout",
     "output_type": "stream",
     "text": [
      "Creating factor_clust_ret30 -------------------------------- | \u001b[92m✔\u001b[0m\n",
      "Shape: (3184228, 1)\n"
     ]
    }
   ],
   "source": [
    "clust_ret30 = PrepFactor(factor_name='factor_clust_ret30', group='permno', interval='D', kind='cluster', stock=stock, div=False, start=start, end=end, save=True).prep()"
   ]
  },
  {
   "cell_type": "code",
   "execution_count": 96,
   "id": "f948a3e0",
   "metadata": {},
   "outputs": [
    {
     "name": "stdout",
     "output_type": "stream",
     "text": [
      "Creating factor_clust_ret60 -------------------------------- | \u001b[92m✔\u001b[0m\n",
      "Shape: (3176186, 1)\n"
     ]
    }
   ],
   "source": [
    "clust_ret60 = PrepFactor(factor_name='factor_clust_ret60', group='permno', interval='D', kind='cluster', stock=stock, div=False, start=start, end=end, save=True).prep()"
   ]
  },
  {
   "cell_type": "code",
   "execution_count": 97,
   "id": "5c302a6511fc65a9",
   "metadata": {
    "ExecuteTime": {
     "end_time": "2023-08-27T05:58:18.919784500Z",
     "start_time": "2023-08-27T05:58:16.228119Z"
    }
   },
   "outputs": [
    {
     "name": "stdout",
     "output_type": "stream",
     "text": [
      "Creating factor_clust_ind_mom ------------------------------ | \u001b[92m✔\u001b[0m\n",
      "Shape: (3131767, 1)\n"
     ]
    }
   ],
   "source": [
    "clust_ind_mom = PrepFactor(factor_name='factor_clust_ind_mom', group='permno', interval='D', kind='cluster', stock=stock, div=False, start=start, end=end, save=True).prep()"
   ]
  },
  {
   "cell_type": "code",
   "execution_count": 98,
   "id": "65aa9110-db4b-43a6-836c-300798cdf6aa",
   "metadata": {},
   "outputs": [
    {
     "name": "stdout",
     "output_type": "stream",
     "text": [
      "Creating factor_clust_ind_mom_fama ------------------------- | \u001b[92m✔\u001b[0m\n",
      "Shape: (3178953, 1)\n"
     ]
    }
   ],
   "source": [
    "clust_ind_mom_fama = PrepFactor(factor_name='factor_clust_ind_mom_fama', group='permno', interval='D', kind='ind', stock=stock, div=False, start=start, end=end, save=True).prep()"
   ]
  },
  {
   "cell_type": "code",
   "execution_count": 2,
   "id": "4d0a7bfd",
   "metadata": {
    "ExecuteTime": {
     "end_time": "2023-08-20T02:36:17.044882400Z",
     "start_time": "2023-08-20T02:36:11.897275100Z"
    }
   },
   "outputs": [
    {
     "name": "stdout",
     "output_type": "stream",
     "text": [
      "Creating factor_macro -------------------------------------- | \u001b[92m✔\u001b[0m\n",
      "Shape: (4261654, 10)\n"
     ]
    }
   ],
   "source": [
    "macro = PrepFactor(factor_name='factor_macro', group='permno', interval='D', kind='macro', stock=stock, div=False, start=start, end=end, save=True).prep()"
   ]
  },
  {
   "cell_type": "code",
   "execution_count": 5,
   "id": "e5b8fe36",
   "metadata": {},
   "outputs": [
    {
     "name": "stdout",
     "output_type": "stream",
     "text": [
      "Creating factor_clust_fund_raw -----------------------------\\| \u001b[92m✔\u001b[0m\n",
      "Shape: (3239809, 1)\n"
     ]
    }
   ],
   "source": [
    "clust_fund_raw = PrepFactor(factor_name='factor_clust_fund_raw', group='permno', interval='M', kind='cluster', stock=stock, div=False, start=start, end=end, save=True).prep()"
   ]
  },
  {
   "cell_type": "code",
   "execution_count": 6,
   "id": "77e56d8e",
   "metadata": {},
   "outputs": [
    {
     "name": "stdout",
     "output_type": "stream",
     "text": [
      "Creating factor_fund_raw -----------------------------------| /\u001b[92m✔\u001b[0m\n",
      "Shape: (3239809, 27)\n"
     ]
    }
   ],
   "source": [
    "fund_raw = PrepFactor(factor_name='factor_fund_raw', group='permno', interval='M', kind='fundamental', stock=stock, div=False, start=start, end=end, save=True).prep()"
   ]
  },
  {
   "cell_type": "code",
   "execution_count": 7,
   "id": "586b7fc3",
   "metadata": {},
   "outputs": [
    {
     "name": "stdout",
     "output_type": "stream",
     "text": [
      "Creating factor_fund_q -------------------------------------\\|\u001b[92m✔\u001b[0m\n",
      "/Shape: (3239809, 1)\n"
     ]
    }
   ],
   "source": [
    "fund_q = PrepFactor(factor_name='factor_fund_q', group='permno', interval='M', kind='fundamental', stock=stock, div=False, start=start, end=end, save=True).prep()"
   ]
  },
  {
   "cell_type": "code",
   "execution_count": 8,
   "id": "bb150641",
   "metadata": {
    "ExecuteTime": {
     "end_time": "2023-08-20T03:42:15.631353300Z",
     "start_time": "2023-08-20T03:42:12.039402600Z"
    }
   },
   "outputs": [
    {
     "name": "stdout",
     "output_type": "stream",
     "text": [
      "Creating factor_rank_fund_raw ------------------------------\\| \u001b[92m✔\u001b[0m\n",
      "Shape: (3239809, 27)\n",
      "\b-"
     ]
    }
   ],
   "source": [
    "rank_fund_raw = PrepFactor(factor_name='factor_rank_fund_raw', group='permno', interval='M', kind='fundamental', stock=stock, div=False, start=start, end=end, save=True).prep()"
   ]
  },
  {
   "cell_type": "code",
   "execution_count": 9,
   "id": "b44ae448-f509-4114-9236-15f80820a0c0",
   "metadata": {},
   "outputs": [
    {
     "name": "stdout",
     "output_type": "stream",
     "text": [
      "Creating factor_age_mom ------------------------------------/||\u001b[92m✔\u001b[0m\n",
      "Shape: (3239809, 1)\n"
     ]
    }
   ],
   "source": [
    "age_mom = PrepFactor(factor_name='factor_age_mom', group='permno', interval='D', kind='age', stock=stock, div=False, start=start, end=end, save=True).prep()"
   ]
  },
  {
   "cell_type": "code",
   "execution_count": 10,
   "id": "7e054f48-3e8c-4419-b1b4-df29e661210f",
   "metadata": {},
   "outputs": [
    {
     "name": "stdout",
     "output_type": "stream",
     "text": [
      "Creating factor_net_debt_finance ---------------------------| \u001b[92m✔\u001b[0m\n",
      "|Shape: (3239809, 1)\n"
     ]
    }
   ],
   "source": [
    "net_debt_finance = PrepFactor(factor_name='factor_net_debt_finance', group='permno', interval='M', kind='fundamental', stock=stock, div=False, start=start, end=end, save=True).prep()"
   ]
  },
  {
   "cell_type": "code",
   "execution_count": 11,
   "id": "7f9278fd-e230-4391-84b0-8e09bcf6944a",
   "metadata": {},
   "outputs": [
    {
     "name": "stdout",
     "output_type": "stream",
     "text": [
      "Creating factor_chtax --------------------------------------/|\\\u001b[92m✔\u001b[0m\n",
      "Shape: (3239809, 1)\n"
     ]
    }
   ],
   "source": [
    "chtax = PrepFactor(factor_name='factor_chtax', group='permno', interval='M', kind='fundamental', stock=stock, div=False, start=start, end=end, save=True).prep()"
   ]
  },
  {
   "cell_type": "code",
   "execution_count": 12,
   "id": "31c4b181-4c49-4084-85b8-b9c529fa63ca",
   "metadata": {},
   "outputs": [
    {
     "name": "stdout",
     "output_type": "stream",
     "text": [
      "Creating factor_asset_growth -------------------------------| \u001b[92m✔\u001b[0m\n",
      "/Shape: (3239809, 1)\n"
     ]
    }
   ],
   "source": [
    "asset_growth = PrepFactor(factor_name='factor_asset_growth', group='permno', interval='M', kind='fundamental', stock=stock, div=False, start=start, end=end, save=True).prep()"
   ]
  },
  {
   "cell_type": "code",
   "execution_count": 13,
   "id": "7fa0595d-f045-409a-964a-c15f1b65b9ca",
   "metadata": {},
   "outputs": [
    {
     "name": "stdout",
     "output_type": "stream",
     "text": [
      "Creating factor_mom_season_short ---------------------------||-\u001b[92m✔\u001b[0m\n",
      "Shape: (3239809, 1)\n"
     ]
    }
   ],
   "source": [
    "mom_season_short = PrepFactor(factor_name='factor_mom_season_short', group='permno', interval='D', kind='mom', stock=stock, div=False, start=start, end=end, save=True).prep()"
   ]
  },
  {
   "cell_type": "code",
   "execution_count": 14,
   "id": "8ba38110-9a48-4a60-be27-ffd6a42cf411",
   "metadata": {},
   "outputs": [
    {
     "name": "stdout",
     "output_type": "stream",
     "text": [
      "Creating factor_mom_season ---------------------------------| \u001b[92m✔\u001b[0m\n",
      "|Shape: (3239809, 1)\n"
     ]
    }
   ],
   "source": [
    "mom_season = PrepFactor(factor_name='factor_mom_season', group='permno', interval='D', kind='mom', stock=stock, div=False, start=start, end=end, save=True).prep()"
   ]
  },
  {
   "cell_type": "code",
   "execution_count": 15,
   "id": "75d73513-7ff8-4e6f-ba9f-ea7e858e9a6d",
   "metadata": {},
   "outputs": [
    {
     "name": "stdout",
     "output_type": "stream",
     "text": [
      "Creating factor_noa ----------------------------------------| \u001b[92m✔\u001b[0m\n",
      "\\Shape: (3239809, 1)\n"
     ]
    }
   ],
   "source": [
    "noa = PrepFactor(factor_name='factor_noa', group='permno', interval='M', kind='fundamental', stock=stock, div=False, start=start, end=end, save=True).prep()"
   ]
  },
  {
   "cell_type": "code",
   "execution_count": 16,
   "id": "828b87a5-e7c6-42c7-b88f-9cdc2ed2a068",
   "metadata": {},
   "outputs": [
    {
     "name": "stdout",
     "output_type": "stream",
     "text": [
      "Creating factor_invest_ppe_inv -----------------------------||\u001b[92m✔\u001b[0m\n",
      "/Shape: (3239809, 1)\n"
     ]
    }
   ],
   "source": [
    "invest_ppe = PrepFactor(factor_name='factor_invest_ppe_inv', group='permno', interval='M', kind='fundamental', stock=stock, div=False, start=start, end=end, save=True).prep()"
   ]
  },
  {
   "cell_type": "code",
   "execution_count": 17,
   "id": "c5e1440a-0138-4a20-92dc-2b439e50217e",
   "metadata": {},
   "outputs": [
    {
     "name": "stdout",
     "output_type": "stream",
     "text": [
      "Creating factor_inv_growth ---------------------------------||-\u001b[92m✔\u001b[0m\n",
      "Shape: (3239809, 1)\n"
     ]
    }
   ],
   "source": [
    "inv_growth = PrepFactor(factor_name='factor_inv_growth', group='permno', interval='M', kind='fundamental', stock=stock, div=False, start=start, end=end, save=True).prep()"
   ]
  },
  {
   "cell_type": "code",
   "execution_count": 18,
   "id": "2f70ec2f-fb33-42a1-9699-052da25c674e",
   "metadata": {},
   "outputs": [
    {
     "name": "stdout",
     "output_type": "stream",
     "text": [
      "Creating factor_earning_streak -----------------------------| \u001b[92m✔\u001b[0m\n",
      "|Shape: (3239809, 1)\n",
      "\b|"
     ]
    }
   ],
   "source": [
    "earning_streak = PrepFactor(factor_name='factor_earning_streak', group='permno', interval='M', kind='fundamental', stock=stock, div=False, start=start, end=end, save=True).prep()"
   ]
  },
  {
   "cell_type": "code",
   "execution_count": 52,
   "id": "b2089cec-152b-4a6a-bf71-27a9ddfd51f1",
   "metadata": {},
   "outputs": [
    {
     "name": "stdout",
     "output_type": "stream",
     "text": [
      "Creating factor_trend_factor -------------------------------/| \u001b[92m✔\u001b[0m\n",
      "Shape: (3239809, 1)\n",
      "-/"
     ]
    }
   ],
   "source": [
    "trend_factor = PrepFactor(factor_name='factor_trend_factor', group='permno', interval='D', kind='trend', stock=stock, div=False, start=start, end=end, save=True).prep()"
   ]
  },
  {
   "cell_type": "code",
   "execution_count": null,
   "id": "1ba26309-c822-466d-820b-d0364c190ee6",
   "metadata": {},
   "outputs": [],
   "source": []
  },
  {
   "cell_type": "code",
   "execution_count": null,
   "id": "eae033cc-d124-455d-aa5e-a79fe31b9cdf",
   "metadata": {},
   "outputs": [],
   "source": []
  },
  {
   "cell_type": "code",
   "execution_count": null,
   "id": "79361b76-666e-4590-a9c2-6c8af6da813f",
   "metadata": {},
   "outputs": [],
   "source": []
  },
  {
   "cell_type": "code",
   "execution_count": null,
   "id": "0f6dabdb-7605-48ac-b42b-37c74f898628",
   "metadata": {},
   "outputs": [],
   "source": []
  },
  {
   "cell_type": "code",
   "execution_count": null,
   "id": "4dd1b2e4-040d-44e8-860e-d36454baca56",
   "metadata": {},
   "outputs": [],
   "source": []
  },
  {
   "cell_type": "code",
   "execution_count": null,
   "id": "18faace8-06ab-4e68-85e9-7e8af6ee49e7",
   "metadata": {},
   "outputs": [],
   "source": []
  },
  {
   "cell_type": "code",
   "execution_count": null,
   "id": "e8b1f624-e3a0-46ef-91ee-a23572728af9",
   "metadata": {},
   "outputs": [],
   "source": []
  },
  {
   "cell_type": "code",
   "execution_count": null,
   "id": "9d2885ce-9a96-4f14-b931-620a754d48ab",
   "metadata": {},
   "outputs": [],
   "source": []
  },
  {
   "cell_type": "code",
   "execution_count": null,
   "id": "543b069e-25a5-4a27-9780-53c92281aaf2",
   "metadata": {},
   "outputs": [],
   "source": []
  },
  {
   "cell_type": "code",
   "execution_count": 44,
   "id": "5e5501bba1bc94ba",
   "metadata": {
    "ExecuteTime": {
     "end_time": "2023-08-20T02:43:03.874695100Z",
     "start_time": "2023-08-20T02:42:58.606911800Z"
    }
   },
   "outputs": [
    {
     "name": "stdout",
     "output_type": "stream",
     "text": [
      "Creating factor_sb_spy_inv --------------------------------- | \u001b[92m✔\u001b[0m\n",
      "Shape: (1797847, 2)\n"
     ]
    }
   ],
   "source": [
    "sb_spy_inv = PrepFactor(factor_name='factor_sb_spy_inv', group='permno', interval='D', kind='price', stock=stock, div=False, start=start, end=end, save=False).prep()"
   ]
  },
  {
   "cell_type": "code",
   "execution_count": null,
   "id": "b1bd41e1-3145-4a6d-bdee-4f8a5805a9eb",
   "metadata": {},
   "outputs": [],
   "source": []
  },
  {
   "cell_type": "code",
   "execution_count": null,
   "id": "855c86e2-37eb-47c5-9fa2-b51d658082e4",
   "metadata": {},
   "outputs": [],
   "source": []
  },
  {
   "cell_type": "code",
   "execution_count": null,
   "id": "4d663175",
   "metadata": {},
   "outputs": [],
   "source": [
    "ep_bond = PrepFactor(factor_name='factor_ep_bond', group='permno', interval='D', kind='price', div=False, stock=stock, start=start, end=end, save=True).prep()"
   ]
  },
  {
   "cell_type": "code",
   "execution_count": null,
   "id": "5761ce86",
   "metadata": {},
   "outputs": [],
   "source": [
    "ep_etf = PrepFactor(factor_name='factor_ep_etf', group='permno', interval='D', kind='price', div=False, stock=stock, start=start, end=end, save=True).prep()"
   ]
  },
  {
   "cell_type": "code",
   "execution_count": null,
   "id": "1b34d3bf",
   "metadata": {},
   "outputs": [],
   "source": [
    "ep_fama = PrepFactor(factor_name='factor_ep_fama', group='permno', interval='D', kind='price', div=False, stock=stock, start=start, end=end, save=True).prep()"
   ]
  },
  {
   "cell_type": "code",
   "execution_count": 19,
   "id": "198e593d6cf647c3",
   "metadata": {
    "ExecuteTime": {
     "end_time": "2023-08-20T02:44:35.569616300Z",
     "start_time": "2023-08-20T02:44:15.103650600Z"
    }
   },
   "outputs": [
    {
     "name": "stdout",
     "output_type": "stream",
     "text": [
      "Creating factor_open_asset ---------------------------------| \u001b[92m✔\u001b[0m\n",
      "Shape: (2128549, 11)\n"
     ]
    }
   ],
   "source": [
    "open_asset = PrepFactor(factor_name='factor_open_asset', group='permno', interval='M', kind='open', stock=stock, div=False, start=start, end=end, save=False).prep()"
   ]
  },
  {
   "cell_type": "code",
   "execution_count": 10,
   "id": "20c0f36b-ce50-4146-829c-08c5bc487b5b",
   "metadata": {},
   "outputs": [
    {
     "name": "stdout",
     "output_type": "stream",
     "text": [
      "Creating factor_open_div ----------------------------------- | \u001b[92m✔\u001b[0m\n",
      "Shape: (2128549, 1)\n"
     ]
    }
   ],
   "source": [
    "open_div = PrepFactor(factor_name='factor_open_div', group='permno', interval='M', kind='open', stock=stock, div=False, start=start, end=end, save=True).prep()"
   ]
  },
  {
   "cell_type": "code",
   "execution_count": null,
   "id": "02a8989f-c7d3-4b7b-b431-f04b0ea9ec9e",
   "metadata": {},
   "outputs": [],
   "source": []
  },
  {
   "cell_type": "code",
   "execution_count": null,
   "id": "a00ae42b-31c2-4729-beeb-9afd72ac0033",
   "metadata": {},
   "outputs": [],
   "source": []
  },
  {
   "cell_type": "code",
   "execution_count": null,
   "id": "2126097b-afa8-444b-bb70-3d8b7a902895",
   "metadata": {},
   "outputs": [],
   "source": []
  },
  {
   "cell_type": "code",
   "execution_count": null,
   "id": "4a05a343-ef6f-4a08-a761-11c8a9d430ad",
   "metadata": {},
   "outputs": [],
   "source": []
  },
  {
   "cell_type": "code",
   "execution_count": null,
   "id": "769c50bc-9ec2-4d83-93e0-aebde87a86a8",
   "metadata": {},
   "outputs": [],
   "source": []
  },
  {
   "cell_type": "code",
   "execution_count": null,
   "id": "121adc44-20e5-429a-bf1a-54e0205e33b6",
   "metadata": {},
   "outputs": [],
   "source": []
  },
  {
   "cell_type": "code",
   "execution_count": null,
   "id": "c3fe7d6c",
   "metadata": {
    "ExecuteTime": {
     "end_time": "2023-08-27T04:54:00.227526Z",
     "start_time": "2023-08-27T04:53:58.979593100Z"
    }
   },
   "outputs": [],
   "source": [
    "rf_ret = PrepFactor(factor_name='factor_rf_ret', group='permno', interval='D', kind='price', div=False, stock=stock, start=start, end=end, save=True).prep()"
   ]
  },
  {
   "cell_type": "code",
   "execution_count": null,
   "id": "2faa82f3",
   "metadata": {},
   "outputs": [],
   "source": [
    "fund_ratio = PrepFactor(factor_name='factor_fund_ratio', group='permno', interval='M', kind='fundamental', tickers='all', div=False, start=start, end=end, save=True).prep()"
   ]
  },
  {
   "cell_type": "code",
   "execution_count": null,
   "id": "9f8169d5c27baa1a",
   "metadata": {
    "ExecuteTime": {
     "end_time": "2023-08-25T04:23:03.160186300Z",
     "start_time": "2023-08-25T04:22:29.575338200Z"
    }
   },
   "outputs": [],
   "source": [
    "sb_macro = PrepFactor(factor_name='factor_sb_macro', group='permno', interval='D', kind='price', stock=stock, div=False, start=start, end=end, save=True).prep()"
   ]
  },
  {
   "cell_type": "code",
   "execution_count": null,
   "id": "7c1f3f64aa266dd9",
   "metadata": {
    "ExecuteTime": {
     "end_time": "2023-08-20T03:27:30.974738300Z",
     "start_time": "2023-08-20T03:27:17.133277400Z"
    }
   },
   "outputs": [],
   "source": [
    "rf_volume = PrepFactor(factor_name='factor_rf_volume', group='permno', interval='D', kind='price', stock=stock, div=False, start=start, end=end, save=True).prep()"
   ]
  },
  {
   "cell_type": "code",
   "execution_count": null,
   "id": "911cc0884e1edcba",
   "metadata": {
    "ExecuteTime": {
     "end_time": "2023-08-20T03:27:44.742463700Z",
     "start_time": "2023-08-20T03:27:30.974738300Z"
    }
   },
   "outputs": [],
   "source": [
    "rf_sign = PrepFactor(factor_name='factor_rf_sign', group='permno', interval='D', kind='price', stock=stock, div=False, start=start, end=end, save=True).prep()"
   ]
  },
  {
   "cell_type": "code",
   "execution_count": null,
   "id": "176d7830",
   "metadata": {},
   "outputs": [],
   "source": [
    "sb_oil = PrepFactor(factor_name='factor_sb_oil', group='permno', interval='D', kind='price', stock=stock, div=False, start=start, end=end, save=True).prep()"
   ]
  },
  {
   "cell_type": "code",
   "execution_count": null,
   "id": "d1d99031",
   "metadata": {},
   "outputs": [],
   "source": [
    "sb_fund_ind = PrepFactor(factor_name='factor_sb_fund_ind', group='permno', interval='D', kind='price', stock=stock, div=False, start=start, end=end, save=True).prep()"
   ]
  },
  {
   "cell_type": "code",
   "execution_count": null,
   "id": "ab6e604f",
   "metadata": {},
   "outputs": [],
   "source": [
    "sb_fund_raw = PrepFactor(factor_name='factor_sb_fund_raw', group='permno', interval='D', kind='price', stock=stock, div=False, start=start, end=end, save=False).prep()"
   ]
  },
  {
   "cell_type": "code",
   "execution_count": null,
   "id": "2dc6d6a2",
   "metadata": {},
   "outputs": [
    {
     "name": "stdout",
     "output_type": "stream",
     "text": [
      "\b||--\\\\|"
     ]
    }
   ],
   "source": [
    "mf_ret = PrepFactor(factor_name='factor_mf_ret', group='permno', interval='D', kind='price', div=False, stock=stock, start=start, end=end, save=False).prep()"
   ]
  }
 ],
 "metadata": {
  "kernelspec": {
   "display_name": "algofacto",
   "language": "python",
   "name": "algofacto"
  },
  "language_info": {
   "codemirror_mode": {
    "name": "ipython",
    "version": 3
   },
   "file_extension": ".py",
   "mimetype": "text/x-python",
   "name": "python",
   "nbconvert_exporter": "python",
   "pygments_lexer": "ipython3",
   "version": "3.10.13"
  }
 },
 "nbformat": 4,
 "nbformat_minor": 5
}
