{
 "cells": [
  {
   "cell_type": "markdown",
   "id": "78b9128d608b8094",
   "metadata": {},
   "source": [
    "# Prep Factors"
   ]
  },
  {
   "cell_type": "code",
   "execution_count": 2,
   "id": "e04cbf10",
   "metadata": {
    "ExecuteTime": {
     "end_time": "2023-08-28T02:14:33.631198Z",
     "start_time": "2023-08-28T02:14:32.202267600Z"
    }
   },
   "outputs": [],
   "source": [
    "from functions.utils.func import *\n",
    "\n",
    "from prep_factor import PrepFactor\n",
    "\n",
    "stock = read_stock(get_load_data_large_dir() / 'permno_to_train.csv')\n",
    "start='2006-01-01'\n",
    "end = '2022-01-01'"
   ]
  },
  {
   "cell_type": "code",
   "execution_count": 123,
   "id": "10d229f6",
   "metadata": {
    "ExecuteTime": {
     "end_time": "2023-08-20T02:33:34.997168300Z",
     "start_time": "2023-08-20T02:33:31.959557500Z"
    }
   },
   "outputs": [
    {
     "name": "stdout",
     "output_type": "stream",
     "text": [
      "Creating factor_ind ----------------------------------------|| \u001b[92m✔\u001b[0m\n",
      "Shape: (2128549, 1)\n"
     ]
    }
   ],
   "source": [
    "ind = PrepFactor(factor_name='factor_ind', interval='D', kind='ind', stock=stock, div=False, start=start, end=end, save=True).prep()"
   ]
  },
  {
   "cell_type": "code",
   "execution_count": 124,
   "id": "99130ac6",
   "metadata": {
    "ExecuteTime": {
     "end_time": "2023-08-20T02:32:11.978042700Z",
     "start_time": "2023-08-20T02:32:09.147997300Z"
    }
   },
   "outputs": [
    {
     "name": "stdout",
     "output_type": "stream",
     "text": [
      "Creating factor_time ---------------------------------------\\| \u001b[92m✔\u001b[0m\n",
      "Shape: (2128549, 2)\n"
     ]
    }
   ],
   "source": [
    "cycle = PrepFactor(factor_name='factor_time', interval='D', kind='price', stock=stock, div=False, start=start, end=end, save=True).prep()"
   ]
  },
  {
   "cell_type": "code",
   "execution_count": null,
   "id": "4b59dc86",
   "metadata": {
    "ExecuteTime": {
     "end_time": "2023-08-20T02:37:29.208839Z",
     "start_time": "2023-08-20T02:37:15.515563500Z"
    }
   },
   "outputs": [],
   "source": [
    "ret = PrepFactor(factor_name='factor_ret', interval='D', kind='price', stock=stock, div=False, start=start, end=end, save=True).prep()"
   ]
  },
  {
   "cell_type": "code",
   "execution_count": null,
   "id": "28ae0010",
   "metadata": {
    "ExecuteTime": {
     "end_time": "2023-08-20T02:37:53.653052300Z",
     "start_time": "2023-08-20T02:37:36.757464200Z"
    }
   },
   "outputs": [],
   "source": [
    "volatility = PrepFactor(factor_name='factor_volatility', interval='D', kind='price', stock=stock, div=False, start=start, end=end, save=True).prep()"
   ]
  },
  {
   "cell_type": "code",
   "execution_count": null,
   "id": "41abbb3d8f2ab46a",
   "metadata": {
    "ExecuteTime": {
     "end_time": "2023-08-20T02:37:36.757464200Z",
     "start_time": "2023-08-20T02:37:32.261955Z"
    }
   },
   "outputs": [],
   "source": [
    "volume = PrepFactor(factor_name='factor_volume', interval='D', kind='price', div=False, stock=stock, start=start, end=end, save=True).prep()"
   ]
  },
  {
   "cell_type": "code",
   "execution_count": 10,
   "id": "c6077744",
   "metadata": {
    "ExecuteTime": {
     "end_time": "2023-08-20T02:38:32.606251400Z",
     "start_time": "2023-08-20T02:38:21.951178800Z"
    }
   },
   "outputs": [
    {
     "name": "stdout",
     "output_type": "stream",
     "text": [
      "Creating factor_sb_fama ------------------------------------ | \u001b[92m✔\u001b[0m\n",
      "Shape: (2128549, 18)\n"
     ]
    }
   ],
   "source": [
    "sb_fama = PrepFactor(factor_name='factor_sb_fama', interval='D', kind='price', stock=stock, div=False, start=start, end=end, save=True).prep()"
   ]
  },
  {
   "cell_type": "code",
   "execution_count": null,
   "id": "2a449d33",
   "metadata": {
    "ExecuteTime": {
     "end_time": "2023-08-20T02:38:49.332605700Z",
     "start_time": "2023-08-20T02:38:33.766548600Z"
    }
   },
   "outputs": [],
   "source": [
    "sb_etf = PrepFactor(factor_name='factor_sb_etf', interval='D', kind='price', div=False, stock=stock, start=start, end=end, save=True).prep()"
   ]
  },
  {
   "cell_type": "code",
   "execution_count": null,
   "id": "5b17f50f",
   "metadata": {
    "ExecuteTime": {
     "end_time": "2023-08-20T02:44:52.639983300Z",
     "start_time": "2023-08-20T02:44:45.571174Z"
    }
   },
   "outputs": [],
   "source": [
    "load_ret = PrepFactor(factor_name='factor_load_ret', interval='D', kind='loading', stock=stock, div=False, start=start, end=end, save=True).prep()"
   ]
  },
  {
   "cell_type": "code",
   "execution_count": null,
   "id": "52358edc",
   "metadata": {
    "ExecuteTime": {
     "end_time": "2023-08-26T23:05:21.075743100Z",
     "start_time": "2023-08-26T23:05:18.475355Z"
    }
   },
   "outputs": [],
   "source": [
    "clust_ret = PrepFactor(factor_name='factor_clust_ret', interval='D', kind='cluster', stock=stock, div=False, start=start, end=end, save=True).prep()"
   ]
  },
  {
   "cell_type": "code",
   "execution_count": null,
   "id": "cf0a9399",
   "metadata": {
    "ExecuteTime": {
     "end_time": "2023-08-20T02:44:58.912137200Z",
     "start_time": "2023-08-20T02:44:55.628886Z"
    }
   },
   "outputs": [],
   "source": [
    "clust_load_ret = PrepFactor(factor_name='factor_clust_load_ret', interval='D', kind='cluster', stock=stock, div=False, start=start, end=end, save=True).prep()"
   ]
  },
  {
   "cell_type": "code",
   "execution_count": null,
   "id": "10476ff4d58ed38b",
   "metadata": {
    "ExecuteTime": {
     "end_time": "2023-08-20T02:44:06.692652300Z",
     "start_time": "2023-08-20T02:44:03.056311200Z"
    }
   },
   "outputs": [],
   "source": [
    "rank_ret = PrepFactor(factor_name='factor_rank_ret', interval='D', kind='price', stock=stock, div=False, start=start, end=end, save=True).prep()"
   ]
  },
  {
   "cell_type": "code",
   "execution_count": 9,
   "id": "b0a2bfa18a5955f3",
   "metadata": {
    "ExecuteTime": {
     "end_time": "2023-08-20T02:43:36.858109100Z",
     "start_time": "2023-08-20T02:43:18.642098100Z"
    }
   },
   "outputs": [
    {
     "name": "stdout",
     "output_type": "stream",
     "text": [
      "Creating factor_sb_bond ------------------------------------ | \u001b[92m✔\u001b[0m\n",
      "Shape: (2128549, 18)\n"
     ]
    }
   ],
   "source": [
    "sb_bond = PrepFactor(factor_name='factor_sb_bond', interval='D', kind='price', stock=stock, div=False, start=start, end=end, save=True).prep()"
   ]
  },
  {
   "cell_type": "code",
   "execution_count": null,
   "id": "6fbfc030909a304d",
   "metadata": {
    "ExecuteTime": {
     "end_time": "2023-08-20T02:43:16.581410800Z",
     "start_time": "2023-08-20T02:43:13.519555Z"
    }
   },
   "outputs": [],
   "source": [
    "sign = PrepFactor(factor_name='factor_sign', interval='D', kind='price', stock=stock, div=False, start=start, end=end, save=True).prep()"
   ]
  },
  {
   "cell_type": "code",
   "execution_count": null,
   "id": "e81a93a9",
   "metadata": {},
   "outputs": [],
   "source": [
    "load_volume = PrepFactor(factor_name='factor_load_volume', interval='D', kind='loading', stock=stock, div=False, start=start, end=end, save=True).prep()"
   ]
  },
  {
   "cell_type": "code",
   "execution_count": null,
   "id": "be3de686",
   "metadata": {
    "ExecuteTime": {
     "end_time": "2023-08-27T05:46:23.717054Z",
     "start_time": "2023-08-27T05:46:23.067545200Z"
    }
   },
   "outputs": [],
   "source": [
    "ind_mom = PrepFactor(factor_name='factor_ind_mom', interval='D', kind='ind', stock=stock, div=False, start=start, end=end, save=True).prep()"
   ]
  },
  {
   "cell_type": "code",
   "execution_count": null,
   "id": "b4197b53",
   "metadata": {
    "ExecuteTime": {
     "end_time": "2023-08-20T03:40:08.614889Z",
     "start_time": "2023-08-20T03:40:07.394307Z"
    }
   },
   "outputs": [],
   "source": [
    "talib = PrepFactor(factor_name='factor_talib', interval='D', kind='price', stock=stock, div=False, start=start, end=end, save=True).prep()"
   ]
  },
  {
   "cell_type": "code",
   "execution_count": null,
   "id": "4d0a7bfd",
   "metadata": {
    "ExecuteTime": {
     "end_time": "2023-08-20T02:36:17.044882400Z",
     "start_time": "2023-08-20T02:36:11.897275100Z"
    }
   },
   "outputs": [],
   "source": [
    "macro = PrepFactor(factor_name='factor_macro', interval='D', kind='macro', stock=stock, div=False, start=start, end=end, save=True).prep()"
   ]
  },
  {
   "cell_type": "code",
   "execution_count": null,
   "id": "5e5501bba1bc94ba",
   "metadata": {
    "ExecuteTime": {
     "end_time": "2023-08-20T02:43:03.874695100Z",
     "start_time": "2023-08-20T02:42:58.606911800Z"
    }
   },
   "outputs": [],
   "source": [
    "sb_spy_inv = PrepFactor(factor_name='factor_sb_spy_inv', interval='D', kind='price', stock=stock, div=False, start=start, end=end, save=False).prep()"
   ]
  },
  {
   "cell_type": "code",
   "execution_count": null,
   "id": "5cc059a57d7c8ca3",
   "metadata": {
    "ExecuteTime": {
     "end_time": "2023-08-26T23:05:41.963295200Z",
     "start_time": "2023-08-26T23:05:39.483524Z"
    }
   },
   "outputs": [],
   "source": [
    "clust_volume = PrepFactor(factor_name='factor_clust_volume', interval='D', kind='cluster', stock=stock, div=False, start=start, end=end, save=True).prep()"
   ]
  },
  {
   "cell_type": "code",
   "execution_count": null,
   "id": "5c302a6511fc65a9",
   "metadata": {
    "ExecuteTime": {
     "end_time": "2023-08-27T05:58:18.919784500Z",
     "start_time": "2023-08-27T05:58:16.228119Z"
    }
   },
   "outputs": [],
   "source": [
    "clust_ind_mom = PrepFactor(factor_name='factor_clust_ind_mom', interval='D', kind='cluster', stock=stock, div=False, start=start, end=end, save=True).prep()"
   ]
  },
  {
   "cell_type": "code",
   "execution_count": null,
   "id": "d083b3cbe74b8043",
   "metadata": {},
   "outputs": [],
   "source": [
    "load_volatility = PrepFactor(factor_name='factor_load_volatility', interval='D', kind='loading', stock=stock, div=False, start=start, end=end, save=True).prep()"
   ]
  },
  {
   "cell_type": "code",
   "execution_count": null,
   "id": "a9caece6",
   "metadata": {},
   "outputs": [],
   "source": [
    "clust_volatility = PrepFactor(factor_name='factor_clust_volatility', interval='D', kind='cluster', stock=stock, div=False, start=start, end=end, save=True).prep()"
   ]
  },
  {
   "cell_type": "code",
   "execution_count": null,
   "id": "9f9c07eb",
   "metadata": {},
   "outputs": [],
   "source": [
    "high = PrepFactor(factor_name='factor_high', interval='D', kind='price', div=False, stock=stock, start=start, end=end, save=True).prep()"
   ]
  },
  {
   "cell_type": "code",
   "execution_count": null,
   "id": "8bd357d1",
   "metadata": {},
   "outputs": [],
   "source": [
    "low = PrepFactor(factor_name='factor_low', interval='D', kind='price', div=False, stock=stock, start=start, end=end, save=True).prep()"
   ]
  },
  {
   "cell_type": "code",
   "execution_count": null,
   "id": "252b83bc",
   "metadata": {},
   "outputs": [],
   "source": [
    "rank_volume = PrepFactor(factor_name='factor_rank_volume', interval='D', kind='price', stock=stock, div=False, start=start, end=end, save=True).prep()"
   ]
  },
  {
   "cell_type": "code",
   "execution_count": null,
   "id": "b3c15a2a",
   "metadata": {},
   "outputs": [],
   "source": [
    "clust_load_volume = PrepFactor(factor_name='factor_clust_load_volume', interval='D', kind='cluster', stock=stock, div=False, start=start, end=end, save=True).prep()"
   ]
  },
  {
   "cell_type": "code",
   "execution_count": null,
   "id": "da11b59c",
   "metadata": {},
   "outputs": [],
   "source": [
    "total = PrepFactor(factor_name='factor_total', interval='D', kind='price', stock=stock, div=False, start=start, end=end, save=True).prep()"
   ]
  },
  {
   "cell_type": "code",
   "execution_count": null,
   "id": "ee894509",
   "metadata": {
    "scrolled": true
   },
   "outputs": [],
   "source": [
    "rank_volatility = PrepFactor(factor_name='factor_rank_volatility', interval='D', kind='price', stock=stock, div=False, start=start, end=end, save=True).prep()"
   ]
  },
  {
   "cell_type": "code",
   "execution_count": null,
   "id": "80739c96",
   "metadata": {},
   "outputs": [],
   "source": [
    "cond_ret = PrepFactor(factor_name='factor_cond_ret', interval='D', kind='price', stock=stock, div=False, start=start, end=end, save=True).prep()"
   ]
  },
  {
   "cell_type": "code",
   "execution_count": 4,
   "id": "77e56d8e",
   "metadata": {},
   "outputs": [
    {
     "name": "stdout",
     "output_type": "stream",
     "text": [
      "Creating factor_fund_raw ----------------------------------- | \u001b[92m✔\u001b[0m\n",
      "Shape: (2128549, 27)\n"
     ]
    }
   ],
   "source": [
    "fund_raw = PrepFactor(factor_name='factor_fund_raw', interval='M', kind='fundamental', stock=stock, div=False, start=start, end=end, save=True).prep()"
   ]
  },
  {
   "cell_type": "code",
   "execution_count": 6,
   "id": "586b7fc3",
   "metadata": {},
   "outputs": [
    {
     "name": "stdout",
     "output_type": "stream",
     "text": [
      "Creating factor_fund_q ------------------------------------- | \u001b[92m✔\u001b[0m\n",
      "Shape: (2128549, 1)\n"
     ]
    }
   ],
   "source": [
    "fund_q = PrepFactor(factor_name='factor_fund_q', interval='M', kind='fundamental', stock=stock, div=False, start=start, end=end, save=True).prep()"
   ]
  },
  {
   "cell_type": "code",
   "execution_count": 7,
   "id": "e5b8fe36",
   "metadata": {},
   "outputs": [
    {
     "name": "stdout",
     "output_type": "stream",
     "text": [
      "Creating factor_clust_fund_raw ----------------------------- | \u001b[92m✔\u001b[0m\n",
      "Shape: (2128549, 1)\n"
     ]
    }
   ],
   "source": [
    "factor_clust_fund_raw = PrepFactor(factor_name='factor_clust_fund_raw', interval='M', kind='cluster', stock='all', div=False, start=start, end=end, save=True).prep()"
   ]
  },
  {
   "cell_type": "code",
   "execution_count": 8,
   "id": "bb150641",
   "metadata": {
    "ExecuteTime": {
     "end_time": "2023-08-20T03:42:15.631353300Z",
     "start_time": "2023-08-20T03:42:12.039402600Z"
    }
   },
   "outputs": [
    {
     "name": "stdout",
     "output_type": "stream",
     "text": [
      "Creating factor_rank_fund_raw ------------------------------ | \u001b[92m✔\u001b[0m\n",
      "Shape: (2128549, 27)\n"
     ]
    }
   ],
   "source": [
    "rank_fund_raw = PrepFactor(factor_name='factor_rank_fund_raw', interval='M', kind='fundamental', stock=stock, div=False, start=start, end=end, save=True).prep()"
   ]
  },
  {
   "cell_type": "code",
   "execution_count": null,
   "id": "4d663175",
   "metadata": {},
   "outputs": [],
   "source": [
    "ep_bond = PrepFactor(factor_name='factor_ep_bond', interval='D', kind='price', div=False, stock=stock, start=start, end=end, save=True).prep()"
   ]
  },
  {
   "cell_type": "code",
   "execution_count": null,
   "id": "5761ce86",
   "metadata": {},
   "outputs": [],
   "source": [
    "ep_etf = PrepFactor(factor_name='factor_ep_etf', interval='D', kind='price', div=False, stock=stock, start=start, end=end, save=True).prep()"
   ]
  },
  {
   "cell_type": "code",
   "execution_count": null,
   "id": "1b34d3bf",
   "metadata": {},
   "outputs": [],
   "source": [
    "ep_fama = PrepFactor(factor_name='factor_ep_fama', interval='D', kind='price', div=False, stock=stock, start=start, end=end, save=True).prep()"
   ]
  },
  {
   "cell_type": "code",
   "execution_count": null,
   "id": "383bbcf5-edab-43ed-8834-eee32a637504",
   "metadata": {},
   "outputs": [],
   "source": [
    "cond_ind_mom = PrepFactor(factor_name='factor_cond_ind_mom', interval='D', kind='ind', stock=stock, div=False, start=start, end=end, save=True).prep()"
   ]
  },
  {
   "cell_type": "code",
   "execution_count": null,
   "id": "0f11ddb2-2c52-4b41-b404-545a9bd66a73",
   "metadata": {},
   "outputs": [],
   "source": [
    "ind_vwr = PrepFactor(factor_name='factor_ind_vwr', interval='D', kind='ind', stock=stock, div=False, start=start, end=end, save=True).prep()"
   ]
  },
  {
   "cell_type": "code",
   "execution_count": null,
   "id": "bf13822b-0aec-4924-b6c4-e8f1ea1eb877",
   "metadata": {},
   "outputs": [],
   "source": [
    "rank_ind_vwr = PrepFactor(factor_name='factor_rank_ind_vwr', interval='D', kind='ind', stock=stock, div=False, start=start, end=end, save=True).prep()"
   ]
  },
  {
   "cell_type": "code",
   "execution_count": 128,
   "id": "437d53ea-c7a3-44d3-ab35-60686d2be0a6",
   "metadata": {},
   "outputs": [
    {
     "name": "stdout",
     "output_type": "stream",
     "text": [
      "\\|Creating factor_rank_ind_mom -------------------------------|/\u001b[92m✔\u001b[0m\n",
      "Shape: (2128549, 6-\n",
      "\b|-"
     ]
    }
   ],
   "source": [
    "rank_ind_mom = PrepFactor(factor_name='factor_rank_ind_mom', interval='D', kind='ind', stock=stock, div=False, start=start, end=end, save=True).prep()"
   ]
  },
  {
   "cell_type": "code",
   "execution_count": 5,
   "id": "c12ec726",
   "metadata": {},
   "outputs": [
    {
     "name": "stdout",
     "output_type": "stream",
     "text": [
      "Creating factor_sb_overall ---------------------------------| \u001b[92m✔\u001b[0m\n",
      "Shape: (2128549, 18)\n"
     ]
    }
   ],
   "source": [
    "sb_overall = PrepFactor(factor_name='factor_sb_overall', interval='D', kind='price', stock=stock, div=False, start=start, end=end, save=True).prep()"
   ]
  },
  {
   "cell_type": "code",
   "execution_count": 7,
   "id": "373eb5e9",
   "metadata": {},
   "outputs": [
    {
     "name": "stdout",
     "output_type": "stream",
     "text": [
      "Creating factor_sb_sector ---------------------------------- | \u001b[92m✔\u001b[0m\n",
      "Shape: (2128549, 18)\n"
     ]
    }
   ],
   "source": [
    "sb_sector = PrepFactor(factor_name='factor_sb_sector', interval='D', kind='price', stock=stock, div=False, start=start, end=end, save=True).prep()"
   ]
  },
  {
   "cell_type": "code",
   "execution_count": 8,
   "id": "956f6129",
   "metadata": {},
   "outputs": [
    {
     "name": "stdout",
     "output_type": "stream",
     "text": [
      "Creating factor_sb_ind ------------------------------------- | \u001b[92m✔\u001b[0m\n",
      "Shape: (2128549, 18)\n"
     ]
    }
   ],
   "source": [
    "sb_ind = PrepFactor(factor_name='factor_sb_ind', interval='D', kind='price', stock=stock, div=False, start=start, end=end, save=True).prep()"
   ]
  },
  {
   "cell_type": "code",
   "execution_count": null,
   "id": "0861edc0",
   "metadata": {},
   "outputs": [],
   "source": [
    "dividend = PrepFactor(factor_name='factor_dividend', interval='D', kind='dividend', stock=stock, div=False, start=start, end=end, save=True).prep()"
   ]
  },
  {
   "cell_type": "code",
   "execution_count": 3,
   "id": "32d68ecf-fa8f-4743-b665-775450d25142",
   "metadata": {},
   "outputs": [
    {
     "name": "stdout",
     "output_type": "stream",
     "text": [
      "Creating factor_sb_lag_bond -------------------------------- | \u001b[92m✔\u001b[0m\n",
      "Shape: (2128549, 28)\n"
     ]
    }
   ],
   "source": [
    "sb_lag_bond = PrepFactor(factor_name='factor_sb_lag_bond', interval='D', kind='price', stock=stock, div=False, start=start, end=end, save=True).prep()"
   ]
  },
  {
   "cell_type": "code",
   "execution_count": null,
   "id": "4641fc40-5fc2-4169-a96f-5c7af4f369e9",
   "metadata": {},
   "outputs": [],
   "source": []
  },
  {
   "cell_type": "code",
   "execution_count": null,
   "id": "f5b05d69-59fc-41e2-bc01-22dc6999bce2",
   "metadata": {},
   "outputs": [],
   "source": []
  },
  {
   "cell_type": "code",
   "execution_count": null,
   "id": "0e45fb68-f909-480e-b5ea-aad48246232b",
   "metadata": {},
   "outputs": [],
   "source": []
  },
  {
   "cell_type": "code",
   "execution_count": 19,
   "id": "198e593d6cf647c3",
   "metadata": {
    "ExecuteTime": {
     "end_time": "2023-08-20T02:44:35.569616300Z",
     "start_time": "2023-08-20T02:44:15.103650600Z"
    }
   },
   "outputs": [
    {
     "name": "stdout",
     "output_type": "stream",
     "text": [
      "Creating factor_open_asset ---------------------------------| \u001b[92m✔\u001b[0m\n",
      "Shape: (2128549, 11)\n"
     ]
    }
   ],
   "source": [
    "open_asset = PrepFactor(factor_name='factor_open_asset', interval='M', kind='open', stock=stock, div=False, start=start, end=end, save=False).prep()"
   ]
  },
  {
   "cell_type": "code",
   "execution_count": 10,
   "id": "20c0f36b-ce50-4146-829c-08c5bc487b5b",
   "metadata": {},
   "outputs": [
    {
     "name": "stdout",
     "output_type": "stream",
     "text": [
      "Creating factor_open_div ----------------------------------- | \u001b[92m✔\u001b[0m\n",
      "Shape: (2128549, 1)\n"
     ]
    }
   ],
   "source": [
    "open_div = PrepFactor(factor_name='factor_open_div', interval='M', kind='open', stock=stock, div=False, start=start, end=end, save=True).prep()"
   ]
  },
  {
   "cell_type": "code",
   "execution_count": null,
   "id": "02a8989f-c7d3-4b7b-b431-f04b0ea9ec9e",
   "metadata": {},
   "outputs": [],
   "source": []
  },
  {
   "cell_type": "code",
   "execution_count": null,
   "id": "769c50bc-9ec2-4d83-93e0-aebde87a86a8",
   "metadata": {},
   "outputs": [],
   "source": []
  },
  {
   "cell_type": "code",
   "execution_count": null,
   "id": "121adc44-20e5-429a-bf1a-54e0205e33b6",
   "metadata": {},
   "outputs": [],
   "source": []
  },
  {
   "cell_type": "code",
   "execution_count": null,
   "id": "c3fe7d6c",
   "metadata": {
    "ExecuteTime": {
     "end_time": "2023-08-27T04:54:00.227526Z",
     "start_time": "2023-08-27T04:53:58.979593100Z"
    }
   },
   "outputs": [],
   "source": [
    "rf_ret = PrepFactor(factor_name='factor_rf_ret', interval='D', kind='price', div=False, stock=stock, start=start, end=end, save=True).prep()"
   ]
  },
  {
   "cell_type": "code",
   "execution_count": null,
   "id": "2faa82f3",
   "metadata": {},
   "outputs": [],
   "source": [
    "fund_ratio = PrepFactor(factor_name='factor_fund_ratio', interval='M', kind='fundamental', tickers='all', div=False, start=start, end=end, save=True).prep()"
   ]
  },
  {
   "cell_type": "code",
   "execution_count": null,
   "id": "9f8169d5c27baa1a",
   "metadata": {
    "ExecuteTime": {
     "end_time": "2023-08-25T04:23:03.160186300Z",
     "start_time": "2023-08-25T04:22:29.575338200Z"
    }
   },
   "outputs": [],
   "source": [
    "sb_macro = PrepFactor(factor_name='factor_sb_macro', interval='D', kind='price', stock=stock, div=False, start=start, end=end, save=True).prep()"
   ]
  },
  {
   "cell_type": "code",
   "execution_count": null,
   "id": "7c1f3f64aa266dd9",
   "metadata": {
    "ExecuteTime": {
     "end_time": "2023-08-20T03:27:30.974738300Z",
     "start_time": "2023-08-20T03:27:17.133277400Z"
    }
   },
   "outputs": [],
   "source": [
    "rf_volume = PrepFactor(factor_name='factor_rf_volume', interval='D', kind='price', stock=stock, div=False, start=start, end=end, save=True).prep()"
   ]
  },
  {
   "cell_type": "code",
   "execution_count": null,
   "id": "911cc0884e1edcba",
   "metadata": {
    "ExecuteTime": {
     "end_time": "2023-08-20T03:27:44.742463700Z",
     "start_time": "2023-08-20T03:27:30.974738300Z"
    }
   },
   "outputs": [],
   "source": [
    "rf_sign = PrepFactor(factor_name='factor_rf_sign', interval='D', kind='price', stock=stock, div=False, start=start, end=end, save=True).prep()"
   ]
  },
  {
   "cell_type": "code",
   "execution_count": null,
   "id": "0bac8b10",
   "metadata": {},
   "outputs": [],
   "source": [
    "clust_ret30 = PrepFactor(factor_name='factor_clust_ret30', interval='D', kind='cluster', stock=stock, div=False, start=start, end=end, save=True).prep()"
   ]
  },
  {
   "cell_type": "code",
   "execution_count": null,
   "id": "f948a3e0",
   "metadata": {},
   "outputs": [],
   "source": [
    "clust_ret60 = PrepFactor(factor_name='factor_clust_ret60', interval='D', kind='cluster', stock=stock, div=False, start=start, end=end, save=True).prep()"
   ]
  },
  {
   "cell_type": "code",
   "execution_count": null,
   "id": "176d7830",
   "metadata": {},
   "outputs": [],
   "source": [
    "sb_oil = PrepFactor(factor_name='factor_sb_oil', interval='D', kind='price', stock=stock, div=False, start=start, end=end, save=True).prep()"
   ]
  },
  {
   "cell_type": "code",
   "execution_count": null,
   "id": "d1d99031",
   "metadata": {},
   "outputs": [],
   "source": [
    "sb_fund_ind = PrepFactor(factor_name='factor_sb_fund_ind', interval='D', kind='price', stock=stock, div=False, start=start, end=end, save=True).prep()"
   ]
  },
  {
   "cell_type": "code",
   "execution_count": null,
   "id": "ab6e604f",
   "metadata": {},
   "outputs": [],
   "source": [
    "sb_fund_raw = PrepFactor(factor_name='factor_sb_fund_raw', interval='D', kind='price', stock=stock, div=False, start=start, end=end, save=False).prep()"
   ]
  },
  {
   "cell_type": "code",
   "execution_count": null,
   "id": "2dc6d6a2",
   "metadata": {},
   "outputs": [
    {
     "name": "stdout",
     "output_type": "stream",
     "text": [
      "\b||--\\\\|"
     ]
    }
   ],
   "source": [
    "mf_ret = PrepFactor(factor_name='factor_mf_ret', interval='D', kind='price', div=False, stock=stock, start=start, end=end, save=False).prep()"
   ]
  }
 ],
 "metadata": {
  "kernelspec": {
   "display_name": "algofacto",
   "language": "python",
   "name": "algofacto"
  },
  "language_info": {
   "codemirror_mode": {
    "name": "ipython",
    "version": 3
   },
   "file_extension": ".py",
   "mimetype": "text/x-python",
   "name": "python",
   "nbconvert_exporter": "python",
   "pygments_lexer": "ipython3",
   "version": "3.10.13"
  }
 },
 "nbformat": 4,
 "nbformat_minor": 5
}
