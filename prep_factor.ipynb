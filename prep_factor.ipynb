{
 "cells": [
  {
   "cell_type": "markdown",
   "source": [
    "# Prep Factors"
   ],
   "metadata": {
    "collapsed": false
   },
   "id": "78b9128d608b8094"
  },
  {
   "cell_type": "code",
   "execution_count": 2,
   "id": "e04cbf10",
   "metadata": {
    "ExecuteTime": {
     "end_time": "2023-08-26T23:05:11.424189500Z",
     "start_time": "2023-08-26T23:05:08.486188300Z"
    }
   },
   "outputs": [],
   "source": [
    "from functions.utils.func import *\n",
    "\n",
    "from prep_factor import PrepFactor\n",
    "\n",
    "tickers = read_ticker(get_load_data_large_dir() / 'tickers_to_train_fundamental.csv')\n",
    "start='2010-01-01'\n",
    "end='2022-01-01'"
   ]
  },
  {
   "cell_type": "code",
   "execution_count": 3,
   "id": "99130ac6",
   "metadata": {
    "ExecuteTime": {
     "end_time": "2023-08-20T02:32:11.978042700Z",
     "start_time": "2023-08-20T02:32:09.147997300Z"
    }
   },
   "outputs": [
    {
     "name": "stdout",
     "output_type": "stream",
     "text": [
      "Creating factor_time --------------------------------------- | \u001B[92m✔\u001B[0m\n",
      "Shape: (2109219, 2)\n"
     ]
    }
   ],
   "source": [
    "cycle = PrepFactor(factor_name='factor_time', interval='D', kind='price', tickers=tickers, div=False, start=start, end=end, save=True).prep()"
   ]
  },
  {
   "cell_type": "code",
   "execution_count": 29,
   "id": "b4197b53",
   "metadata": {
    "ExecuteTime": {
     "end_time": "2023-08-20T03:40:08.614889Z",
     "start_time": "2023-08-20T03:40:07.394307Z"
    }
   },
   "outputs": [
    {
     "name": "stdout",
     "output_type": "stream",
     "text": [
      "Creating factor_talib --------------------------------------| |\u001B[92m✔\u001B[0m\n",
      "Shape: (2109219, 20)\n"
     ]
    }
   ],
   "source": [
    "talib = PrepFactor(factor_name='factor_talib', interval='D', kind='price', tickers=tickers, div=False, start=start, end=end, save=True).prep()"
   ]
  },
  {
   "cell_type": "code",
   "execution_count": 8,
   "id": "10d229f6",
   "metadata": {
    "ExecuteTime": {
     "end_time": "2023-08-20T02:33:34.997168300Z",
     "start_time": "2023-08-20T02:33:31.959557500Z"
    }
   },
   "outputs": [
    {
     "name": "stdout",
     "output_type": "stream",
     "text": [
      "Creating factor_ind ----------------------------------------| -\u001B[92m✔\u001B[0m\n",
      "Shape: (2109219, 2)\n"
     ]
    }
   ],
   "source": [
    "ind = PrepFactor(factor_name='factor_ind', interval='D', kind='ind', tickers=tickers, div=False, start=start, end=end, save=True).prep()"
   ]
  },
  {
   "cell_type": "code",
   "execution_count": 31,
   "id": "bb150641",
   "metadata": {
    "ExecuteTime": {
     "end_time": "2023-08-20T03:42:15.631353300Z",
     "start_time": "2023-08-20T03:42:12.039402600Z"
    }
   },
   "outputs": [
    {
     "name": "stdout",
     "output_type": "stream",
     "text": [
      "Creating factor_fund_ratio ---------------------------------| \u001B[92m✔\u001B[0m\n",
      "/Shape: (2084791, 87)\n"
     ]
    }
   ],
   "source": [
    "fund_ratio = PrepFactor(factor_name='factor_fund_ratio', interval='D', kind='fundamental', tickers=tickers, div=True, start=start, end=end, save=True).prep()"
   ]
  },
  {
   "cell_type": "code",
   "execution_count": 10,
   "id": "4d0a7bfd",
   "metadata": {
    "ExecuteTime": {
     "end_time": "2023-08-20T02:36:17.044882400Z",
     "start_time": "2023-08-20T02:36:11.897275100Z"
    }
   },
   "outputs": [
    {
     "name": "stdout",
     "output_type": "stream",
     "text": [
      "Creating factor_macro --------------------------------------/| \u001B[92m✔\u001B[0m\n",
      "Shape: (2601861, 12)\n",
      "/"
     ]
    }
   ],
   "source": [
    "macro = PrepFactor(factor_name='factor_macro', interval='D', kind='macro', tickers=tickers, div=False, start=start, end=end, save=True).prep()"
   ]
  },
  {
   "cell_type": "code",
   "execution_count": 2,
   "id": "4b59dc86",
   "metadata": {
    "ExecuteTime": {
     "end_time": "2023-08-20T02:37:29.208839Z",
     "start_time": "2023-08-20T02:37:15.515563500Z"
    }
   },
   "outputs": [
    {
     "name": "stdout",
     "output_type": "stream",
     "text": [
      "Creating factor_ret ---------------------------------------- | \u001B[92m✔\u001B[0m\n",
      "Shape: (2109219, 11)\n"
     ]
    }
   ],
   "source": [
    "ret = PrepFactor(factor_name='factor_ret', interval='D', kind='price', tickers=tickers, div=False, start=start, end=end, save=True).prep()"
   ]
  },
  {
   "cell_type": "code",
   "execution_count": 3,
   "outputs": [
    {
     "name": "stdout",
     "output_type": "stream",
     "text": [
      "Creating factor_volume ------------------------------------- | \u001B[92m✔\u001B[0m\n",
      "Shape: (2109219, 5)\n"
     ]
    }
   ],
   "source": [
    "volume = PrepFactor(factor_name='factor_volume', interval='D', kind='price', div=False, tickers=tickers, start=start, end=end, save=True).prep()"
   ],
   "metadata": {
    "collapsed": false,
    "ExecuteTime": {
     "end_time": "2023-08-20T02:37:36.757464200Z",
     "start_time": "2023-08-20T02:37:32.261955Z"
    }
   },
   "id": "41abbb3d8f2ab46a"
  },
  {
   "cell_type": "code",
   "execution_count": 4,
   "id": "28ae0010",
   "metadata": {
    "ExecuteTime": {
     "end_time": "2023-08-20T02:37:53.653052300Z",
     "start_time": "2023-08-20T02:37:36.757464200Z"
    }
   },
   "outputs": [
    {
     "name": "stdout",
     "output_type": "stream",
     "text": [
      "Creating factor_volatility --------------------------------- | \u001B[92m✔\u001B[0m\n",
      "Shape: (2109219, 11)\n"
     ]
    }
   ],
   "source": [
    "vol = PrepFactor(factor_name='factor_volatility', interval='D', kind='price', tickers=tickers, div=False, start=start, end=end, save=True).prep()"
   ]
  },
  {
   "cell_type": "code",
   "execution_count": 167,
   "id": "be3de686",
   "metadata": {
    "ExecuteTime": {
     "end_time": "2023-08-27T05:46:23.717054Z",
     "start_time": "2023-08-27T05:46:23.067545200Z"
    }
   },
   "outputs": [
    {
     "name": "stdout",
     "output_type": "stream",
     "text": [
      "Creating factor_ind_mom ------------------------------------ | \u001B[92m✔\u001B[0m\n",
      "Shape: (2109219, 1)\n"
     ]
    }
   ],
   "source": [
    "ind_mom = PrepFactor(factor_name='factor_ind_mom', interval='D', kind='ind', tickers=tickers, div=False, start=start, end=end, save=True).prep()"
   ]
  },
  {
   "cell_type": "code",
   "execution_count": 170,
   "outputs": [
    {
     "name": "stdout",
     "output_type": "stream",
     "text": [
      "-"
     ]
    },
    {
     "data": {
      "text/plain": "ticker              A  AABA       AAL       AAP      AAPL      ABBV  \\\ndate                                                                  \n2010-01-04   3.880795   1.0       NaN -0.262224  0.707574       NaN   \n2010-01-05   2.089562   1.0       NaN -0.425882  0.161029       NaN   \n2010-01-06  -0.780588   1.0       NaN  0.949438  4.670150       NaN   \n2010-01-07  -0.191742   1.0       NaN -0.064102  0.352375       NaN   \n2010-01-08  -0.070262   NaN       NaN  5.629857  2.770915       NaN   \n...               ...   ...       ...       ...       ...       ...   \n2021-12-27   0.371230   NaN  0.844060  1.306000  1.370706 -0.672212   \n2021-12-28  -0.409263   NaN  1.454359 -1.817776 -1.711885  0.012344   \n2021-12-29   1.282754   NaN  1.778912  0.759583  0.047552  0.752726   \n2021-12-30   0.225393   NaN  7.503002 -4.991088  0.559311 -9.150658   \n2021-12-31  13.505079   NaN  4.284216  8.540095  0.848882  0.242790   \n\nticker            ABC       ABMD        ABT       ACAS  ...       XOM  \\\ndate                                                    ...             \n2010-01-04   0.925411   0.086406   0.656662   2.170067  ...  0.327738   \n2010-01-05   2.063191  30.896040  10.388910   1.299048  ...  0.432865   \n2010-01-06   2.442453  -2.824311   1.029165 -10.615471  ...  1.039230   \n2010-01-07  -0.919055   0.000000   0.960075   8.604812  ...  1.062645   \n2010-01-08   2.150855   7.703150  -1.945871   8.576304  ... -0.710006   \n...               ...        ...        ...        ...  ...       ...   \n2021-12-27   1.843482   1.419311   1.470132        NaN  ...  0.459806   \n2021-12-28   0.510228   0.124043   0.796499        NaN  ...  1.301696   \n2021-12-29   1.422399   2.566426   1.068632        NaN  ...  3.045707   \n2021-12-30 -13.442910   0.164230  -0.363493        NaN  ...  0.461403   \n2021-12-31   1.358616   0.908699   0.209922        NaN  ... -5.120513   \n\nticker           XRAY       XRX       XTO       XYL        YUM        ZBH  \\\ndate                                                                        \n2010-01-04   0.343167  0.914055  0.420264       NaN   0.152479   1.161282   \n2010-01-05  15.286238  0.107926  0.702100       NaN  -0.248310 -40.705450   \n2010-01-06   1.220945  2.718548  0.832365       NaN   0.437955  -0.059857   \n2010-01-07   1.517080 -0.890733  0.070461       NaN  -0.020746   2.658583   \n2010-01-08  -0.000000 -1.453902 -1.106445       NaN   0.115170   7.994834   \n...               ...       ...       ...       ...        ...        ...   \n2021-12-27   0.834452  0.717529       NaN  0.516816 -15.994155   0.574364   \n2021-12-28  -0.162732  4.180717       NaN  4.125967   0.030270  -0.356188   \n2021-12-29   2.307014  1.274555       NaN -1.006027  -2.029616   0.032523   \n2021-12-30  -2.145650  1.929898       NaN  1.122582  -0.701643   0.084259   \n2021-12-31   0.830521  1.893961       NaN  1.032223  -2.235351   1.091649   \n\nticker           ZBRA       ZION       ZTS  \ndate                                        \n2010-01-04   0.514347   1.663526       NaN  \n2010-01-05  -1.562433   1.702508       NaN  \n2010-01-06   2.485135   4.445889       NaN  \n2010-01-07 -10.780503   2.429828       NaN  \n2010-01-08  -1.070696  63.138392       NaN  \n...               ...        ...       ...  \n2021-12-27   1.925090   0.853758  2.807274  \n2021-12-28   3.620298   4.115262  1.796626  \n2021-12-29   3.777776  18.495190 -1.784803  \n2021-12-30   0.979485   1.127663 -3.299384  \n2021-12-31  -1.678910   0.365596  1.185330  \n\n[3024 rows x 814 columns]",
      "text/html": "<div>\n<style scoped>\n    .dataframe tbody tr th:only-of-type {\n        vertical-align: middle;\n    }\n\n    .dataframe tbody tr th {\n        vertical-align: top;\n    }\n\n    .dataframe thead th {\n        text-align: right;\n    }\n</style>\n<table border=\"1\" class=\"dataframe\">\n  <thead>\n    <tr style=\"text-align: right;\">\n      <th>ticker</th>\n      <th>A</th>\n      <th>AABA</th>\n      <th>AAL</th>\n      <th>AAP</th>\n      <th>AAPL</th>\n      <th>ABBV</th>\n      <th>ABC</th>\n      <th>ABMD</th>\n      <th>ABT</th>\n      <th>ACAS</th>\n      <th>...</th>\n      <th>XOM</th>\n      <th>XRAY</th>\n      <th>XRX</th>\n      <th>XTO</th>\n      <th>XYL</th>\n      <th>YUM</th>\n      <th>ZBH</th>\n      <th>ZBRA</th>\n      <th>ZION</th>\n      <th>ZTS</th>\n    </tr>\n    <tr>\n      <th>date</th>\n      <th></th>\n      <th></th>\n      <th></th>\n      <th></th>\n      <th></th>\n      <th></th>\n      <th></th>\n      <th></th>\n      <th></th>\n      <th></th>\n      <th></th>\n      <th></th>\n      <th></th>\n      <th></th>\n      <th></th>\n      <th></th>\n      <th></th>\n      <th></th>\n      <th></th>\n      <th></th>\n      <th></th>\n    </tr>\n  </thead>\n  <tbody>\n    <tr>\n      <th>2010-01-04</th>\n      <td>3.880795</td>\n      <td>1.0</td>\n      <td>NaN</td>\n      <td>-0.262224</td>\n      <td>0.707574</td>\n      <td>NaN</td>\n      <td>0.925411</td>\n      <td>0.086406</td>\n      <td>0.656662</td>\n      <td>2.170067</td>\n      <td>...</td>\n      <td>0.327738</td>\n      <td>0.343167</td>\n      <td>0.914055</td>\n      <td>0.420264</td>\n      <td>NaN</td>\n      <td>0.152479</td>\n      <td>1.161282</td>\n      <td>0.514347</td>\n      <td>1.663526</td>\n      <td>NaN</td>\n    </tr>\n    <tr>\n      <th>2010-01-05</th>\n      <td>2.089562</td>\n      <td>1.0</td>\n      <td>NaN</td>\n      <td>-0.425882</td>\n      <td>0.161029</td>\n      <td>NaN</td>\n      <td>2.063191</td>\n      <td>30.896040</td>\n      <td>10.388910</td>\n      <td>1.299048</td>\n      <td>...</td>\n      <td>0.432865</td>\n      <td>15.286238</td>\n      <td>0.107926</td>\n      <td>0.702100</td>\n      <td>NaN</td>\n      <td>-0.248310</td>\n      <td>-40.705450</td>\n      <td>-1.562433</td>\n      <td>1.702508</td>\n      <td>NaN</td>\n    </tr>\n    <tr>\n      <th>2010-01-06</th>\n      <td>-0.780588</td>\n      <td>1.0</td>\n      <td>NaN</td>\n      <td>0.949438</td>\n      <td>4.670150</td>\n      <td>NaN</td>\n      <td>2.442453</td>\n      <td>-2.824311</td>\n      <td>1.029165</td>\n      <td>-10.615471</td>\n      <td>...</td>\n      <td>1.039230</td>\n      <td>1.220945</td>\n      <td>2.718548</td>\n      <td>0.832365</td>\n      <td>NaN</td>\n      <td>0.437955</td>\n      <td>-0.059857</td>\n      <td>2.485135</td>\n      <td>4.445889</td>\n      <td>NaN</td>\n    </tr>\n    <tr>\n      <th>2010-01-07</th>\n      <td>-0.191742</td>\n      <td>1.0</td>\n      <td>NaN</td>\n      <td>-0.064102</td>\n      <td>0.352375</td>\n      <td>NaN</td>\n      <td>-0.919055</td>\n      <td>0.000000</td>\n      <td>0.960075</td>\n      <td>8.604812</td>\n      <td>...</td>\n      <td>1.062645</td>\n      <td>1.517080</td>\n      <td>-0.890733</td>\n      <td>0.070461</td>\n      <td>NaN</td>\n      <td>-0.020746</td>\n      <td>2.658583</td>\n      <td>-10.780503</td>\n      <td>2.429828</td>\n      <td>NaN</td>\n    </tr>\n    <tr>\n      <th>2010-01-08</th>\n      <td>-0.070262</td>\n      <td>NaN</td>\n      <td>NaN</td>\n      <td>5.629857</td>\n      <td>2.770915</td>\n      <td>NaN</td>\n      <td>2.150855</td>\n      <td>7.703150</td>\n      <td>-1.945871</td>\n      <td>8.576304</td>\n      <td>...</td>\n      <td>-0.710006</td>\n      <td>-0.000000</td>\n      <td>-1.453902</td>\n      <td>-1.106445</td>\n      <td>NaN</td>\n      <td>0.115170</td>\n      <td>7.994834</td>\n      <td>-1.070696</td>\n      <td>63.138392</td>\n      <td>NaN</td>\n    </tr>\n    <tr>\n      <th>...</th>\n      <td>...</td>\n      <td>...</td>\n      <td>...</td>\n      <td>...</td>\n      <td>...</td>\n      <td>...</td>\n      <td>...</td>\n      <td>...</td>\n      <td>...</td>\n      <td>...</td>\n      <td>...</td>\n      <td>...</td>\n      <td>...</td>\n      <td>...</td>\n      <td>...</td>\n      <td>...</td>\n      <td>...</td>\n      <td>...</td>\n      <td>...</td>\n      <td>...</td>\n      <td>...</td>\n    </tr>\n    <tr>\n      <th>2021-12-27</th>\n      <td>0.371230</td>\n      <td>NaN</td>\n      <td>0.844060</td>\n      <td>1.306000</td>\n      <td>1.370706</td>\n      <td>-0.672212</td>\n      <td>1.843482</td>\n      <td>1.419311</td>\n      <td>1.470132</td>\n      <td>NaN</td>\n      <td>...</td>\n      <td>0.459806</td>\n      <td>0.834452</td>\n      <td>0.717529</td>\n      <td>NaN</td>\n      <td>0.516816</td>\n      <td>-15.994155</td>\n      <td>0.574364</td>\n      <td>1.925090</td>\n      <td>0.853758</td>\n      <td>2.807274</td>\n    </tr>\n    <tr>\n      <th>2021-12-28</th>\n      <td>-0.409263</td>\n      <td>NaN</td>\n      <td>1.454359</td>\n      <td>-1.817776</td>\n      <td>-1.711885</td>\n      <td>0.012344</td>\n      <td>0.510228</td>\n      <td>0.124043</td>\n      <td>0.796499</td>\n      <td>NaN</td>\n      <td>...</td>\n      <td>1.301696</td>\n      <td>-0.162732</td>\n      <td>4.180717</td>\n      <td>NaN</td>\n      <td>4.125967</td>\n      <td>0.030270</td>\n      <td>-0.356188</td>\n      <td>3.620298</td>\n      <td>4.115262</td>\n      <td>1.796626</td>\n    </tr>\n    <tr>\n      <th>2021-12-29</th>\n      <td>1.282754</td>\n      <td>NaN</td>\n      <td>1.778912</td>\n      <td>0.759583</td>\n      <td>0.047552</td>\n      <td>0.752726</td>\n      <td>1.422399</td>\n      <td>2.566426</td>\n      <td>1.068632</td>\n      <td>NaN</td>\n      <td>...</td>\n      <td>3.045707</td>\n      <td>2.307014</td>\n      <td>1.274555</td>\n      <td>NaN</td>\n      <td>-1.006027</td>\n      <td>-2.029616</td>\n      <td>0.032523</td>\n      <td>3.777776</td>\n      <td>18.495190</td>\n      <td>-1.784803</td>\n    </tr>\n    <tr>\n      <th>2021-12-30</th>\n      <td>0.225393</td>\n      <td>NaN</td>\n      <td>7.503002</td>\n      <td>-4.991088</td>\n      <td>0.559311</td>\n      <td>-9.150658</td>\n      <td>-13.442910</td>\n      <td>0.164230</td>\n      <td>-0.363493</td>\n      <td>NaN</td>\n      <td>...</td>\n      <td>0.461403</td>\n      <td>-2.145650</td>\n      <td>1.929898</td>\n      <td>NaN</td>\n      <td>1.122582</td>\n      <td>-0.701643</td>\n      <td>0.084259</td>\n      <td>0.979485</td>\n      <td>1.127663</td>\n      <td>-3.299384</td>\n    </tr>\n    <tr>\n      <th>2021-12-31</th>\n      <td>13.505079</td>\n      <td>NaN</td>\n      <td>4.284216</td>\n      <td>8.540095</td>\n      <td>0.848882</td>\n      <td>0.242790</td>\n      <td>1.358616</td>\n      <td>0.908699</td>\n      <td>0.209922</td>\n      <td>NaN</td>\n      <td>...</td>\n      <td>-5.120513</td>\n      <td>0.830521</td>\n      <td>1.893961</td>\n      <td>NaN</td>\n      <td>1.032223</td>\n      <td>-2.235351</td>\n      <td>1.091649</td>\n      <td>-1.678910</td>\n      <td>0.365596</td>\n      <td>1.185330</td>\n    </tr>\n  </tbody>\n</table>\n<p>3024 rows × 814 columns</p>\n</div>"
     },
     "execution_count": 170,
     "metadata": {},
     "output_type": "execute_result"
    }
   ],
   "source": [
    "ind_mom['IndMom_01'].unstack('ticker')"
   ],
   "metadata": {
    "collapsed": false,
    "ExecuteTime": {
     "end_time": "2023-08-27T05:48:05.768460300Z",
     "start_time": "2023-08-27T05:48:05.315461800Z"
    }
   },
   "id": "c9c589d2d5445379"
  },
  {
   "cell_type": "code",
   "execution_count": 9,
   "id": "c6077744",
   "metadata": {
    "ExecuteTime": {
     "end_time": "2023-08-20T02:38:32.606251400Z",
     "start_time": "2023-08-20T02:38:21.951178800Z"
    }
   },
   "outputs": [
    {
     "name": "stdout",
     "output_type": "stream",
     "text": [
      "Creating factor_sb_fama -------------------------------------| \u001B[92m✔\u001B[0m\n",
      "Shape: (2109219, 14)\n",
      "-"
     ]
    }
   ],
   "source": [
    "sb_fama = PrepFactor(factor_name='factor_sb_fama', interval='D', kind='price', tickers=tickers, div=False, start=start, end=end, save=True).prep()"
   ]
  },
  {
   "cell_type": "code",
   "execution_count": 10,
   "id": "2a449d33",
   "metadata": {
    "ExecuteTime": {
     "end_time": "2023-08-20T02:38:49.332605700Z",
     "start_time": "2023-08-20T02:38:33.766548600Z"
    }
   },
   "outputs": [
    {
     "name": "stdout",
     "output_type": "stream",
     "text": [
      "Creating factor_sb_etf -------------------------------------\\| \u001B[92m✔\u001B[0m\n",
      "Shape: (2109219, 24)\n",
      "|"
     ]
    }
   ],
   "source": [
    "sb_etf = PrepFactor(factor_name='factor_sb_etf', interval='D', kind='price', div=False, tickers=tickers, start=start, end=end, save=True).prep()"
   ]
  },
  {
   "cell_type": "code",
   "execution_count": 146,
   "id": "c3fe7d6c",
   "metadata": {
    "ExecuteTime": {
     "end_time": "2023-08-27T04:54:00.227526Z",
     "start_time": "2023-08-27T04:53:58.979593100Z"
    }
   },
   "outputs": [
    {
     "name": "stdout",
     "output_type": "stream",
     "text": [
      "|Creating factor_rf_ret -------------------------------------||/\u001B[92m✔\u001B[0m\n",
      "Shape: (2109219, 24)\n"
     ]
    }
   ],
   "source": [
    "rf_ret = PrepFactor(factor_name='factor_rf_ret', interval='D', kind='price', div=False, tickers=tickers, start=start, end=end, save=True).prep()"
   ]
  },
  {
   "cell_type": "code",
   "execution_count": 20,
   "id": "5b17f50f",
   "metadata": {
    "ExecuteTime": {
     "end_time": "2023-08-20T02:44:52.639983300Z",
     "start_time": "2023-08-20T02:44:45.571174Z"
    }
   },
   "outputs": [
    {
     "name": "stdout",
     "output_type": "stream",
     "text": [
      "Creating factor_load_ret -----------------------------------/| \u001B[92m✔\u001B[0m\n",
      "Shape: (2111975, 5)\n"
     ]
    }
   ],
   "source": [
    "load_ret = PrepFactor(factor_name='factor_load_ret', interval='D', kind='loading', tickers=tickers, div=False, start=start, end=end, save=True).prep()"
   ]
  },
  {
   "cell_type": "code",
   "execution_count": 3,
   "id": "52358edc",
   "metadata": {
    "ExecuteTime": {
     "end_time": "2023-08-26T23:05:21.075743100Z",
     "start_time": "2023-08-26T23:05:18.475355Z"
    }
   },
   "outputs": [
    {
     "name": "stdout",
     "output_type": "stream",
     "text": [
      "Creating factor_clust_ret ---------------------------------- | \u001B[92m✔\u001B[0m\n",
      "Shape: (2110888, 1)\n"
     ]
    }
   ],
   "source": [
    "clust_ret = PrepFactor(factor_name='factor_clust_ret', interval='D', kind='cluster', tickers=tickers, div=False, start=start, end=end, save=True).prep()"
   ]
  },
  {
   "cell_type": "code",
   "execution_count": 22,
   "id": "cf0a9399",
   "metadata": {
    "ExecuteTime": {
     "end_time": "2023-08-20T02:44:58.912137200Z",
     "start_time": "2023-08-20T02:44:55.628886Z"
    }
   },
   "outputs": [
    {
     "name": "stdout",
     "output_type": "stream",
     "text": [
      "Creating factor_clust_load_ret -----------------------------/|-\u001B[92m✔\u001B[0m\n",
      "Shape: (2112680, 5)\n"
     ]
    }
   ],
   "source": [
    "clust_load_ret = PrepFactor(factor_name='factor_clust_load_ret', interval='D', kind='cluster', tickers=tickers, div=False, start=start, end=end, save=True).prep()"
   ]
  },
  {
   "cell_type": "code",
   "execution_count": 19,
   "outputs": [
    {
     "name": "stdout",
     "output_type": "stream",
     "text": [
      "Creating factor_open_asset ---------------------------------/|-\u001B[92m✔\u001B[0m\n",
      "Shape: (2108383, 12)\n"
     ]
    }
   ],
   "source": [
    "open_asset = PrepFactor(factor_name='factor_open_asset', interval='M', kind='open', tickers='all', div=False, start=start, end=end, save=True).prep()"
   ],
   "metadata": {
    "collapsed": false,
    "ExecuteTime": {
     "end_time": "2023-08-20T02:44:35.569616300Z",
     "start_time": "2023-08-20T02:44:15.103650600Z"
    }
   },
   "id": "198e593d6cf647c3"
  },
  {
   "cell_type": "code",
   "execution_count": 18,
   "outputs": [
    {
     "name": "stdout",
     "output_type": "stream",
     "text": [
      "Creating factor_streversal ---------------------------------/|-\u001B[92m✔\u001B[0m\n",
      "Shape: (2109219, 2)\n"
     ]
    }
   ],
   "source": [
    "streversal = PrepFactor(factor_name='factor_streversal', interval='D', kind='price', tickers=tickers, div=False, start=start, end=end, save=True).prep()"
   ],
   "metadata": {
    "collapsed": false,
    "ExecuteTime": {
     "end_time": "2023-08-20T02:44:09.921444700Z",
     "start_time": "2023-08-20T02:44:06.669324200Z"
    }
   },
   "id": "57ebf9035fdac853"
  },
  {
   "cell_type": "code",
   "execution_count": 17,
   "outputs": [
    {
     "name": "stdout",
     "output_type": "stream",
     "text": [
      "Creating factor_rank ---------------------------------------/| \u001B[92m✔\u001B[0m\n",
      "Shape: (2109219, 3)\n"
     ]
    }
   ],
   "source": [
    "rank = PrepFactor(factor_name='factor_rank', interval='D', kind='price', tickers=tickers, div=False, start=start, end=end, save=True).prep()"
   ],
   "metadata": {
    "collapsed": false,
    "ExecuteTime": {
     "end_time": "2023-08-20T02:44:06.692652300Z",
     "start_time": "2023-08-20T02:44:03.056311200Z"
    }
   },
   "id": "10476ff4d58ed38b"
  },
  {
   "cell_type": "code",
   "execution_count": 15,
   "outputs": [
    {
     "name": "stdout",
     "output_type": "stream",
     "text": [
      "Creating factor_sb_bond ------------------------------------/| \u001B[92m✔\u001B[0m\n",
      "Shape: (2109219, 22)\n"
     ]
    }
   ],
   "source": [
    "sb_bond = PrepFactor(factor_name='factor_sb_bond', interval='D', kind='price', tickers=tickers, div=False, start=start, end=end, save=True).prep()"
   ],
   "metadata": {
    "collapsed": false,
    "ExecuteTime": {
     "end_time": "2023-08-20T02:43:36.858109100Z",
     "start_time": "2023-08-20T02:43:18.642098100Z"
    }
   },
   "id": "b0a2bfa18a5955f3"
  },
  {
   "cell_type": "code",
   "execution_count": 14,
   "outputs": [
    {
     "name": "stdout",
     "output_type": "stream",
     "text": [
      "Creating factor_sign ---------------------------------------/| \u001B[92m✔\u001B[0m\n",
      "Shape: (2109219, 3)\n",
      "/"
     ]
    }
   ],
   "source": [
    "sign = PrepFactor(factor_name='factor_sign', interval='D', kind='price', tickers=tickers, div=False, start=start, end=end, save=True).prep()"
   ],
   "metadata": {
    "collapsed": false,
    "ExecuteTime": {
     "end_time": "2023-08-20T02:43:16.581410800Z",
     "start_time": "2023-08-20T02:43:13.519555Z"
    }
   },
   "id": "6fbfc030909a304d"
  },
  {
   "cell_type": "code",
   "execution_count": 26,
   "outputs": [
    {
     "name": "stdout",
     "output_type": "stream",
     "text": [
      "Creating factor_rf_volume ----------------------------------/| \u001B[92m✔\u001B[0m\n",
      "Shape: (2109219, 24)\n"
     ]
    }
   ],
   "source": [
    "rf_volume = PrepFactor(factor_name='factor_rf_volume', interval='D', kind='price', tickers=tickers, div=False, start=start, end=end, save=True).prep()"
   ],
   "metadata": {
    "collapsed": false,
    "ExecuteTime": {
     "end_time": "2023-08-20T03:27:30.974738300Z",
     "start_time": "2023-08-20T03:27:17.133277400Z"
    }
   },
   "id": "7c1f3f64aa266dd9"
  },
  {
   "cell_type": "code",
   "execution_count": 27,
   "outputs": [
    {
     "name": "stdout",
     "output_type": "stream",
     "text": [
      "Creating factor_rf_sign ------------------------------------\\||\u001B[92m✔\u001B[0m\n",
      "Shape: (2109219, 24)\n"
     ]
    }
   ],
   "source": [
    "rf_sign = PrepFactor(factor_name='factor_rf_sign', interval='D', kind='price', tickers=tickers, div=False, start=start, end=end, save=True).prep()"
   ],
   "metadata": {
    "collapsed": false,
    "ExecuteTime": {
     "end_time": "2023-08-20T03:27:44.742463700Z",
     "start_time": "2023-08-20T03:27:30.974738300Z"
    }
   },
   "id": "911cc0884e1edcba"
  },
  {
   "cell_type": "code",
   "execution_count": 12,
   "outputs": [
    {
     "name": "stdout",
     "output_type": "stream",
     "text": [
      "Creating factor_sb_spy_inv ---------------------------------\\|/\u001B[92m✔\u001B[0m\n",
      "Shape: (2109219, 2)\n"
     ]
    }
   ],
   "source": [
    "sb_spy_inv = PrepFactor(factor_name='factor_sb_spy_inv', interval='D', kind='price', tickers=tickers, div=False, start=start, end=end, save=True).prep()"
   ],
   "metadata": {
    "collapsed": false,
    "ExecuteTime": {
     "end_time": "2023-08-20T02:43:03.874695100Z",
     "start_time": "2023-08-20T02:42:58.606911800Z"
    }
   },
   "id": "5e5501bba1bc94ba"
  },
  {
   "cell_type": "code",
   "execution_count": 2,
   "outputs": [
    {
     "name": "stdout",
     "output_type": "stream",
     "text": [
      "Creating factor_sb_macro ----------------------------------- | \u001B[92m✔\u001B[0m\n",
      "Shape: (2109219, 28)\n"
     ]
    }
   ],
   "source": [
    "sb_macro = PrepFactor(factor_name='factor_sb_macro', interval='D', kind='price', tickers=tickers, div=False, start=start, end=end, save=True).prep()"
   ],
   "metadata": {
    "collapsed": false,
    "ExecuteTime": {
     "end_time": "2023-08-25T04:23:03.160186300Z",
     "start_time": "2023-08-25T04:22:29.575338200Z"
    }
   },
   "id": "9f8169d5c27baa1a"
  },
  {
   "cell_type": "code",
   "execution_count": 6,
   "outputs": [
    {
     "name": "stdout",
     "output_type": "stream",
     "text": [
      "Creating factor_clust_volume -------------------------------\\| \u001B[92m✔\u001B[0m\n",
      "Shape: (2105539, 1)\n",
      "/"
     ]
    }
   ],
   "source": [
    "clust_volume = PrepFactor(factor_name='factor_clust_volume', interval='D', kind='cluster', tickers=tickers, div=False, start=start, end=end, save=True).prep()"
   ],
   "metadata": {
    "collapsed": false,
    "ExecuteTime": {
     "end_time": "2023-08-26T23:05:41.963295200Z",
     "start_time": "2023-08-26T23:05:39.483524Z"
    }
   },
   "id": "5cc059a57d7c8ca3"
  },
  {
   "cell_type": "code",
   "execution_count": 175,
   "outputs": [
    {
     "name": "stdout",
     "output_type": "stream",
     "text": [
      "Creating factor_clust_ind_mom -----------------------------|\\|/\u001B[92m✔\u001B[0m\n",
      "Shape: (2095868, 1)\n"
     ]
    }
   ],
   "source": [
    "clust_ind_mom = PrepFactor(factor_name='factor_clust_ind_mom', interval='D', kind='cluster', tickers='all', div=False, start=start, end=end, save=True).prep()"
   ],
   "metadata": {
    "collapsed": false,
    "ExecuteTime": {
     "end_time": "2023-08-27T05:58:18.919784500Z",
     "start_time": "2023-08-27T05:58:16.228119Z"
    }
   },
   "id": "5c302a6511fc65a9"
  },
  {
   "cell_type": "code",
   "execution_count": null,
   "outputs": [],
   "source": [],
   "metadata": {
    "collapsed": false
   },
   "id": "d083b3cbe74b8043"
  }
 ],
 "metadata": {
  "kernelspec": {
   "display_name": "quantPycharm",
   "language": "python",
   "name": "quantpycharm"
  },
  "language_info": {
   "codemirror_mode": {
    "name": "ipython",
    "version": 3
   },
   "file_extension": ".py",
   "mimetype": "text/x-python",
   "name": "python",
   "nbconvert_exporter": "python",
   "pygments_lexer": "ipython3",
   "version": "3.10.11"
  }
 },
 "nbformat": 4,
 "nbformat_minor": 5
}
