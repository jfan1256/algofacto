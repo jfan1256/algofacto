{
 "cells": [
  {
   "cell_type": "markdown",
   "id": "78b9128d608b8094",
   "metadata": {},
   "source": [
    "# Prep Factors"
   ]
  },
  {
   "cell_type": "code",
   "execution_count": 77,
   "id": "e04cbf10",
   "metadata": {
    "ExecuteTime": {
     "end_time": "2023-10-10T00:04:10.427376600Z",
     "start_time": "2023-10-10T00:04:10.389384Z"
    }
   },
   "outputs": [
    {
     "name": "stdout",
     "output_type": "stream",
     "text": [
      "\\\\"
     ]
    }
   ],
   "source": [
    "from functions.utils.func import *\n",
    "\n",
    "from prep_factor import PrepFactor\n",
    "\n",
    "stock = read_stock(get_load_data_large_dir() / 'permno_to_train_fund.csv')\n",
    "start='2006-01-01'\n",
    "end = '2023-01-01'"
   ]
  },
  {
   "cell_type": "code",
   "execution_count": 201,
   "id": "99130ac6",
   "metadata": {
    "ExecuteTime": {
     "end_time": "2023-08-20T02:32:11.978042700Z",
     "start_time": "2023-08-20T02:32:09.147997300Z"
    }
   },
   "outputs": [
    {
     "name": "stdout",
     "output_type": "stream",
     "text": [
      "Creating factor_time --------------------------------------- | \u001b[92m✔\u001b[0m\n",
      "Shape: (3479539, 5)\n"
     ]
    }
   ],
   "source": [
    "cycle = PrepFactor(factor_name='factor_time', group='permno', interval='D', kind='price', stock=stock, div=False, start=start, end=end, save=True).prep()"
   ]
  },
  {
   "cell_type": "code",
   "execution_count": 86,
   "id": "4b59dc86",
   "metadata": {
    "ExecuteTime": {
     "end_time": "2023-08-20T02:37:29.208839Z",
     "start_time": "2023-08-20T02:37:15.515563500Z"
    }
   },
   "outputs": [
    {
     "name": "stdout",
     "output_type": "stream",
     "text": [
      "Creating factor_ret ---------------------------------------- | \u001b[92m✔\u001b[0m\n",
      "Shape: (3479539, 11)\n"
     ]
    }
   ],
   "source": [
    "ret = PrepFactor(factor_name='factor_ret', group='permno', interval='D', kind='price', stock=stock, div=False, start=start, end=end, save=True).prep()"
   ]
  },
  {
   "cell_type": "code",
   "execution_count": 87,
   "id": "28ae0010",
   "metadata": {
    "ExecuteTime": {
     "end_time": "2023-08-20T02:37:53.653052300Z",
     "start_time": "2023-08-20T02:37:36.757464200Z"
    }
   },
   "outputs": [
    {
     "name": "stdout",
     "output_type": "stream",
     "text": [
      "Creating factor_volatility --------------------------------- | \u001b[92m✔\u001b[0m\n",
      "Shape: (3479539, 11)\n"
     ]
    }
   ],
   "source": [
    "volatility = PrepFactor(factor_name='factor_volatility', group='permno', interval='D', kind='price', stock=stock, div=False, start=start, end=end, save=True).prep()"
   ]
  },
  {
   "cell_type": "code",
   "execution_count": 88,
   "id": "41abbb3d8f2ab46a",
   "metadata": {
    "ExecuteTime": {
     "end_time": "2023-08-20T02:37:36.757464200Z",
     "start_time": "2023-08-20T02:37:32.261955Z"
    }
   },
   "outputs": [
    {
     "name": "stdout",
     "output_type": "stream",
     "text": [
      "Creating factor_volume ------------------------------------- | \u001b[92m✔\u001b[0m\n",
      "Shape: (3479539, 5)\n"
     ]
    }
   ],
   "source": [
    "volume = PrepFactor(factor_name='factor_volume', group='permno', interval='D', kind='price', div=False, stock=stock, start=start, end=end, save=True).prep()"
   ]
  },
  {
   "cell_type": "code",
   "execution_count": 90,
   "id": "6fbfc030909a304d",
   "metadata": {
    "ExecuteTime": {
     "end_time": "2023-08-20T02:43:16.581410800Z",
     "start_time": "2023-08-20T02:43:13.519555Z"
    }
   },
   "outputs": [
    {
     "name": "stdout",
     "output_type": "stream",
     "text": [
      "Creating factor_sign --------------------------------------- | \u001b[92m✔\u001b[0m\n",
      "Shape: (3479539, 3)\n"
     ]
    }
   ],
   "source": [
    "sign = PrepFactor(factor_name='factor_sign', group='permno', interval='D', kind='price', stock=stock, div=False, start=start, end=end, save=True).prep()"
   ]
  },
  {
   "cell_type": "code",
   "execution_count": 91,
   "id": "b4197b53",
   "metadata": {
    "ExecuteTime": {
     "end_time": "2023-08-20T03:40:08.614889Z",
     "start_time": "2023-08-20T03:40:07.394307Z"
    }
   },
   "outputs": [
    {
     "name": "stdout",
     "output_type": "stream",
     "text": [
      "Creating factor_talib -------------------------------------- | \u001b[92m✔\u001b[0m\n",
      "Shape: (3479539, 13)\n"
     ]
    }
   ],
   "source": [
    "talib = PrepFactor(factor_name='factor_talib', group='permno', interval='D', kind='price', stock=stock, div=False, start=start, end=end, save=True).prep()"
   ]
  },
  {
   "cell_type": "code",
   "execution_count": 92,
   "id": "9f9c07eb",
   "metadata": {},
   "outputs": [
    {
     "name": "stdout",
     "output_type": "stream",
     "text": [
      "Creating factor_high --------------------------------------- | \u001b[92m✔\u001b[0m\n",
      "Shape: (3479539, 5)\n"
     ]
    }
   ],
   "source": [
    "high = PrepFactor(factor_name='factor_high', group='permno', interval='D', kind='price', div=False, stock=stock, start=start, end=end, save=True).prep()"
   ]
  },
  {
   "cell_type": "code",
   "execution_count": 93,
   "id": "8bd357d1",
   "metadata": {},
   "outputs": [
    {
     "name": "stdout",
     "output_type": "stream",
     "text": [
      "Creating factor_low ---------------------------------------- | \u001b[92m✔\u001b[0m\n",
      "Shape: (3479539, 5)\n"
     ]
    }
   ],
   "source": [
    "low = PrepFactor(factor_name='factor_low', group='permno', interval='D', kind='price', div=False, stock=stock, start=start, end=end, save=True).prep()"
   ]
  },
  {
   "cell_type": "code",
   "execution_count": 95,
   "id": "da11b59c",
   "metadata": {},
   "outputs": [
    {
     "name": "stdout",
     "output_type": "stream",
     "text": [
      "Creating factor_total -------------------------------------- | \u001b[92m✔\u001b[0m\n",
      "Shape: (3479539, 1)\n"
     ]
    }
   ],
   "source": [
    "total = PrepFactor(factor_name='factor_total', group='permno', interval='D', kind='price', stock=stock, div=False, start=start, end=end, save=True).prep()"
   ]
  },
  {
   "cell_type": "code",
   "execution_count": 172,
   "id": "80739c96",
   "metadata": {},
   "outputs": [
    {
     "name": "stdout",
     "output_type": "stream",
     "text": [
      "Creating factor_cond_ret -----------------------------------/| \u001b[92m✔\u001b[0m\n",
      "Shape: (3479539, 8)\n",
      "\b/\\\\"
     ]
    }
   ],
   "source": [
    "cond_ret = PrepFactor(factor_name='factor_cond_ret', group='permno', interval='D', kind='price', stock=stock, div=False, start=start, end=end, save=True).prep()"
   ]
  },
  {
   "cell_type": "code",
   "execution_count": 98,
   "id": "0861edc0",
   "metadata": {},
   "outputs": [
    {
     "name": "stdout",
     "output_type": "stream",
     "text": [
      "Creating factor_dividend ----------------------------------- | \u001b[92m✔\u001b[0m\n",
      "Shape: (3479539, 1)\n"
     ]
    }
   ],
   "source": [
    "dividend = PrepFactor(factor_name='factor_dividend', group='permno', interval='D', kind='dividend', stock=stock, div=False, start=start, end=end, save=True).prep()"
   ]
  },
  {
   "cell_type": "code",
   "execution_count": 99,
   "id": "10d229f6",
   "metadata": {
    "ExecuteTime": {
     "end_time": "2023-08-20T02:33:34.997168300Z",
     "start_time": "2023-08-20T02:33:31.959557500Z"
    }
   },
   "outputs": [
    {
     "name": "stdout",
     "output_type": "stream",
     "text": [
      "Creating factor_ind ---------------------------------------- | \u001b[92m✔\u001b[0m\n",
      "Shape: (3479539, 1)\n"
     ]
    }
   ],
   "source": [
    "ind = PrepFactor(factor_name='factor_ind', group='permno', interval='D', kind='ind', stock=stock, div=False, start=start, end=end, save=True).prep()"
   ]
  },
  {
   "cell_type": "code",
   "execution_count": 161,
   "id": "be3de686",
   "metadata": {
    "ExecuteTime": {
     "end_time": "2023-08-27T05:46:23.717054Z",
     "start_time": "2023-08-27T05:46:23.067545200Z"
    }
   },
   "outputs": [
    {
     "name": "stdout",
     "output_type": "stream",
     "text": [
      "Creating factor_ind_mom -----------------------------------||-\u001b[92m✔\u001b[0m\n",
      "/Shape: (3479539, 6)\n"
     ]
    }
   ],
   "source": [
    "ind_mom = PrepFactor(factor_name='factor_ind_mom', group='permno', interval='D', kind='ind', stock=stock, div=False, start=start, end=end, save=True).prep()"
   ]
  },
  {
   "cell_type": "code",
   "execution_count": 101,
   "id": "383bbcf5-edab-43ed-8834-eee32a637504",
   "metadata": {},
   "outputs": [
    {
     "name": "stdout",
     "output_type": "stream",
     "text": [
      "Creating factor_cond_ind_mom ------------------------------- | \u001b[92m✔\u001b[0m\n",
      "Shape: (3479539, 1)\n"
     ]
    }
   ],
   "source": [
    "cond_ind_mom = PrepFactor(factor_name='factor_cond_ind_mom', group='permno', interval='D', kind='ind', stock=stock, div=False, start=start, end=end, save=True).prep()"
   ]
  },
  {
   "cell_type": "code",
   "execution_count": 102,
   "id": "0f11ddb2-2c52-4b41-b404-545a9bd66a73",
   "metadata": {},
   "outputs": [
    {
     "name": "stdout",
     "output_type": "stream",
     "text": [
      "Creating factor_ind_vwr ------------------------------------ | \u001b[92m✔\u001b[0m\n",
      "Shape: (3479539, 6)\n"
     ]
    }
   ],
   "source": [
    "ind_vwr = PrepFactor(factor_name='factor_ind_vwr', group='permno', interval='D', kind='ind', stock=stock, div=False, start=start, end=end, save=True).prep()"
   ]
  },
  {
   "cell_type": "code",
   "execution_count": 105,
   "id": "e9ddc73f-859b-4fcb-97d4-4e98d94beae7",
   "metadata": {},
   "outputs": [
    {
     "name": "stdout",
     "output_type": "stream",
     "text": [
      "Creating factor_ind_fama ----------------------------------- | \u001b[92m✔\u001b[0m\n",
      "Shape: (3479539, 1)\n"
     ]
    }
   ],
   "source": [
    "ind_fama = PrepFactor(factor_name='factor_ind_fama', group='permno', interval='D', kind='ind', stock=stock, div=False, start=start, end=end, save=True).prep()"
   ]
  },
  {
   "cell_type": "code",
   "execution_count": 162,
   "id": "c91d297b-0fb9-4bf2-b90e-89cdcc250414",
   "metadata": {},
   "outputs": [
    {
     "name": "stdout",
     "output_type": "stream",
     "text": [
      "Creating factor_ind_mom_fama ------------------------------\\|| \u001b[92m✔\u001b[0m\n",
      "Shape: (3479539, 6)\n"
     ]
    }
   ],
   "source": [
    "ind_mom_fama = PrepFactor(factor_name='factor_ind_mom_fama', group='permno', interval='D', kind='ind', stock=stock, div=False, start=start, end=end, save=True).prep()"
   ]
  },
  {
   "cell_type": "code",
   "execution_count": 107,
   "id": "6157cabd-5c50-42dc-8339-7b759b7c90e6",
   "metadata": {},
   "outputs": [
    {
     "name": "stdout",
     "output_type": "stream",
     "text": [
      "Creating factor_cond_ind_mom_fama -------------------------- | \u001b[92m✔\u001b[0m\n",
      "Shape: (3479539, 1)\n"
     ]
    }
   ],
   "source": [
    "cond_ind_mom_fama = PrepFactor(factor_name='factor_cond_ind_mom_fama', group='permno', interval='D', kind='ind', stock=stock, div=False, start=start, end=end, save=True).prep()"
   ]
  },
  {
   "cell_type": "code",
   "execution_count": 136,
   "id": "54bb3803-c9d1-401a-ae03-a3a21345d3ef",
   "metadata": {},
   "outputs": [
    {
     "name": "stdout",
     "output_type": "stream",
     "text": [
      "Creating factor_ind_vwr_fama -------------------------------\\| \u001b[92m✔\u001b[0m\n",
      "Shape: (3479539, 6)\n",
      "\b|"
     ]
    }
   ],
   "source": [
    "ind_vwr_fama = PrepFactor(factor_name='factor_ind_vwr_fama', group='permno', interval='D', kind='ind', stock=stock, div=False, start=start, end=end, save=True).prep()"
   ]
  },
  {
   "cell_type": "code",
   "execution_count": 111,
   "id": "26bb344a-8bc5-412b-9787-f07520a46820",
   "metadata": {},
   "outputs": [
    {
     "name": "stdout",
     "output_type": "stream",
     "text": [
      "Creating factor_ind_sub ------------------------------------ | \u001b[92m✔\u001b[0m\n",
      "Shape: (3479539, 1)\n"
     ]
    }
   ],
   "source": [
    "ind_sub = PrepFactor(factor_name='factor_ind_sub', group='permno', interval='D', kind='ind', stock=stock, div=False, start=start, end=end, save=True).prep()"
   ]
  },
  {
   "cell_type": "code",
   "execution_count": 163,
   "id": "c6e526dc-6bff-43aa-af97-3b68131909fb",
   "metadata": {},
   "outputs": [
    {
     "name": "stdout",
     "output_type": "stream",
     "text": [
      "Creating factor_ind_mom_sub -------------------------------\\| \u001b[92m✔\u001b[0m\n",
      "-Shape: (3479539, 6)\n"
     ]
    }
   ],
   "source": [
    "ind_mom_sub = PrepFactor(factor_name='factor_ind_mom_sub', group='permno', interval='D', kind='ind', stock=stock, div=False, start=start, end=end, save=True).prep()"
   ]
  },
  {
   "cell_type": "code",
   "execution_count": 113,
   "id": "42bb52e0-da75-4166-844d-0f41d06708f3",
   "metadata": {},
   "outputs": [
    {
     "name": "stdout",
     "output_type": "stream",
     "text": [
      "Creating factor_cond_ind_mom_sub --------------------------- | \u001b[92m✔\u001b[0m\n",
      "Shape: (3479539, 1)\n"
     ]
    }
   ],
   "source": [
    "cond_ind_mom_sub = PrepFactor(factor_name='factor_cond_ind_mom_sub', group='permno', interval='D', kind='ind', stock=stock, div=False, start=start, end=end, save=True).prep()"
   ]
  },
  {
   "cell_type": "code",
   "execution_count": 137,
   "id": "06cfa7e9-377f-4d68-94e3-e3b2b33e7797",
   "metadata": {},
   "outputs": [
    {
     "name": "stdout",
     "output_type": "stream",
     "text": [
      "\b|Creating factor_ind_vwr_sub --------------------------------| \u001b[92m✔\u001b[0m\n",
      "Shape: (3479539, 6)\n",
      "\b/\\"
     ]
    }
   ],
   "source": [
    "ind_vwr_sub = PrepFactor(factor_name='factor_ind_vwr_sub', group='permno', interval='D', kind='ind', stock=stock, div=False, start=start, end=end, save=True).prep()"
   ]
  },
  {
   "cell_type": "code",
   "execution_count": 171,
   "id": "5b17f50f",
   "metadata": {
    "ExecuteTime": {
     "end_time": "2023-08-20T02:44:52.639983300Z",
     "start_time": "2023-08-20T02:44:45.571174Z"
    }
   },
   "outputs": [
    {
     "name": "stdout",
     "output_type": "stream",
     "text": [
      "Creating factor_load_ret ----------------------------------- | \u001b[92m✔\u001b[0m\n",
      "Shape: (3477624, 5)\n"
     ]
    }
   ],
   "source": [
    "load_ret = PrepFactor(factor_name='factor_load_ret', group='permno', interval='D', kind='loading', stock=stock, div=False, start=start, end=end, save=True).prep()"
   ]
  },
  {
   "cell_type": "code",
   "execution_count": 172,
   "id": "52358edc",
   "metadata": {
    "ExecuteTime": {
     "end_time": "2023-08-26T23:05:21.075743100Z",
     "start_time": "2023-08-26T23:05:18.475355Z"
    }
   },
   "outputs": [
    {
     "name": "stdout",
     "output_type": "stream",
     "text": [
      "Creating factor_clust_ret ---------------------------------- | \u001b[92m✔\u001b[0m\n",
      "Shape: (3474408, 1)\n"
     ]
    }
   ],
   "source": [
    "clust_ret = PrepFactor(factor_name='factor_clust_ret', group='permno', interval='D', kind='cluster', stock=stock, div=False, start=start, end=end, save=True).prep()"
   ]
  },
  {
   "cell_type": "code",
   "execution_count": 173,
   "id": "cf0a9399",
   "metadata": {
    "ExecuteTime": {
     "end_time": "2023-08-20T02:44:58.912137200Z",
     "start_time": "2023-08-20T02:44:55.628886Z"
    }
   },
   "outputs": [
    {
     "name": "stdout",
     "output_type": "stream",
     "text": [
      "Creating factor_clust_load_ret ----------------------------- | \u001b[92m✔\u001b[0m\n",
      "Shape: (3474267, 5)\n"
     ]
    }
   ],
   "source": [
    "clust_load_ret = PrepFactor(factor_name='factor_clust_load_ret', group='permno', interval='D', kind='cluster', stock=stock, div=False, start=start, end=end, save=True).prep()"
   ]
  },
  {
   "cell_type": "code",
   "execution_count": 174,
   "id": "5cc059a57d7c8ca3",
   "metadata": {
    "ExecuteTime": {
     "end_time": "2023-08-26T23:05:41.963295200Z",
     "start_time": "2023-08-26T23:05:39.483524Z"
    }
   },
   "outputs": [
    {
     "name": "stdout",
     "output_type": "stream",
     "text": [
      "Creating factor_clust_volume ------------------------------- | \u001b[92m✔\u001b[0m\n",
      "Shape: (3477624, 1)\n"
     ]
    }
   ],
   "source": [
    "clust_volume = PrepFactor(factor_name='factor_clust_volume', group='permno', interval='D', kind='cluster', stock=stock, div=False, start=start, end=end, save=True).prep()"
   ]
  },
  {
   "cell_type": "code",
   "execution_count": 175,
   "id": "e81a93a9",
   "metadata": {},
   "outputs": [
    {
     "name": "stdout",
     "output_type": "stream",
     "text": [
      "Creating factor_load_volume -------------------------------- | \u001b[92m✔\u001b[0m\n",
      "Shape: (3477624, 5)\n"
     ]
    }
   ],
   "source": [
    "load_volume = PrepFactor(factor_name='factor_load_volume', group='permno', interval='D', kind='loading', stock=stock, div=False, start=start, end=end, save=True).prep()"
   ]
  },
  {
   "cell_type": "code",
   "execution_count": 176,
   "id": "d083b3cbe74b8043",
   "metadata": {},
   "outputs": [
    {
     "name": "stdout",
     "output_type": "stream",
     "text": [
      "Creating factor_load_volatility ---------------------------- | \u001b[92m✔\u001b[0m\n",
      "Shape: (3250937, 5)\n"
     ]
    }
   ],
   "source": [
    "load_volatility = PrepFactor(factor_name='factor_load_volatility', group='permno', interval='D', kind='loading', stock=stock, div=False, start=start, end=end, save=True).prep()"
   ]
  },
  {
   "cell_type": "code",
   "execution_count": 177,
   "id": "a9caece6",
   "metadata": {},
   "outputs": [
    {
     "name": "stdout",
     "output_type": "stream",
     "text": [
      "Creating factor_clust_volatility --------------------------- | \u001b[92m✔\u001b[0m\n",
      "Shape: (3250937, 1)\n"
     ]
    }
   ],
   "source": [
    "clust_volatility = PrepFactor(factor_name='factor_clust_volatility', group='permno', interval='D', kind='cluster', stock=stock, div=False, start=start, end=end, save=True).prep()"
   ]
  },
  {
   "cell_type": "code",
   "execution_count": 178,
   "id": "b3c15a2a",
   "metadata": {},
   "outputs": [
    {
     "name": "stdout",
     "output_type": "stream",
     "text": [
      "Creating factor_clust_load_volume -------------------------- | \u001b[92m✔\u001b[0m\n",
      "Shape: (3474267, 5)\n"
     ]
    }
   ],
   "source": [
    "clust_load_volume = PrepFactor(factor_name='factor_clust_load_volume', group='permno', interval='D', kind='cluster', stock=stock, div=False, start=start, end=end, save=True).prep()"
   ]
  },
  {
   "cell_type": "code",
   "execution_count": 179,
   "id": "5c302a6511fc65a9",
   "metadata": {
    "ExecuteTime": {
     "end_time": "2023-08-27T05:58:18.919784500Z",
     "start_time": "2023-08-27T05:58:16.228119Z"
    }
   },
   "outputs": [
    {
     "name": "stdout",
     "output_type": "stream",
     "text": [
      "Creating factor_clust_ind_mom ------------------------------ | \u001b[92m✔\u001b[0m\n",
      "Shape: (3448112, 1)\n"
     ]
    }
   ],
   "source": [
    "clust_ind_mom = PrepFactor(factor_name='factor_clust_ind_mom', group='permno', interval='D', kind='cluster', stock=stock, div=False, start=start, end=end, save=True).prep()"
   ]
  },
  {
   "cell_type": "code",
   "execution_count": 2,
   "id": "e5b8fe36",
   "metadata": {},
   "outputs": [
    {
     "name": "stdout",
     "output_type": "stream",
     "text": [
      "Creating factor_clust_fund_raw ----------------------------- | \u001b[92m✔\u001b[0m\n",
      "Shape: (3479539, 1)\n"
     ]
    }
   ],
   "source": [
    "clust_fund_raw = PrepFactor(factor_name='factor_clust_fund_raw', group='permno', interval='M', kind='cluster', stock=stock, div=False, start=start, end=end, save=True).prep()"
   ]
  },
  {
   "cell_type": "code",
   "execution_count": 181,
   "id": "65aa9110-db4b-43a6-836c-300798cdf6aa",
   "metadata": {},
   "outputs": [
    {
     "name": "stdout",
     "output_type": "stream",
     "text": [
      "Creating factor_clust_ind_mom_fama ------------------------- | \u001b[92m✔\u001b[0m\n",
      "Shape: (3462786, 1)\n"
     ]
    }
   ],
   "source": [
    "clust_ind_mom_fama = PrepFactor(factor_name='factor_clust_ind_mom_fama', group='permno', interval='D', kind='ind', stock=stock, div=False, start=start, end=end, save=True).prep()"
   ]
  },
  {
   "cell_type": "code",
   "execution_count": 182,
   "id": "99485ca4-9276-4d06-b7e2-e10c77fecb2c",
   "metadata": {},
   "outputs": [
    {
     "name": "stdout",
     "output_type": "stream",
     "text": [
      "Creating factor_clust_ind_mom_sub -------------------------- | \u001b[92m✔\u001b[0m\n",
      "Shape: (3339377, 1)\n"
     ]
    }
   ],
   "source": [
    "clust_ind_mom_sub = PrepFactor(factor_name='factor_clust_ind_mom_sub', group='permno', interval='D', kind='ind', stock=stock, div=False, start=start, end=end, save=True).prep()"
   ]
  },
  {
   "cell_type": "code",
   "execution_count": 32,
   "id": "4d0a7bfd",
   "metadata": {
    "ExecuteTime": {
     "end_time": "2023-10-09T23:48:22.610584Z",
     "start_time": "2023-10-09T23:48:18.615621800Z"
    }
   },
   "outputs": [
    {
     "name": "stdout",
     "output_type": "stream",
     "text": [
      "Creating factor_macro -------------------------------------- | \u001b[92m✔\u001b[0m\n",
      "Shape: (4673436, 10)\n"
     ]
    }
   ],
   "source": [
    "macro = PrepFactor(factor_name='factor_macro', group='permno', interval='D', kind='macro', stock=stock, div=False, start=start, end=end, save=True).prep()"
   ]
  },
  {
   "cell_type": "code",
   "execution_count": 53,
   "id": "8a346539-42bd-4ba0-9469-667dfa4bcf04",
   "metadata": {},
   "outputs": [
    {
     "name": "stdout",
     "output_type": "stream",
     "text": [
      "Creating factor_ret ----------------------------------------/||\u001b[92m✔\u001b[0m\n",
      "Shape: (3479539, 11)\n",
      "--"
     ]
    }
   ],
   "source": [
    "ret = PrepFactor(factor_name='factor_ret', group='permno', interval='D', kind='price', stock=stock, div=False, start=start, end=end, save=False).prep()"
   ]
  },
  {
   "cell_type": "code",
   "execution_count": 7,
   "id": "77e56d8e",
   "metadata": {
    "ExecuteTime": {
     "end_time": "2023-10-09T22:42:43.003334900Z",
     "start_time": "2023-10-09T22:42:03.752549Z"
    }
   },
   "outputs": [
    {
     "name": "stdout",
     "output_type": "stream",
     "text": [
      "Creating factor_fund_raw ----------------------------------- | \u001b[92m✔\u001b[0m\n",
      "Shape: (3479539, 27)\n"
     ]
    }
   ],
   "source": [
    "fund_raw = PrepFactor(factor_name='factor_fund_raw', group='permno', interval='M', kind='fundamental', stock=stock, div=False, start=start, end=end, save=True).prep()"
   ]
  },
  {
   "cell_type": "code",
   "execution_count": 4,
   "id": "586b7fc3",
   "metadata": {},
   "outputs": [
    {
     "name": "stdout",
     "output_type": "stream",
     "text": [
      "Creating factor_fund_q ------------------------------------- | \u001b[92m✔\u001b[0m\n",
      "Shape: (3479539, 1)\n"
     ]
    }
   ],
   "source": [
    "fund_q = PrepFactor(factor_name='factor_fund_q', group='permno', interval='M', kind='categorical', stock=stock, div=False, start=start, end=end, save=True).prep()"
   ]
  },
  {
   "cell_type": "code",
   "execution_count": 132,
   "id": "b44ae448-f509-4114-9236-15f80820a0c0",
   "metadata": {},
   "outputs": [
    {
     "name": "stdout",
     "output_type": "stream",
     "text": [
      "Creating factor_age_mom ------------------------------------ | \u001b[92m✔\u001b[0m\n",
      "Shape: (3479539, 1)\n"
     ]
    }
   ],
   "source": [
    "age_mom = PrepFactor(factor_name='factor_age_mom', group='permno', interval='D', kind='age', stock=stock, div=False, start=start, end=end, save=True).prep()"
   ]
  },
  {
   "cell_type": "code",
   "execution_count": 8,
   "id": "7e054f48-3e8c-4419-b1b4-df29e661210f",
   "metadata": {
    "ExecuteTime": {
     "end_time": "2023-10-09T22:42:49.661339500Z",
     "start_time": "2023-10-09T22:42:42.994334200Z"
    }
   },
   "outputs": [
    {
     "name": "stdout",
     "output_type": "stream",
     "text": [
      "Creating factor_net_debt_finance --------------------------- | \u001b[92m✔\u001b[0m\n",
      "Shape: (3479539, 1)\n"
     ]
    }
   ],
   "source": [
    "net_debt_finance = PrepFactor(factor_name='factor_net_debt_finance', group='permno', interval='M', kind='fundamental', stock=stock, div=False, start=start, end=end, save=True).prep()"
   ]
  },
  {
   "cell_type": "code",
   "execution_count": 9,
   "id": "7f9278fd-e230-4391-84b0-8e09bcf6944a",
   "metadata": {
    "ExecuteTime": {
     "end_time": "2023-10-09T22:42:56.684892300Z",
     "start_time": "2023-10-09T22:42:49.665342100Z"
    }
   },
   "outputs": [
    {
     "name": "stdout",
     "output_type": "stream",
     "text": [
      "Creating factor_chtax -------------------------------------- | \u001b[92m✔\u001b[0m\n",
      "Shape: (3479539, 1)\n"
     ]
    }
   ],
   "source": [
    "chtax = PrepFactor(factor_name='factor_chtax', group='permno', interval='M', kind='fundamental', stock=stock, div=False, start=start, end=end, save=True).prep()"
   ]
  },
  {
   "cell_type": "code",
   "execution_count": 10,
   "id": "31c4b181-4c49-4084-85b8-b9c529fa63ca",
   "metadata": {
    "ExecuteTime": {
     "end_time": "2023-10-09T22:43:03.705420700Z",
     "start_time": "2023-10-09T22:42:56.691895600Z"
    }
   },
   "outputs": [
    {
     "name": "stdout",
     "output_type": "stream",
     "text": [
      "Creating factor_asset_growth ------------------------------- | \u001b[92m✔\u001b[0m\n",
      "Shape: (3479539, 1)\n"
     ]
    }
   ],
   "source": [
    "asset_growth = PrepFactor(factor_name='factor_asset_growth', group='permno', interval='M', kind='fundamental', stock=stock, div=False, start=start, end=end, save=True).prep()"
   ]
  },
  {
   "cell_type": "code",
   "execution_count": null,
   "id": "7fa0595d-f045-409a-964a-c15f1b65b9ca",
   "metadata": {},
   "outputs": [
    {
     "name": "stdout",
     "output_type": "stream",
     "text": [
      "\b|"
     ]
    }
   ],
   "source": [
    "mom_season_short = PrepFactor(factor_name='factor_mom_season_short', group='permno', interval='D', kind='mom', stock=stock, div=False, start=start, end=end, save=True).prep()"
   ]
  },
  {
   "cell_type": "code",
   "execution_count": 20,
   "id": "8ba38110-9a48-4a60-be27-ffd6a42cf411",
   "metadata": {},
   "outputs": [
    {
     "name": "stdout",
     "output_type": "stream",
     "text": [
      "Creating factor_mom_season --------------------------------- | \u001b[92m✔\u001b[0m\n",
      "Shape: (3479539, 1)\n"
     ]
    }
   ],
   "source": [
    "mom_season = PrepFactor(factor_name='factor_mom_season', group='permno', interval='D', kind='mom', stock=stock, div=False, start=start, end=end, save=True).prep()"
   ]
  },
  {
   "cell_type": "code",
   "execution_count": 39,
   "id": "881d03bd-87c0-4e7c-a1ca-c396d8bb9c31",
   "metadata": {},
   "outputs": [
    {
     "name": "stdout",
     "output_type": "stream",
     "text": [
      "Creating factor_mom_season6 -------------------------------- | \u001b[92m✔\u001b[0m\n",
      "Shape: (3479539, 1)\n"
     ]
    }
   ],
   "source": [
    "mom_season6 = PrepFactor(factor_name='factor_mom_season6', group='permno', interval='D', kind='mom', stock=stock, div=False, start=start, end=end, save=True).prep()"
   ]
  },
  {
   "cell_type": "code",
   "execution_count": 29,
   "id": "6a85863b-0667-43e9-ac5f-a4d8e8a3a63c",
   "metadata": {},
   "outputs": [
    {
     "name": "stdout",
     "output_type": "stream",
     "text": [
      "Creating factor_mom_season11 -------------------------------| |\u001b[92m✔\u001b[0m\n",
      "Shape: (3479539, 1)\n",
      "\b|"
     ]
    }
   ],
   "source": [
    "mom_season11 = PrepFactor(factor_name='factor_mom_season11', group='permno', interval='D', kind='mom', stock=stock, div=False, start=start, end=end, save=True).prep()"
   ]
  },
  {
   "cell_type": "code",
   "execution_count": 11,
   "id": "75d73513-7ff8-4e6f-ba9f-ea7e858e9a6d",
   "metadata": {
    "ExecuteTime": {
     "end_time": "2023-10-09T22:43:10.497444400Z",
     "start_time": "2023-10-09T22:43:03.707422800Z"
    }
   },
   "outputs": [
    {
     "name": "stdout",
     "output_type": "stream",
     "text": [
      "Creating factor_noa ---------------------------------------- | \u001b[92m✔\u001b[0m\n",
      "Shape: (3479539, 1)\n"
     ]
    }
   ],
   "source": [
    "noa = PrepFactor(factor_name='factor_noa', group='permno', interval='M', kind='fundamental', stock=stock, div=False, start=start, end=end, save=True).prep()"
   ]
  },
  {
   "cell_type": "code",
   "execution_count": 12,
   "id": "828b87a5-e7c6-42c7-b88f-9cdc2ed2a068",
   "metadata": {
    "ExecuteTime": {
     "end_time": "2023-10-09T22:43:16.882354Z",
     "start_time": "2023-10-09T22:43:10.499434300Z"
    }
   },
   "outputs": [
    {
     "name": "stdout",
     "output_type": "stream",
     "text": [
      "Creating factor_invest_ppe_inv ----------------------------- | \u001b[92m✔\u001b[0m\n",
      "Shape: (3479539, 1)\n"
     ]
    }
   ],
   "source": [
    "invest_ppe = PrepFactor(factor_name='factor_invest_ppe_inv', group='permno', interval='M', kind='fundamental', stock=stock, div=False, start=start, end=end, save=True).prep()"
   ]
  },
  {
   "cell_type": "code",
   "execution_count": 13,
   "id": "c5e1440a-0138-4a20-92dc-2b439e50217e",
   "metadata": {
    "ExecuteTime": {
     "end_time": "2023-10-09T22:43:23.998722100Z",
     "start_time": "2023-10-09T22:43:16.883353500Z"
    }
   },
   "outputs": [
    {
     "name": "stdout",
     "output_type": "stream",
     "text": [
      "Creating factor_inv_growth --------------------------------- | \u001b[92m✔\u001b[0m\n",
      "Shape: (3479539, 1)\n"
     ]
    }
   ],
   "source": [
    "inv_growth = PrepFactor(factor_name='factor_inv_growth', group='permno', interval='M', kind='fundamental', stock=stock, div=False, start=start, end=end, save=True).prep()"
   ]
  },
  {
   "cell_type": "code",
   "execution_count": 14,
   "id": "2f70ec2f-fb33-42a1-9699-052da25c674e",
   "metadata": {
    "ExecuteTime": {
     "end_time": "2023-10-09T22:43:30.348312400Z",
     "start_time": "2023-10-09T22:43:23.997729300Z"
    }
   },
   "outputs": [
    {
     "name": "stdout",
     "output_type": "stream",
     "text": [
      "Creating factor_earning_streak ----------------------------- | \u001b[92m✔\u001b[0m\n",
      "Shape: (3479539, 1)\n"
     ]
    }
   ],
   "source": [
    "earning_streak = PrepFactor(factor_name='factor_earning_streak', group='permno', interval='M', kind='fundamental', stock=stock, div=False, start=start, end=end, save=True).prep()"
   ]
  },
  {
   "cell_type": "code",
   "execution_count": 29,
   "id": "ed67e04b-7041-4e42-b17e-1feeffac6ed1",
   "metadata": {},
   "outputs": [
    {
     "name": "stdout",
     "output_type": "stream",
     "text": [
      "Creating factor_mom_vol ------------------------------------ | \u001b[92m✔\u001b[0m\n",
      "Shape: (3479539, 1)\n"
     ]
    }
   ],
   "source": [
    "mom_vol = PrepFactor(factor_name='factor_mom_vol', group='permno', interval='D', kind='mom', stock=stock, div=False, start=start, end=end, save=True).prep()"
   ]
  },
  {
   "cell_type": "code",
   "execution_count": 15,
   "id": "674b8008-b87a-4103-b66b-8a57d289662b",
   "metadata": {
    "ExecuteTime": {
     "end_time": "2023-10-09T22:43:36.481587900Z",
     "start_time": "2023-10-09T22:43:30.347309800Z"
    }
   },
   "outputs": [
    {
     "name": "stdout",
     "output_type": "stream",
     "text": [
      "Creating factor_ms ----------------------------------------- | \u001b[92m✔\u001b[0m\n",
      "Shape: (3479539, 1)\n"
     ]
    }
   ],
   "source": [
    "ms = PrepFactor(factor_name='factor_ms', group='permno', interval='M', kind='categorical', stock=stock, div=False, start=start, end=end, save=True).prep()"
   ]
  },
  {
   "cell_type": "code",
   "execution_count": 47,
   "id": "0c886819-82ea-4b9b-ad24-74adea9a276c",
   "metadata": {},
   "outputs": [
    {
     "name": "stdout",
     "output_type": "stream",
     "text": [
      "Creating factor_int_mom ------------------------------------ | \u001b[92m✔\u001b[0m\n",
      "Shape: (3479539, 1)\n"
     ]
    }
   ],
   "source": [
    "int_mom = PrepFactor(factor_name='factor_int_mom', group='permno', interval='D', kind='mom', stock=stock, div=False, start=start, end=end, save=True).prep()"
   ]
  },
  {
   "cell_type": "code",
   "execution_count": 16,
   "id": "278288f2-1cd8-4900-9b53-532278443548",
   "metadata": {
    "ExecuteTime": {
     "end_time": "2023-10-09T22:43:43.802850600Z",
     "start_time": "2023-10-09T22:43:36.481587900Z"
    }
   },
   "outputs": [
    {
     "name": "stdout",
     "output_type": "stream",
     "text": [
      "Creating factor_cheq --------------------------------------- | \u001b[92m✔\u001b[0m\n",
      "Shape: (3479539, 1)\n"
     ]
    }
   ],
   "source": [
    "cheq = PrepFactor(factor_name='factor_cheq', group='permno', interval='M', kind='fundamental', stock=stock, div=False, start=start, end=end, save=True).prep()"
   ]
  },
  {
   "cell_type": "code",
   "execution_count": 17,
   "id": "5b6844e1-c6f9-44b1-83a8-566682a0aa42",
   "metadata": {
    "ExecuteTime": {
     "end_time": "2023-10-09T22:43:50.971618400Z",
     "start_time": "2023-10-09T22:43:43.800786500Z"
    }
   },
   "outputs": [
    {
     "name": "stdout",
     "output_type": "stream",
     "text": [
      "Creating factor_comp_debt ---------------------------------- | \u001b[92m✔\u001b[0m\n",
      "Shape: (3479539, 1)\n"
     ]
    }
   ],
   "source": [
    "comp_debt = PrepFactor(factor_name='factor_comp_debt', group='permno', interval='M', kind='fundamental', stock=stock, div=False, start=start, end=end, save=True).prep()"
   ]
  },
  {
   "cell_type": "code",
   "execution_count": 18,
   "id": "9589ee23-8f1c-4a22-9fe9-255f668498c8",
   "metadata": {
    "ExecuteTime": {
     "end_time": "2023-10-09T22:43:58.020091800Z",
     "start_time": "2023-10-09T22:43:50.973619700Z"
    }
   },
   "outputs": [
    {
     "name": "stdout",
     "output_type": "stream",
     "text": [
      "Creating factor_xfin --------------------------------------- | \u001b[92m✔\u001b[0m\n",
      "Shape: (3479539, 1)\n"
     ]
    }
   ],
   "source": [
    "xfin = PrepFactor(factor_name='factor_xfin', group='permno', interval='M', kind='fundamental', stock=stock, div=False, start=start, end=end, save=True).prep()"
   ]
  },
  {
   "cell_type": "code",
   "execution_count": 19,
   "id": "0c118780-b095-4b63-ad44-e750610ec5cb",
   "metadata": {
    "ExecuteTime": {
     "end_time": "2023-10-09T22:44:06.109537100Z",
     "start_time": "2023-10-09T22:43:58.021090Z"
    }
   },
   "outputs": [
    {
     "name": "stdout",
     "output_type": "stream",
     "text": [
      "Creating factor_emmult ------------------------------------- | \u001b[92m✔\u001b[0m\n",
      "Shape: (3479539, 1)\n"
     ]
    }
   ],
   "source": [
    "emmult = PrepFactor(factor_name='factor_emmult', group='permno', interval='M', kind='fundamental', stock=stock, div=False, start=start, end=end, save=True).prep()"
   ]
  },
  {
   "cell_type": "code",
   "execution_count": 20,
   "id": "9bdb0c30-fa60-400f-bc3e-f3f9a7fb0876",
   "metadata": {
    "ExecuteTime": {
     "end_time": "2023-10-09T22:44:13.490095900Z",
     "start_time": "2023-10-09T22:44:06.111536600Z"
    }
   },
   "outputs": [
    {
     "name": "stdout",
     "output_type": "stream",
     "text": [
      "Creating factor_accrual ------------------------------------ | \u001b[92m✔\u001b[0m\n",
      "Shape: (3479539, 1)\n"
     ]
    }
   ],
   "source": [
    "accrual = PrepFactor(factor_name='factor_accrual', group='permno', interval='M', kind='fundamental', stock=stock, div=False, start=start, end=end, save=True).prep()"
   ]
  },
  {
   "cell_type": "code",
   "execution_count": 26,
   "id": "a92f0d9d-5362-4263-8d7a-22a0d1638294",
   "metadata": {
    "ExecuteTime": {
     "end_time": "2023-10-09T22:50:11.495941100Z",
     "start_time": "2023-10-09T22:50:04.068671500Z"
    }
   },
   "outputs": [
    {
     "name": "stdout",
     "output_type": "stream",
     "text": [
      "Creating factor_frontier ----------------------------------- | \u001b[92m✔\u001b[0m\n",
      "Shape: (3479539, 1)\n"
     ]
    }
   ],
   "source": [
    "frontier = PrepFactor(factor_name='factor_frontier', group='permno', interval='M', kind='fundamental', stock=stock, div=False, start=start, end=end, save=True).prep()"
   ]
  },
  {
   "cell_type": "code",
   "execution_count": 26,
   "id": "b2089cec-152b-4a6a-bf71-27a9ddfd51f1",
   "metadata": {},
   "outputs": [
    {
     "name": "stdout",
     "output_type": "stream",
     "text": [
      "Creating factor_trend_factor ------------------------------- | \u001b[92m✔\u001b[0m\n",
      "Shape: (4345642, 1)\n"
     ]
    }
   ],
   "source": [
    "trend_factor = PrepFactor(factor_name='factor_trend_factor', group='permno', interval='D', kind='trend', stock=stock, div=False, start=start, end=end, save=True).prep()"
   ]
  },
  {
   "cell_type": "code",
   "execution_count": null,
   "id": "c0c6b87c-b557-446a-bb69-807a538110f4",
   "metadata": {
    "collapsed": false,
    "jupyter": {
     "outputs_hidden": false
    }
   },
   "outputs": [],
   "source": [
    "abnormal_accrual = PrepFactor(factor_name='factor_abnormal_accrual', group='permno', interval='M', kind='fundamental', stock=stock, div=False, start=start, end=end, save=True).prep()"
   ]
  },
  {
   "cell_type": "code",
   "execution_count": 50,
   "id": "c6077744",
   "metadata": {
    "ExecuteTime": {
     "end_time": "2023-08-20T02:38:32.606251400Z",
     "start_time": "2023-08-20T02:38:21.951178800Z"
    }
   },
   "outputs": [
    {
     "name": "stdout",
     "output_type": "stream",
     "text": [
      "Creating factor_sb_fama ------------------------------------|| \u001b[92m✔\u001b[0m\n",
      "Shape: (3479539, 24)\n"
     ]
    }
   ],
   "source": [
    "sb_fama = PrepFactor(factor_name='factor_sb_fama', group='permno', interval='D', kind='price', stock=stock, div=False, start=start, end=end, save=True).prep()"
   ]
  },
  {
   "cell_type": "code",
   "execution_count": 168,
   "id": "373eb5e9",
   "metadata": {},
   "outputs": [
    {
     "name": "stdout",
     "output_type": "stream",
     "text": [
      "Creating factor_sb_sector ---------------------------------- | \u001b[92m✔\u001b[0m\n",
      "Shape: (3479539, 32)\n"
     ]
    }
   ],
   "source": [
    "sb_sector = PrepFactor(factor_name='factor_sb_sector', group='permno', interval='D', kind='price', stock=stock, div=False, start=start, end=end, save=True).prep()"
   ]
  },
  {
   "cell_type": "code",
   "execution_count": 86,
   "id": "32d68ecf-fa8f-4743-b665-775450d25142",
   "metadata": {},
   "outputs": [
    {
     "name": "stdout",
     "output_type": "stream",
     "text": [
      "Creating factor_sb_lag_bond ---------------------------------|\u001b[92m✔\u001b[0m\n",
      "\\Shape: (3479539, 32)\n",
      "\b\\"
     ]
    }
   ],
   "source": [
    "sb_lag_bond = PrepFactor(factor_name='factor_sb_lag_bond', group='permno', interval='D', kind='price', stock=stock, div=False, start=start, end=end, save=True).prep()"
   ]
  },
  {
   "cell_type": "code",
   "execution_count": 89,
   "id": "2fc95d6e-e863-4c31-869d-4d3dbe2899fc",
   "metadata": {},
   "outputs": [
    {
     "name": "stdout",
     "output_type": "stream",
     "text": [
      "Creating factor_sb_pca ------------------------------------||\\-\u001b[92m✔\u001b[0m\n",
      "Shape: (3479539, 24)\n"
     ]
    }
   ],
   "source": [
    "sb_pca = PrepFactor(factor_name='factor_sb_pca', group='permno', interval='D', kind='price', stock=stock, div=False, start=start, end=end, save=True).prep()"
   ]
  },
  {
   "cell_type": "code",
   "execution_count": 198,
   "id": "c12ec726",
   "metadata": {},
   "outputs": [
    {
     "name": "stdout",
     "output_type": "stream",
     "text": [
      "Creating factor_sb_overall --------------------------------- | \u001b[92m✔\u001b[0m\n",
      "Shape: (3479539, 24)\n"
     ]
    }
   ],
   "source": [
    "sb_overall = PrepFactor(factor_name='factor_sb_overall', group='permno', interval='D', kind='price', stock=stock, div=False, start=start, end=end, save=True).prep()"
   ]
  },
  {
   "cell_type": "code",
   "execution_count": 199,
   "id": "956f6129",
   "metadata": {},
   "outputs": [
    {
     "name": "stdout",
     "output_type": "stream",
     "text": [
      "Creating factor_sb_ind ------------------------------------- | \u001b[92m✔\u001b[0m\n",
      "Shape: (3479539, 32)\n"
     ]
    }
   ],
   "source": [
    "sb_ind = PrepFactor(factor_name='factor_sb_ind', group='permno', interval='D', kind='price', stock=stock, div=False, start=start, end=end, save=True).prep()"
   ]
  },
  {
   "cell_type": "code",
   "execution_count": 75,
   "id": "5e5501bba1bc94ba",
   "metadata": {
    "ExecuteTime": {
     "end_time": "2023-08-20T02:43:03.874695100Z",
     "start_time": "2023-08-20T02:42:58.606911800Z"
    }
   },
   "outputs": [
    {
     "name": "stdout",
     "output_type": "stream",
     "text": [
      "Creating factor_sb_inverse --------------------------------\\/| \u001b[92m✔\u001b[0m\n",
      "Shape: (3479539, 10)\n"
     ]
    }
   ],
   "source": [
    "sb_inverse = PrepFactor(factor_name='factor_sb_inverse', group='permno', interval='D', kind='price', stock=stock, div=False, start=start, end=end, save=True).prep()"
   ]
  },
  {
   "cell_type": "code",
   "execution_count": 4,
   "id": "0129fcb7-ad83-4361-9b64-f6d807cddfb4",
   "metadata": {},
   "outputs": [
    {
     "name": "stdout",
     "output_type": "stream",
     "text": [
      "Creating factor_rf_ret ------------------------------------- | \u001b[92m✔\u001b[0m\n",
      "Shape: (3479539, 36)\n"
     ]
    }
   ],
   "source": [
    "rf_ret = PrepFactor(factor_name='factor_rf_ret', group='permno', interval='D', kind='price', div=False, stock=stock, start=start, end=end, save=True).prep()"
   ]
  },
  {
   "cell_type": "code",
   "execution_count": 144,
   "id": "10476ff4d58ed38b",
   "metadata": {
    "ExecuteTime": {
     "end_time": "2023-10-10T00:04:22.131383300Z",
     "start_time": "2023-10-10T00:04:18.563385900Z"
    }
   },
   "outputs": [
    {
     "name": "stdout",
     "output_type": "stream",
     "text": [
      "\b\\Creating factor_rank_ret ----------------------------------//| \u001b[92m✔\u001b[0m\n",
      "Shape: (3479539, 6)\n",
      "\b|"
     ]
    }
   ],
   "source": [
    "rank_ret = PrepFactor(factor_name='factor_rank_ret', group='permno', interval='D', kind='rank', stock=stock, div=False, start=start, end=end, save=True).prep()"
   ]
  },
  {
   "cell_type": "code",
   "execution_count": 145,
   "id": "252b83bc",
   "metadata": {
    "ExecuteTime": {
     "end_time": "2023-10-10T00:04:25.555613200Z",
     "start_time": "2023-10-10T00:04:22.132375700Z"
    }
   },
   "outputs": [
    {
     "name": "stdout",
     "output_type": "stream",
     "text": [
      "Creating factor_rank_volume -------------------------------\\| \u001b[92m✔\u001b[0m\n",
      "\b-/Shape: (3479539, 6)\n"
     ]
    }
   ],
   "source": [
    "rank_volume = PrepFactor(factor_name='factor_rank_volume', group='permno', interval='D', kind='rank', stock=stock, div=False, start=start, end=end, save=True).prep()"
   ]
  },
  {
   "cell_type": "code",
   "execution_count": 146,
   "id": "ee894509",
   "metadata": {
    "ExecuteTime": {
     "end_time": "2023-10-10T00:04:29.314884500Z",
     "start_time": "2023-10-10T00:04:25.562613900Z"
    }
   },
   "outputs": [
    {
     "name": "stdout",
     "output_type": "stream",
     "text": [
      "Creating factor_rank_volatility ---------------------------\\|-\\\u001b[92m✔\u001b[0m\n",
      "Shape: (3479539, 6)\n",
      "\b|"
     ]
    }
   ],
   "source": [
    "rank_volatility = PrepFactor(factor_name='factor_rank_volatility', group='permno', interval='D', kind='rank', stock=stock, div=False, start=start, end=end, save=True).prep()"
   ]
  },
  {
   "cell_type": "code",
   "execution_count": 147,
   "id": "bf13822b-0aec-4924-b6c4-e8f1ea1eb877",
   "metadata": {
    "ExecuteTime": {
     "end_time": "2023-10-10T00:04:33.726336300Z",
     "start_time": "2023-10-10T00:04:29.321872500Z"
    }
   },
   "outputs": [
    {
     "name": "stdout",
     "output_type": "stream",
     "text": [
      "Creating factor_rank_ind_vwr ------------------------------/| \u001b[92m✔\u001b[0m\n",
      "\b|Shape: (3479539, 6)\n",
      "/"
     ]
    }
   ],
   "source": [
    "rank_ind_vwr = PrepFactor(factor_name='factor_rank_ind_vwr', group='permno', interval='D', kind='rank', stock=stock, div=False, start=start, end=end, save=True).prep()"
   ]
  },
  {
   "cell_type": "code",
   "execution_count": 148,
   "id": "7de9c128-0735-4ed2-a9b6-0b077c09a60b",
   "metadata": {
    "ExecuteTime": {
     "end_time": "2023-10-10T00:04:38.076331300Z",
     "start_time": "2023-10-10T00:04:33.724343400Z"
    }
   },
   "outputs": [
    {
     "name": "stdout",
     "output_type": "stream",
     "text": [
      "Creating factor_rank_ind_vwr_fama ---------------------------||\u001b[92m✔\u001b[0m\n",
      "Shape: (3479539, 6)\n",
      "-\\"
     ]
    }
   ],
   "source": [
    "rank_ind_vwr_fama = PrepFactor(factor_name='factor_rank_ind_vwr_fama', group='permno', interval='D', kind='rank', stock=stock, div=False, start=start, end=end, save=True).prep()"
   ]
  },
  {
   "cell_type": "code",
   "execution_count": 149,
   "id": "f5c6b135-9315-4361-bf35-638a3a5c684b",
   "metadata": {
    "ExecuteTime": {
     "end_time": "2023-10-10T00:04:44.896021100Z",
     "start_time": "2023-10-10T00:04:41.011686500Z"
    }
   },
   "outputs": [
    {
     "name": "stdout",
     "output_type": "stream",
     "text": [
      "Creating factor_rank_ind_vwr_sub ---------------------------|| \u001b[92m✔\u001b[0m\n",
      "Shape: (3479539, 6)\n"
     ]
    }
   ],
   "source": [
    "rank_ind_vwr_sub = PrepFactor(factor_name='factor_rank_ind_vwr_sub', group='permno', interval='D', kind='rank', stock=stock, div=False, start=start, end=end, save=True).prep()"
   ]
  },
  {
   "cell_type": "code",
   "execution_count": 150,
   "id": "3ba9d2f4-1d1f-4c18-a4ee-aa3b4bc4dc53",
   "metadata": {},
   "outputs": [
    {
     "name": "stdout",
     "output_type": "stream",
     "text": [
      "Creating factor_rank_ind_mom -------------------------------|\\/\u001b[92m✔\u001b[0m\n",
      "Shape: (3479539, 6)\n"
     ]
    }
   ],
   "source": [
    "rank_ind_mom = PrepFactor(factor_name='factor_rank_ind_mom', group='permno', interval='D', kind='rank', stock=stock, div=False, start=start, end=end, save=True).prep()"
   ]
  },
  {
   "cell_type": "code",
   "execution_count": 151,
   "id": "6c147713-3940-4971-9279-98c2fd588b10",
   "metadata": {
    "ExecuteTime": {
     "end_time": "2023-10-10T00:04:41.007687300Z",
     "start_time": "2023-10-10T00:04:38.072330800Z"
    }
   },
   "outputs": [
    {
     "name": "stdout",
     "output_type": "stream",
     "text": [
      "Creating factor_rank_ind_mom_fama -------------------------| \u001b[92m✔\u001b[0m\n",
      "--Shape: (3479539, 6)\n"
     ]
    }
   ],
   "source": [
    "rank_ind_mom_fama = PrepFactor(factor_name='factor_rank_ind_mom_fama', group='permno', interval='D', kind='rank', stock=stock, div=False, start=start, end=end, save=True).prep()"
   ]
  },
  {
   "cell_type": "code",
   "execution_count": 152,
   "id": "fc695333-d261-4188-bf34-180d78825696",
   "metadata": {
    "ExecuteTime": {
     "end_time": "2023-10-10T00:04:47.696531600Z",
     "start_time": "2023-10-10T00:04:44.897024200Z"
    }
   },
   "outputs": [
    {
     "name": "stdout",
     "output_type": "stream",
     "text": [
      "Creating factor_rank_ind_mom_sub --------------------------\\|| \u001b[92m✔\u001b[0m\n",
      "Shape: (3479539, 6)\n"
     ]
    }
   ],
   "source": [
    "rank_ind_mom_sub = PrepFactor(factor_name='factor_rank_ind_mom_sub', group='permno', interval='D', kind='rank', stock=stock, div=False, start=start, end=end, save=True).prep()"
   ]
  },
  {
   "cell_type": "code",
   "execution_count": 153,
   "id": "bb150641",
   "metadata": {
    "ExecuteTime": {
     "end_time": "2023-10-10T00:05:00.362070700Z",
     "start_time": "2023-10-10T00:04:47.696531600Z"
    }
   },
   "outputs": [
    {
     "name": "stdout",
     "output_type": "stream",
     "text": [
      "Creating factor_rank_fund_raw ----------------------------|\\/| \u001b[92m✔\u001b[0m\n",
      "Shape: (3479539, 27)\n"
     ]
    }
   ],
   "source": [
    "rank_fund_raw = PrepFactor(factor_name='factor_rank_fund_raw', group='permno', interval='M', kind='rank', stock=stock, div=False, start=start, end=end, save=True).prep()"
   ]
  },
  {
   "cell_type": "code",
   "execution_count": 154,
   "id": "b8d1d1e0-5059-4d65-a3e3-d8b6273fef51",
   "metadata": {
    "ExecuteTime": {
     "end_time": "2023-10-10T00:05:03.228069300Z",
     "start_time": "2023-10-10T00:05:00.358068500Z"
    }
   },
   "outputs": [
    {
     "name": "stdout",
     "output_type": "stream",
     "text": [
      "Creating factor_rank_load_ret -----------------------------/| |\u001b[92m✔\u001b[0m\n",
      "Shape: (3477624, 5)\n"
     ]
    }
   ],
   "source": [
    "rank_load_ret = PrepFactor(factor_name='factor_rank_load_ret', group='permno', interval='D', kind='rank', stock=stock, div=False, start=start, end=end, save=True).prep()"
   ]
  },
  {
   "cell_type": "code",
   "execution_count": 155,
   "id": "7ddb239d-b115-4654-9edf-759d03d6eeff",
   "metadata": {
    "ExecuteTime": {
     "end_time": "2023-10-10T00:05:05.978583600Z",
     "start_time": "2023-10-10T00:05:03.227068600Z"
    }
   },
   "outputs": [
    {
     "name": "stdout",
     "output_type": "stream",
     "text": [
      "Creating factor_rank_load_volume ---------------------------/| \u001b[92m✔\u001b[0m\n",
      "Shape: (3477624, 5)\n"
     ]
    }
   ],
   "source": [
    "rank_load_volume = PrepFactor(factor_name='factor_rank_load_volume', group='permno', interval='D', kind='rank', stock=stock, div=False, start=start, end=end, save=True).prep()"
   ]
  },
  {
   "cell_type": "code",
   "execution_count": 156,
   "id": "51556189-f487-48b3-9dbd-d002f8896997",
   "metadata": {
    "ExecuteTime": {
     "end_time": "2023-10-10T00:05:10.021710700Z",
     "start_time": "2023-10-10T00:05:05.985585100Z"
    }
   },
   "outputs": [
    {
     "name": "stdout",
     "output_type": "stream",
     "text": [
      "Creating factor_rank_sb_fama ------------------------------\\|| \u001b[92m✔\u001b[0m\n",
      "Shape: (3479539, 10)\n"
     ]
    }
   ],
   "source": [
    "rank_sb_fama = PrepFactor(factor_name='factor_rank_sb_fama', group='permno', interval='D', kind='rank', stock=stock, div=False, start=start, end=end, save=True).prep()"
   ]
  },
  {
   "cell_type": "code",
   "execution_count": 157,
   "id": "af8a66a5-bb09-4c74-8158-d65ee10844ae",
   "metadata": {
    "ExecuteTime": {
     "end_time": "2023-10-10T00:05:15.794715700Z",
     "start_time": "2023-10-10T00:05:10.022723400Z"
    }
   },
   "outputs": [
    {
     "name": "stdout",
     "output_type": "stream",
     "text": [
      "Creating factor_rank_sb_lag_bond --------------------------|| \u001b[92m✔\u001b[0m\n",
      "/Shape: (3479539, 18)\n"
     ]
    }
   ],
   "source": [
    "rank_sb_lag_bond = PrepFactor(factor_name='factor_rank_sb_lag_bond', group='permno', interval='D', kind='rank', stock=stock, div=False, start=start, end=end, save=True).prep()"
   ]
  },
  {
   "cell_type": "code",
   "execution_count": 158,
   "id": "6ae7948e-f2a1-4252-a732-35f60101115a",
   "metadata": {
    "ExecuteTime": {
     "end_time": "2023-10-10T00:05:19.797668600Z",
     "start_time": "2023-10-10T00:05:15.796714800Z"
    }
   },
   "outputs": [
    {
     "name": "stdout",
     "output_type": "stream",
     "text": [
      "Creating factor_rank_sb_pca -------------------------------||\\-\u001b[92m✔\u001b[0m\n",
      "Shape: (3479539, 10)\n"
     ]
    }
   ],
   "source": [
    "rank_sb_pca = PrepFactor(factor_name='factor_rank_sb_pca', group='permno', interval='D', kind='rank', stock=stock, div=False, start=start, end=end, save=True).prep()"
   ]
  },
  {
   "cell_type": "code",
   "execution_count": 159,
   "id": "637c1e06-280a-4cb8-9a6c-551c75e381cb",
   "metadata": {
    "ExecuteTime": {
     "end_time": "2023-10-10T00:05:23.853518600Z",
     "start_time": "2023-10-10T00:05:19.799668500Z"
    }
   },
   "outputs": [
    {
     "name": "stdout",
     "output_type": "stream",
     "text": [
      "Creating factor_rank_sb_inverse ---------------------------|/|/\u001b[92m✔\u001b[0m\n",
      "\b-Shape: (3479539, 10)\n"
     ]
    }
   ],
   "source": [
    "rank_sb_inverse = PrepFactor(factor_name='factor_rank_sb_inverse', group='permno', interval='D', kind='rank', stock=stock, div=False, start=start, end=end, save=True).prep()"
   ]
  },
  {
   "cell_type": "code",
   "execution_count": 160,
   "id": "c90f2805-4981-446a-9d2a-6be0914e124f",
   "metadata": {},
   "outputs": [
    {
     "name": "stdout",
     "output_type": "stream",
     "text": [
      "Creating factor_rank_ret_comp -----------------------------|| \u001b[92m✔\u001b[0m\n",
      "\b\\-Shape: (3479539, 11)\n"
     ]
    }
   ],
   "source": [
    "rank_ret_comp = PrepFactor(factor_name='factor_rank_ret_comp', group='permno', interval='D', kind='rank', stock=stock, div=False, start=start, end=end, save=True).prep()"
   ]
  },
  {
   "cell_type": "code",
   "execution_count": 108,
   "id": "50071e04-cbfd-4e81-93ee-f5082271910e",
   "metadata": {},
   "outputs": [
    {
     "name": "stdout",
     "output_type": "stream",
     "text": [
      "Creating factor_ret_comp ----------------------------------|-| \u001b[92m✔\u001b[0m\n",
      "Shape: (3479539, 11)\n"
     ]
    }
   ],
   "source": [
    "ret_comp = PrepFactor(factor_name='factor_ret_comp', group='permno', interval='D', kind='price', stock=stock, div=False, start=start, end=end, save=True).prep()"
   ]
  },
  {
   "cell_type": "markdown",
   "id": "5ad6703f-abf1-4812-b41e-dee719948cac",
   "metadata": {},
   "source": [
    "# Skip"
   ]
  },
  {
   "cell_type": "code",
   "execution_count": 149,
   "id": "b0a2bfa18a5955f3",
   "metadata": {
    "ExecuteTime": {
     "end_time": "2023-08-20T02:43:36.858109100Z",
     "start_time": "2023-08-20T02:43:18.642098100Z"
    }
   },
   "outputs": [],
   "source": [
    "# sb_bond = PrepFactor(factor_name='factor_sb_bond', group='permno', interval='D', kind='price', stock=stock, div=False, start=start, end=end, save=True).prep()"
   ]
  },
  {
   "cell_type": "code",
   "execution_count": 150,
   "id": "0bac8b10",
   "metadata": {},
   "outputs": [],
   "source": [
    "# clust_ret30 = PrepFactor(factor_name='factor_clust_ret30', group='permno', interval='D', kind='cluster', stock=stock, div=False, start=start, end=end, save=True).prep()"
   ]
  },
  {
   "cell_type": "code",
   "execution_count": 151,
   "id": "f948a3e0",
   "metadata": {},
   "outputs": [],
   "source": [
    "# clust_ret60 = PrepFactor(factor_name='factor_clust_ret60', group='permno', interval='D', kind='cluster', stock=stock, div=False, start=start, end=end, save=True).prep()"
   ]
  },
  {
   "cell_type": "code",
   "execution_count": 152,
   "id": "2a449d33",
   "metadata": {
    "ExecuteTime": {
     "end_time": "2023-08-20T02:38:49.332605700Z",
     "start_time": "2023-08-20T02:38:33.766548600Z"
    }
   },
   "outputs": [],
   "source": [
    "# sb_etf = PrepFactor(factor_name='factor_sb_etf', group='permno', interval='D', kind='price', div=False, stock=stock, start=start, end=end, save=True).prep()"
   ]
  },
  {
   "cell_type": "code",
   "execution_count": 155,
   "id": "4d663175",
   "metadata": {},
   "outputs": [],
   "source": [
    "# ep_bond = PrepFactor(factor_name='factor_ep_bond', group='permno', interval='D', kind='price', div=False, stock=stock, start=start, end=end, save=True).prep()"
   ]
  },
  {
   "cell_type": "code",
   "execution_count": 156,
   "id": "5761ce86",
   "metadata": {},
   "outputs": [],
   "source": [
    "# ep_etf = PrepFactor(factor_name='factor_ep_etf', group='permno', interval='D', kind='price', div=False, stock=stock, start=start, end=end, save=True).prep()"
   ]
  },
  {
   "cell_type": "code",
   "execution_count": 157,
   "id": "1b34d3bf",
   "metadata": {},
   "outputs": [],
   "source": [
    "# ep_fama = PrepFactor(factor_name='factor_ep_fama', group='permno', interval='D', kind='price', div=False, stock=stock, start=start, end=end, save=True).prep()"
   ]
  },
  {
   "cell_type": "code",
   "execution_count": 158,
   "id": "198e593d6cf647c3",
   "metadata": {
    "ExecuteTime": {
     "end_time": "2023-08-20T02:44:35.569616300Z",
     "start_time": "2023-08-20T02:44:15.103650600Z"
    }
   },
   "outputs": [],
   "source": [
    "# open_asset = PrepFactor(factor_name='factor_open_asset', group='permno', interval='M', kind='open', stock=stock, div=False, start=start, end=end, save=False).prep()"
   ]
  },
  {
   "cell_type": "code",
   "execution_count": 159,
   "id": "c3fe7d6c",
   "metadata": {
    "ExecuteTime": {
     "end_time": "2023-08-27T04:54:00.227526Z",
     "start_time": "2023-08-27T04:53:58.979593100Z"
    }
   },
   "outputs": [],
   "source": [
    "# rf_ret = PrepFactor(factor_name='factor_rf_ret', group='permno', interval='D', kind='price', div=False, stock=stock, start=start, end=end, save=True).prep()"
   ]
  },
  {
   "cell_type": "code",
   "execution_count": 160,
   "id": "9f8169d5c27baa1a",
   "metadata": {
    "ExecuteTime": {
     "end_time": "2023-08-25T04:23:03.160186300Z",
     "start_time": "2023-08-25T04:22:29.575338200Z"
    }
   },
   "outputs": [],
   "source": [
    "# sb_macro = PrepFactor(factor_name='factor_sb_macro', group='permno', interval='D', kind='price', stock=stock, div=False, start=start, end=end, save=True).prep()"
   ]
  },
  {
   "cell_type": "code",
   "execution_count": 161,
   "id": "7c1f3f64aa266dd9",
   "metadata": {
    "ExecuteTime": {
     "end_time": "2023-08-20T03:27:30.974738300Z",
     "start_time": "2023-08-20T03:27:17.133277400Z"
    }
   },
   "outputs": [],
   "source": [
    "# rf_volume = PrepFactor(factor_name='factor_rf_volume', group='permno', interval='D', kind='price', stock=stock, div=False, start=start, end=end, save=True).prep()"
   ]
  },
  {
   "cell_type": "code",
   "execution_count": 162,
   "id": "911cc0884e1edcba",
   "metadata": {
    "ExecuteTime": {
     "end_time": "2023-08-20T03:27:44.742463700Z",
     "start_time": "2023-08-20T03:27:30.974738300Z"
    }
   },
   "outputs": [],
   "source": [
    "# rf_sign = PrepFactor(factor_name='factor_rf_sign', group='permno', interval='D', kind='price', stock=stock, div=False, start=start, end=end, save=True).prep()"
   ]
  },
  {
   "cell_type": "code",
   "execution_count": 163,
   "id": "176d7830",
   "metadata": {},
   "outputs": [],
   "source": [
    "# sb_oil = PrepFactor(factor_name='factor_sb_oil', group='permno', interval='D', kind='price', stock=stock, div=False, start=start, end=end, save=True).prep()"
   ]
  },
  {
   "cell_type": "code",
   "execution_count": 164,
   "id": "d1d99031",
   "metadata": {},
   "outputs": [],
   "source": [
    "# sb_fund_ind = PrepFactor(factor_name='factor_sb_fund_ind', group='permno', interval='D', kind='price', stock=stock, div=False, start=start, end=end, save=True).prep()"
   ]
  },
  {
   "cell_type": "code",
   "execution_count": 165,
   "id": "ab6e604f",
   "metadata": {},
   "outputs": [],
   "source": [
    "# sb_fund_raw = PrepFactor(factor_name='factor_sb_fund_raw', group='permno', interval='D', kind='price', stock=stock, div=False, start=start, end=end, save=False).prep()"
   ]
  }
 ],
 "metadata": {
  "kernelspec": {
   "display_name": "algofacto",
   "language": "python",
   "name": "algofacto"
  },
  "language_info": {
   "codemirror_mode": {
    "name": "ipython",
    "version": 3
   },
   "file_extension": ".py",
   "mimetype": "text/x-python",
   "name": "python",
   "nbconvert_exporter": "python",
   "pygments_lexer": "ipython3",
   "version": "3.10.13"
  }
 },
 "nbformat": 4,
 "nbformat_minor": 5
}
