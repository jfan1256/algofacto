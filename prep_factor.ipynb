{
 "cells": [
  {
   "cell_type": "markdown",
   "id": "78b9128d608b8094",
   "metadata": {},
   "source": [
    "# Prep Factors"
   ]
  },
  {
   "cell_type": "code",
   "execution_count": 1,
   "id": "e04cbf10",
   "metadata": {
    "ExecuteTime": {
     "end_time": "2023-08-28T02:14:33.631198Z",
     "start_time": "2023-08-28T02:14:32.202267600Z"
    }
   },
   "outputs": [],
   "source": [
    "from functions.utils.func import *\n",
    "\n",
    "from prep_factor import PrepFactor\n",
    "\n",
    "tickers = read_ticker(get_load_data_large_dir() / 'tickers_to_train_fundamental.csv')\n",
    "start='2006-01-01'\n",
    "end='2022-01-01'"
   ]
  },
  {
   "cell_type": "code",
   "execution_count": 9,
   "id": "99130ac6",
   "metadata": {
    "ExecuteTime": {
     "end_time": "2023-08-20T02:32:11.978042700Z",
     "start_time": "2023-08-20T02:32:09.147997300Z"
    }
   },
   "outputs": [
    {
     "name": "stdout",
     "output_type": "stream",
     "text": [
      "Creating factor_time --------------------------------------- | \u001b[92m✔\u001b[0m\n",
      "Shape: (2797866, 2)\n"
     ]
    }
   ],
   "source": [
    "cycle = PrepFactor(factor_name='factor_time', interval='D', kind='price', tickers=tickers, div=False, start=start, end=end, save=True).prep()"
   ]
  },
  {
   "cell_type": "code",
   "execution_count": 3,
   "id": "b4197b53",
   "metadata": {
    "ExecuteTime": {
     "end_time": "2023-08-20T03:40:08.614889Z",
     "start_time": "2023-08-20T03:40:07.394307Z"
    }
   },
   "outputs": [
    {
     "name": "stdout",
     "output_type": "stream",
     "text": [
      "Creating factor_talib -------------------------------------- | \u001b[92m✔\u001b[0m\n",
      "Shape: (2797866, 10)\n"
     ]
    }
   ],
   "source": [
    "talib = PrepFactor(factor_name='factor_talib', interval='D', kind='price', tickers=tickers, div=False, start=start, end=end, save=True).prep()"
   ]
  },
  {
   "cell_type": "code",
   "execution_count": 10,
   "id": "10d229f6",
   "metadata": {
    "ExecuteTime": {
     "end_time": "2023-08-20T02:33:34.997168300Z",
     "start_time": "2023-08-20T02:33:31.959557500Z"
    }
   },
   "outputs": [
    {
     "name": "stdout",
     "output_type": "stream",
     "text": [
      "Creating factor_ind ---------------------------------------- | \u001b[92m✔\u001b[0m\n",
      "Shape: (2797866, 2)\n"
     ]
    }
   ],
   "source": [
    "ind = PrepFactor(factor_name='factor_ind', interval='D', kind='ind', tickers=tickers, div=False, start=start, end=end, save=True).prep()"
   ]
  },
  {
   "cell_type": "code",
   "execution_count": 5,
   "id": "bb150641",
   "metadata": {
    "ExecuteTime": {
     "end_time": "2023-08-20T03:42:15.631353300Z",
     "start_time": "2023-08-20T03:42:12.039402600Z"
    }
   },
   "outputs": [
    {
     "name": "stdout",
     "output_type": "stream",
     "text": [
      "Creating factor_fund_ratio --------------------------------- | \u001b[92m✔\u001b[0m\n",
      "Shape: (2768301, 87)\n"
     ]
    }
   ],
   "source": [
    "fund_ratio = PrepFactor(factor_name='factor_fund_ratio', interval='D', kind='fundamental', tickers=tickers, div=True, start=start, end=end, save=True).prep()"
   ]
  },
  {
   "cell_type": "code",
   "execution_count": 6,
   "id": "4d0a7bfd",
   "metadata": {
    "ExecuteTime": {
     "end_time": "2023-08-20T02:36:17.044882400Z",
     "start_time": "2023-08-20T02:36:11.897275100Z"
    }
   },
   "outputs": [
    {
     "name": "stdout",
     "output_type": "stream",
     "text": [
      "Creating factor_macro -------------------------------------- | \u001b[92m✔\u001b[0m\n",
      "Shape: (3469425, 12)\n"
     ]
    }
   ],
   "source": [
    "macro = PrepFactor(factor_name='factor_macro', interval='D', kind='macro', tickers=tickers, div=False, start=start, end=end, save=True).prep()"
   ]
  },
  {
   "cell_type": "code",
   "execution_count": 11,
   "id": "4b59dc86",
   "metadata": {
    "ExecuteTime": {
     "end_time": "2023-08-20T02:37:29.208839Z",
     "start_time": "2023-08-20T02:37:15.515563500Z"
    }
   },
   "outputs": [
    {
     "name": "stdout",
     "output_type": "stream",
     "text": [
      "Creating factor_ret ---------------------------------------- | \u001b[92m✔\u001b[0m\n",
      "Shape: (2797866, 11)\n"
     ]
    }
   ],
   "source": [
    "ret = PrepFactor(factor_name='factor_ret', interval='D', kind='price', tickers=tickers, div=False, start=start, end=end, save=True).prep()"
   ]
  },
  {
   "cell_type": "code",
   "execution_count": 12,
   "id": "41abbb3d8f2ab46a",
   "metadata": {
    "ExecuteTime": {
     "end_time": "2023-08-20T02:37:36.757464200Z",
     "start_time": "2023-08-20T02:37:32.261955Z"
    }
   },
   "outputs": [
    {
     "name": "stdout",
     "output_type": "stream",
     "text": [
      "Creating factor_volume ------------------------------------- | \u001b[92m✔\u001b[0m\n",
      "Shape: (2797866, 5)\n"
     ]
    }
   ],
   "source": [
    "volume = PrepFactor(factor_name='factor_volume', interval='D', kind='price', div=False, tickers=tickers, start=start, end=end, save=True).prep()"
   ]
  },
  {
   "cell_type": "code",
   "execution_count": 5,
   "id": "28ae0010",
   "metadata": {
    "ExecuteTime": {
     "end_time": "2023-08-20T02:37:53.653052300Z",
     "start_time": "2023-08-20T02:37:36.757464200Z"
    }
   },
   "outputs": [
    {
     "name": "stdout",
     "output_type": "stream",
     "text": [
      "Creating factor_volatility --------------------------------- | \u001b[92m✔\u001b[0m\n",
      "Shape: (2797866, 11)\n"
     ]
    }
   ],
   "source": [
    "volatility = PrepFactor(factor_name='factor_volatility', interval='D', kind='price', tickers=tickers, div=False, start=start, end=end, save=True).prep()"
   ]
  },
  {
   "cell_type": "code",
   "execution_count": 10,
   "id": "be3de686",
   "metadata": {
    "ExecuteTime": {
     "end_time": "2023-08-27T05:46:23.717054Z",
     "start_time": "2023-08-27T05:46:23.067545200Z"
    }
   },
   "outputs": [
    {
     "name": "stdout",
     "output_type": "stream",
     "text": [
      "Creating factor_ind_mom ------------------------------------ | \u001b[92m✔\u001b[0m\n",
      "Shape: (2797866, 1)\n"
     ]
    }
   ],
   "source": [
    "ind_mom = PrepFactor(factor_name='factor_ind_mom', interval='D', kind='ind', tickers=tickers, div=False, start=start, end=end, save=True).prep()"
   ]
  },
  {
   "cell_type": "code",
   "execution_count": 27,
   "id": "c6077744",
   "metadata": {
    "ExecuteTime": {
     "end_time": "2023-08-20T02:38:32.606251400Z",
     "start_time": "2023-08-20T02:38:21.951178800Z"
    }
   },
   "outputs": [
    {
     "name": "stdout",
     "output_type": "stream",
     "text": [
      "Creating factor_sb_fama ------------------------------------ | \u001b[92m✔\u001b[0m\n",
      "Shape: (2797866, 14)\n"
     ]
    }
   ],
   "source": [
    "sb_fama = PrepFactor(factor_name='factor_sb_fama', interval='D', kind='price', tickers=tickers, div=False, start=start, end=end, save=True).prep()"
   ]
  },
  {
   "cell_type": "code",
   "execution_count": 28,
   "id": "2a449d33",
   "metadata": {
    "ExecuteTime": {
     "end_time": "2023-08-20T02:38:49.332605700Z",
     "start_time": "2023-08-20T02:38:33.766548600Z"
    }
   },
   "outputs": [
    {
     "name": "stdout",
     "output_type": "stream",
     "text": [
      "Creating factor_sb_etf ------------------------------------- | \u001b[92m✔\u001b[0m\n",
      "Shape: (2797866, 24)\n"
     ]
    }
   ],
   "source": [
    "sb_etf = PrepFactor(factor_name='factor_sb_etf', interval='D', kind='price', div=False, tickers=tickers, start=start, end=end, save=True).prep()"
   ]
  },
  {
   "cell_type": "code",
   "execution_count": 32,
   "id": "c3fe7d6c",
   "metadata": {
    "ExecuteTime": {
     "end_time": "2023-08-27T04:54:00.227526Z",
     "start_time": "2023-08-27T04:53:58.979593100Z"
    }
   },
   "outputs": [
    {
     "name": "stdout",
     "output_type": "stream",
     "text": [
      "Creating factor_rf_ret ------------------------------------- | \u001b[92m✔\u001b[0m\n",
      "Shape: (2797866, 24)\n"
     ]
    }
   ],
   "source": [
    "rf_ret = PrepFactor(factor_name='factor_rf_ret', interval='D', kind='price', div=False, tickers=tickers, start=start, end=end, save=True).prep()"
   ]
  },
  {
   "cell_type": "code",
   "execution_count": 21,
   "id": "09ea17a2",
   "metadata": {},
   "outputs": [
    {
     "name": "stdout",
     "output_type": "stream",
     "text": [
      "Creating factor_rf_ret -------------------------------------| \u001b[92m✔\u001b[0m\n",
      "-Shape: (2797866, 24)\n",
      "\b-"
     ]
    }
   ],
   "source": [
    "rf_ret = PrepFactor(factor_name='factor_rf_ret', interval='D', kind='price', div=False, tickers=tickers, start=start, end=end, save=False).prep()"
   ]
  },
  {
   "cell_type": "code",
   "execution_count": 30,
   "id": "5b17f50f",
   "metadata": {
    "ExecuteTime": {
     "end_time": "2023-08-20T02:44:52.639983300Z",
     "start_time": "2023-08-20T02:44:45.571174Z"
    }
   },
   "outputs": [
    {
     "name": "stdout",
     "output_type": "stream",
     "text": [
      "Creating factor_load_ret ----------------------------------- | \u001b[92m✔\u001b[0m\n",
      "Shape: (2760458, 5)\n"
     ]
    }
   ],
   "source": [
    "load_ret = PrepFactor(factor_name='factor_load_ret', interval='D', kind='loading', tickers=tickers, div=False, start=start, end=end, save=True).prep()"
   ]
  },
  {
   "cell_type": "code",
   "execution_count": 17,
   "id": "52358edc",
   "metadata": {
    "ExecuteTime": {
     "end_time": "2023-08-26T23:05:21.075743100Z",
     "start_time": "2023-08-26T23:05:18.475355Z"
    }
   },
   "outputs": [
    {
     "name": "stdout",
     "output_type": "stream",
     "text": [
      "Creating factor_clust_ret ---------------------------------- | \u001b[92m✔\u001b[0m\n",
      "Shape: (2759025, 1)\n"
     ]
    }
   ],
   "source": [
    "clust_ret = PrepFactor(factor_name='factor_clust_ret', interval='D', kind='cluster', tickers=tickers, div=False, start=start, end=end, save=True).prep()"
   ]
  },
  {
   "cell_type": "code",
   "execution_count": 31,
   "id": "cf0a9399",
   "metadata": {
    "ExecuteTime": {
     "end_time": "2023-08-20T02:44:58.912137200Z",
     "start_time": "2023-08-20T02:44:55.628886Z"
    }
   },
   "outputs": [
    {
     "name": "stdout",
     "output_type": "stream",
     "text": [
      "Creating factor_clust_load_ret ----------------------------- | \u001b[92m✔\u001b[0m\n",
      "Shape: (2720988, 5)\n"
     ]
    }
   ],
   "source": [
    "clust_load_ret = PrepFactor(factor_name='factor_clust_load_ret', interval='D', kind='cluster', tickers=tickers, div=False, start=start, end=end, save=True).prep()"
   ]
  },
  {
   "cell_type": "code",
   "execution_count": 17,
   "id": "198e593d6cf647c3",
   "metadata": {
    "ExecuteTime": {
     "end_time": "2023-08-20T02:44:35.569616300Z",
     "start_time": "2023-08-20T02:44:15.103650600Z"
    }
   },
   "outputs": [
    {
     "name": "stdout",
     "output_type": "stream",
     "text": [
      "Creating factor_open_asset --------------------------------- | \u001b[92m✔\u001b[0m\n",
      "Shape: (2796347, 12)\n"
     ]
    }
   ],
   "source": [
    "open_asset = PrepFactor(factor_name='factor_open_asset', interval='M', kind='open', tickers='all', div=False, start=start, end=end, save=True).prep()"
   ]
  },
  {
   "cell_type": "code",
   "execution_count": 14,
   "id": "57ebf9035fdac853",
   "metadata": {
    "ExecuteTime": {
     "end_time": "2023-08-20T02:44:09.921444700Z",
     "start_time": "2023-08-20T02:44:06.669324200Z"
    }
   },
   "outputs": [
    {
     "name": "stdout",
     "output_type": "stream",
     "text": [
      "Creating factor_streversal --------------------------------- | \u001b[92m✔\u001b[0m\n",
      "Shape: (2797866, 2)\n"
     ]
    }
   ],
   "source": [
    "streversal = PrepFactor(factor_name='factor_streversal', interval='D', kind='price', tickers=tickers, div=False, start=start, end=end, save=True).prep()"
   ]
  },
  {
   "cell_type": "code",
   "execution_count": 15,
   "id": "10476ff4d58ed38b",
   "metadata": {
    "ExecuteTime": {
     "end_time": "2023-08-20T02:44:06.692652300Z",
     "start_time": "2023-08-20T02:44:03.056311200Z"
    }
   },
   "outputs": [
    {
     "name": "stdout",
     "output_type": "stream",
     "text": [
      "Creating factor_rank --------------------------------------- | \u001b[92m✔\u001b[0m\n",
      "Shape: (2797866, 3)\n"
     ]
    }
   ],
   "source": [
    "rank = PrepFactor(factor_name='factor_rank', interval='D', kind='price', tickers=tickers, div=False, start=start, end=end, save=True).prep()"
   ]
  },
  {
   "cell_type": "code",
   "execution_count": 15,
   "id": "b0a2bfa18a5955f3",
   "metadata": {
    "ExecuteTime": {
     "end_time": "2023-08-20T02:43:36.858109100Z",
     "start_time": "2023-08-20T02:43:18.642098100Z"
    }
   },
   "outputs": [
    {
     "name": "stdout",
     "output_type": "stream",
     "text": [
      "Creating factor_sb_bond ------------------------------------ | \u001b[92m✔\u001b[0m\n",
      "Shape: (2797866, 22)\n"
     ]
    }
   ],
   "source": [
    "sb_bond = PrepFactor(factor_name='factor_sb_bond', interval='D', kind='price', tickers=tickers, div=False, start=start, end=end, save=True).prep()"
   ]
  },
  {
   "cell_type": "code",
   "execution_count": 16,
   "id": "6fbfc030909a304d",
   "metadata": {
    "ExecuteTime": {
     "end_time": "2023-08-20T02:43:16.581410800Z",
     "start_time": "2023-08-20T02:43:13.519555Z"
    }
   },
   "outputs": [
    {
     "name": "stdout",
     "output_type": "stream",
     "text": [
      "Creating factor_sign --------------------------------------- | \u001b[92m✔\u001b[0m\n",
      "Shape: (2797866, 3)\n"
     ]
    }
   ],
   "source": [
    "sign = PrepFactor(factor_name='factor_sign', interval='D', kind='price', tickers=tickers, div=False, start=start, end=end, save=True).prep()"
   ]
  },
  {
   "cell_type": "code",
   "execution_count": 22,
   "id": "7c1f3f64aa266dd9",
   "metadata": {
    "ExecuteTime": {
     "end_time": "2023-08-20T03:27:30.974738300Z",
     "start_time": "2023-08-20T03:27:17.133277400Z"
    }
   },
   "outputs": [
    {
     "name": "stdout",
     "output_type": "stream",
     "text": [
      "Creating factor_rf_volume ---------------------------------- | \u001b[92m✔\u001b[0m\n",
      "Shape: (2797866, 24)\n"
     ]
    }
   ],
   "source": [
    "rf_volume = PrepFactor(factor_name='factor_rf_volume', interval='D', kind='price', tickers=tickers, div=False, start=start, end=end, save=True).prep()"
   ]
  },
  {
   "cell_type": "code",
   "execution_count": 23,
   "id": "911cc0884e1edcba",
   "metadata": {
    "ExecuteTime": {
     "end_time": "2023-08-20T03:27:44.742463700Z",
     "start_time": "2023-08-20T03:27:30.974738300Z"
    }
   },
   "outputs": [
    {
     "name": "stdout",
     "output_type": "stream",
     "text": [
      "Creating factor_rf_sign ------------------------------------ | \u001b[92m✔\u001b[0m\n",
      "Shape: (2797866, 24)\n"
     ]
    }
   ],
   "source": [
    "rf_sign = PrepFactor(factor_name='factor_rf_sign', interval='D', kind='price', tickers=tickers, div=False, start=start, end=end, save=True).prep()"
   ]
  },
  {
   "cell_type": "code",
   "execution_count": 24,
   "id": "5e5501bba1bc94ba",
   "metadata": {
    "ExecuteTime": {
     "end_time": "2023-08-20T02:43:03.874695100Z",
     "start_time": "2023-08-20T02:42:58.606911800Z"
    }
   },
   "outputs": [
    {
     "name": "stdout",
     "output_type": "stream",
     "text": [
      "Creating factor_sb_spy_inv --------------------------------- | \u001b[92m✔\u001b[0m\n",
      "Shape: (2797866, 2)\n"
     ]
    }
   ],
   "source": [
    "sb_spy_inv = PrepFactor(factor_name='factor_sb_spy_inv', interval='D', kind='price', tickers=tickers, div=False, start=start, end=end, save=True).prep()"
   ]
  },
  {
   "cell_type": "code",
   "execution_count": 19,
   "id": "9f8169d5c27baa1a",
   "metadata": {
    "ExecuteTime": {
     "end_time": "2023-08-25T04:23:03.160186300Z",
     "start_time": "2023-08-25T04:22:29.575338200Z"
    }
   },
   "outputs": [
    {
     "name": "stdout",
     "output_type": "stream",
     "text": [
      "Creating factor_sb_macro -----------------------------------/| \u001b[92m✔\u001b[0m\n",
      "Shape: (2797866, 28)\n",
      "\b|"
     ]
    }
   ],
   "source": [
    "sb_macro = PrepFactor(factor_name='factor_sb_macro', interval='D', kind='price', tickers=tickers, div=False, start=start, end=end, save=True).prep()"
   ]
  },
  {
   "cell_type": "code",
   "execution_count": 20,
   "id": "5cc059a57d7c8ca3",
   "metadata": {
    "ExecuteTime": {
     "end_time": "2023-08-26T23:05:41.963295200Z",
     "start_time": "2023-08-26T23:05:39.483524Z"
    }
   },
   "outputs": [
    {
     "name": "stdout",
     "output_type": "stream",
     "text": [
      "Creating factor_clust_volume ------------------------------- | \u001b[92m✔\u001b[0m\n",
      "Shape: (2752540, 1)\n"
     ]
    }
   ],
   "source": [
    "clust_volume = PrepFactor(factor_name='factor_clust_volume', interval='D', kind='cluster', tickers=tickers, div=False, start=start, end=end, save=True).prep()"
   ]
  },
  {
   "cell_type": "code",
   "execution_count": 27,
   "id": "5c302a6511fc65a9",
   "metadata": {
    "ExecuteTime": {
     "end_time": "2023-08-27T05:58:18.919784500Z",
     "start_time": "2023-08-27T05:58:16.228119Z"
    }
   },
   "outputs": [
    {
     "name": "stdout",
     "output_type": "stream",
     "text": [
      "Creating factor_clust_ind_mom ------------------------------ | \u001b[92m✔\u001b[0m\n",
      "Shape: (2756198, 1)\n"
     ]
    }
   ],
   "source": [
    "clust_ind_mom = PrepFactor(factor_name='factor_clust_ind_mom', interval='D', kind='cluster', tickers='all', div=False, start=start, end=end, save=True).prep()"
   ]
  },
  {
   "cell_type": "code",
   "execution_count": 25,
   "id": "d083b3cbe74b8043",
   "metadata": {},
   "outputs": [
    {
     "name": "stdout",
     "output_type": "stream",
     "text": [
      "Creating factor_load_volatility ---------------------------- | \u001b[92m✔\u001b[0m\n",
      "Shape: (2750821, 5)\n"
     ]
    }
   ],
   "source": [
    "load_volatility = PrepFactor(factor_name='factor_load_volatility', interval='D', kind='loading', tickers=tickers, div=False, start=start, end=end, save=True).prep()"
   ]
  },
  {
   "cell_type": "code",
   "execution_count": 26,
   "id": "e81a93a9",
   "metadata": {},
   "outputs": [
    {
     "name": "stdout",
     "output_type": "stream",
     "text": [
      "Creating factor_load_volume -------------------------------- | \u001b[92m✔\u001b[0m\n",
      "Shape: (2752540, 5)\n"
     ]
    }
   ],
   "source": [
    "load_volume = PrepFactor(factor_name='factor_load_volume', interval='D', kind='loading', tickers=tickers, div=False, start=start, end=end, save=True).prep()"
   ]
  },
  {
   "cell_type": "code",
   "execution_count": 30,
   "id": "a9caece6",
   "metadata": {},
   "outputs": [
    {
     "name": "stdout",
     "output_type": "stream",
     "text": [
      "Creating factor_clust_volatility --------------------------- | \u001b[92m✔\u001b[0m\n",
      "Shape: (2750821, 1)\n"
     ]
    }
   ],
   "source": [
    "clust_volatility = PrepFactor(factor_name='factor_clust_volatility', interval='D', kind='cluster', tickers=tickers, div=False, start=start, end=end, save=True).prep()"
   ]
  },
  {
   "cell_type": "code",
   "execution_count": 31,
   "id": "0861edc0",
   "metadata": {},
   "outputs": [
    {
     "name": "stdout",
     "output_type": "stream",
     "text": [
      "Creating factor_dividend ----------------------------------- | \u001b[92m✔\u001b[0m\n",
      "Shape: (2984164, 1)\n"
     ]
    }
   ],
   "source": [
    "dividend = PrepFactor(factor_name='factor_dividend', interval='D', kind='dividend', tickers='all', div=False, start=start, end=end, save=True).prep()"
   ]
  },
  {
   "cell_type": "code",
   "execution_count": 32,
   "id": "0bac8b10",
   "metadata": {},
   "outputs": [
    {
     "name": "stdout",
     "output_type": "stream",
     "text": [
      "Creating factor_clust_ret30 -------------------------------- | \u001b[92m✔\u001b[0m\n",
      "Shape: (2754290, 1)\n"
     ]
    }
   ],
   "source": [
    "clust_ret30 = PrepFactor(factor_name='factor_clust_ret30', interval='D', kind='cluster', tickers=tickers, div=False, start=start, end=end, save=True).prep()"
   ]
  },
  {
   "cell_type": "code",
   "execution_count": 33,
   "id": "f948a3e0",
   "metadata": {},
   "outputs": [
    {
     "name": "stdout",
     "output_type": "stream",
     "text": [
      "Creating factor_clust_ret60 -------------------------------- | \u001b[92m✔\u001b[0m\n",
      "Shape: (2749313, 1)\n"
     ]
    }
   ],
   "source": [
    "clust_ret60 = PrepFactor(factor_name='factor_clust_ret60', interval='D', kind='cluster', tickers=tickers, div=False, start=start, end=end, save=True).prep()"
   ]
  },
  {
   "cell_type": "code",
   "execution_count": 34,
   "id": "176d7830",
   "metadata": {},
   "outputs": [
    {
     "name": "stdout",
     "output_type": "stream",
     "text": [
      "Creating factor_sb_oil ------------------------------------- | \u001b[92m✔\u001b[0m\n",
      "Shape: (2797866, 22)\n"
     ]
    }
   ],
   "source": [
    "sb_oil = PrepFactor(factor_name='factor_sb_oil', interval='D', kind='price', tickers=tickers, div=False, start=start, end=end, save=True).prep()"
   ]
  },
  {
   "cell_type": "code",
   "execution_count": 35,
   "id": "373eb5e9",
   "metadata": {},
   "outputs": [
    {
     "name": "stdout",
     "output_type": "stream",
     "text": [
      "Creating factor_sb_sector ---------------------------------- | \u001b[92m✔\u001b[0m\n",
      "Shape: (2797866, 14)\n"
     ]
    }
   ],
   "source": [
    "sb_sector = PrepFactor(factor_name='factor_sb_sector', interval='D', kind='price', tickers=tickers, div=False, start=start, end=end, save=True).prep()"
   ]
  },
  {
   "cell_type": "code",
   "execution_count": 36,
   "id": "956f6129",
   "metadata": {},
   "outputs": [
    {
     "name": "stdout",
     "output_type": "stream",
     "text": [
      "Creating factor_sb_ind ------------------------------------- | \u001b[92m✔\u001b[0m\n",
      "Shape: (2797866, 21)\n"
     ]
    }
   ],
   "source": [
    "sb_ind = PrepFactor(factor_name='factor_sb_ind', interval='D', kind='price', tickers=tickers, div=False, start=start, end=end, save=True).prep()"
   ]
  },
  {
   "cell_type": "code",
   "execution_count": 37,
   "id": "c12ec726",
   "metadata": {},
   "outputs": [
    {
     "name": "stdout",
     "output_type": "stream",
     "text": [
      "Creating factor_sb_overall --------------------------------- | \u001b[92m✔\u001b[0m\n",
      "Shape: (2797866, 14)\n"
     ]
    }
   ],
   "source": [
    "sb_overall = PrepFactor(factor_name='factor_sb_overall', interval='D', kind='price', tickers=tickers, div=False, start=start, end=end, save=True).prep()"
   ]
  },
  {
   "cell_type": "code",
   "execution_count": 9,
   "id": "915f49f5",
   "metadata": {},
   "outputs": [
    {
     "name": "stdout",
     "output_type": "stream",
     "text": [
      "Creating factor_sb_macro_test ------------------------------ | \u001b[92m✔\u001b[0m\n",
      "Shape: (2797866, 14)\n"
     ]
    }
   ],
   "source": [
    "sb_macro_test = PrepFactor(factor_name='factor_sb_macro_test', interval='D', kind='price', tickers=tickers, div=False, start=start, end=end, save=True).prep()"
   ]
  },
  {
   "cell_type": "code",
   "execution_count": 13,
   "id": "deba3b73",
   "metadata": {},
   "outputs": [
    {
     "name": "stdout",
     "output_type": "stream",
     "text": [
      "Creating factor_sb_bond_test ------------------------------- | \u001b[92m✔\u001b[0m\n",
      "Shape: (2797866, 22)\n"
     ]
    }
   ],
   "source": [
    "sb_bond_test = PrepFactor(factor_name='factor_sb_bond_test', interval='D', kind='price', tickers=tickers, div=False, start=start, end=end, save=True).prep()"
   ]
  },
  {
   "cell_type": "code",
   "execution_count": 6,
   "id": "a6a312cc",
   "metadata": {
    "scrolled": true
   },
   "outputs": [
    {
     "name": "stdout",
     "output_type": "stream",
     "text": [
      "Creating factor_sb_etf_test -------------------------------- | \u001b[92m✔\u001b[0m\n",
      "Shape: (2797866, 12)\n"
     ]
    }
   ],
   "source": [
    "sb_etf_test = PrepFactor(factor_name='factor_sb_etf_test', interval='D', kind='price', div=False, tickers=tickers, start=start, end=end, save=True).prep()"
   ]
  },
  {
   "cell_type": "code",
   "execution_count": 11,
   "id": "731083ba",
   "metadata": {},
   "outputs": [
    {
     "name": "stdout",
     "output_type": "stream",
     "text": [
      "Creating factor_sb_fama_test ------------------------------- | \u001b[92m✔\u001b[0m\n",
      "Shape: (2797866, 21)\n"
     ]
    }
   ],
   "source": [
    "sb_fama_test = PrepFactor(factor_name='factor_sb_fama_test', interval='D', kind='price', tickers=tickers, div=False, start=start, end=end, save=True).prep()"
   ]
  },
  {
   "cell_type": "code",
   "execution_count": 7,
   "id": "ee165cae",
   "metadata": {},
   "outputs": [
    {
     "name": "stdout",
     "output_type": "stream",
     "text": [
      "Creating factor_rf_ret_test -------------------------------- | \u001b[92m✔\u001b[0m\n",
      "Shape: (2797866, 16)\n"
     ]
    }
   ],
   "source": [
    "rf_ret_test = PrepFactor(factor_name='factor_rf_ret_test', interval='D', kind='price', div=False, tickers=tickers, start=start, end=end, save=True).prep()"
   ]
  },
  {
   "cell_type": "code",
   "execution_count": 19,
   "id": "80739c96",
   "metadata": {},
   "outputs": [
    {
     "name": "stdout",
     "output_type": "stream",
     "text": [
      "Creating factor_ret_condition -------------------------------|\\\u001b[92m✔\u001b[0m\n",
      "Shape: (2797866, 1)\n",
      "\b||"
     ]
    }
   ],
   "source": [
    "ret_condition = PrepFactor(factor_name='factor_ret_condition', interval='D', kind='price', tickers=tickers, div=False, start=start, end=end, save=True).prep()"
   ]
  },
  {
   "cell_type": "code",
   "execution_count": null,
   "id": "d1d99031",
   "metadata": {},
   "outputs": [],
   "source": [
    "sb_fund_ind = PrepFactor(factor_name='factor_sb_fund_ind', interval='D', kind='price', tickers=tickers, div=False, start=start, end=end, save=True).prep()"
   ]
  },
  {
   "cell_type": "code",
   "execution_count": 7,
   "id": "ab6e604f",
   "metadata": {},
   "outputs": [
    {
     "name": "stdout",
     "output_type": "stream",
     "text": [
      "Creating factor_sb_fund_raw -------------------------------- | \u001b[92m✔\u001b[0m\n",
      "Shape: (2797866, 34)\n"
     ]
    }
   ],
   "source": [
    "sb_fund_raw = PrepFactor(factor_name='factor_sb_fund_raw', interval='D', kind='price', tickers=tickers, div=False, start=start, end=end, save=False).prep()"
   ]
  },
  {
   "cell_type": "code",
   "execution_count": 2,
   "id": "2dc6d6a2",
   "metadata": {},
   "outputs": [
    {
     "name": "stdout",
     "output_type": "stream",
     "text": [
      "Creating factor_mf_ret ------------------------------------- | \u001b[92m✔\u001b[0m\n",
      "Shape: (2797866, 54)\n"
     ]
    }
   ],
   "source": [
    "mf_ret = PrepFactor(factor_name='factor_mf_ret', interval='D', kind='price', div=False, tickers=tickers, start=start, end=end, save=False).prep()"
   ]
  },
  {
   "cell_type": "code",
   "execution_count": 16,
   "id": "77e56d8e",
   "metadata": {},
   "outputs": [
    {
     "name": "stdout",
     "output_type": "stream",
     "text": [
      "Creating factor_fund_raw -----------------------------------| -\u001b[92m✔\u001b[0m\n",
      "Shape: (2797866, 16)\n"
     ]
    }
   ],
   "source": [
    "fund_raw = PrepFactor(factor_name='factor_fund_raw', interval='D', kind='fundamental', tickers=tickers, div=False, start=start, end=end, save=True).prep()"
   ]
  },
  {
   "cell_type": "code",
   "execution_count": 6,
   "id": "586b7fc3",
   "metadata": {},
   "outputs": [
    {
     "name": "stdout",
     "output_type": "stream",
     "text": [
      "Creating factor_fund_q ------------------------------------- | \u001b[92m✔\u001b[0m\n",
      "Shape: (2797866, 1)\n"
     ]
    }
   ],
   "source": [
    "fund_q = PrepFactor(factor_name='factor_fund_q', interval='D', kind='fundamental', tickers=tickers, div=False, start=start, end=end, save=True).prep()"
   ]
  },
  {
   "cell_type": "code",
   "execution_count": null,
   "id": "5ef05859",
   "metadata": {},
   "outputs": [],
   "source": []
  }
 ],
 "metadata": {
  "kernelspec": {
   "display_name": "quantPycharm",
   "language": "python",
   "name": "quantpycharm"
  },
  "language_info": {
   "codemirror_mode": {
    "name": "ipython",
    "version": 3
   },
   "file_extension": ".py",
   "mimetype": "text/x-python",
   "name": "python",
   "nbconvert_exporter": "python",
   "pygments_lexer": "ipython3",
   "version": "3.10.11"
  }
 },
 "nbformat": 4,
 "nbformat_minor": 5
}
