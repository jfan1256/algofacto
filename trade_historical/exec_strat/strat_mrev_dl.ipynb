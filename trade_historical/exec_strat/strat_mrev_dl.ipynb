{
 "cells": [
  {
   "cell_type": "code",
   "execution_count": null,
   "id": "63bde960-31c6-45c1-96f0-32b8f49929f7",
   "metadata": {},
   "outputs": [],
   "source": [
    "import os\n",
    "import yfinance as yf\n",
    "import quantstats as qs\n",
    "import scipy.cluster.hierarchy as sch\n",
    "import cvxopt as opt\n",
    "import matplotlib.pyplot as plt\n",
    "import shutil\n",
    "import base64\n",
    "import cvxpy as cp\n",
    "\n",
    "from fredapi import Fred\n",
    "from scipy.stats import spearmanr\n",
    "from io import BytesIO\n",
    "from datetime import timedelta\n",
    "from IPython.display import Image\n",
    "from tqdm import tqdm\n",
    "from sklearn.cluster import AgglomerativeClustering\n",
    "from scipy.spatial.distance import squareform\n",
    "from scipy.cluster.hierarchy import fcluster\n",
    "from scipy.cluster.hierarchy import dendrogram, linkage, cophenet\n",
    "from sklearn.metrics import adjusted_mutual_info_score\n",
    "from sklearn import cluster, covariance, manifold\n",
    "from cvxopt import blas, solvers\n",
    "from IPython.display import display\n",
    "from scipy.optimize import minimize\n",
    "from matplotlib.backends.backend_svg import FigureCanvasSVG\n",
    "\n",
    "from class_model.model_prep import ModelPrep\n",
    "from core.operation import *\n",
    "\n",
    "import warnings\n",
    "\n",
    "warnings.filterwarnings('ignore')"
   ]
  }
 ],
 "metadata": {
  "kernelspec": {
   "display_name": "algofacto",
   "language": "python",
   "name": "algofacto"
  },
  "language_info": {
   "codemirror_mode": {
    "name": "ipython",
    "version": 3
   },
   "file_extension": ".py",
   "mimetype": "text/x-python",
   "name": "python",
   "nbconvert_exporter": "python",
   "pygments_lexer": "ipython3",
   "version": "3.10.13"
  }
 },
 "nbformat": 4,
 "nbformat_minor": 5
}
