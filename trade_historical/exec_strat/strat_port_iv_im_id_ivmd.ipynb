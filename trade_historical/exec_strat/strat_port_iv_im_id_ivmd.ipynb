{
 "cells": [
  {
   "cell_type": "code",
   "execution_count": null,
   "id": "57fe1202-012d-42aa-ada9-dbdfde67138b",
   "metadata": {},
   "outputs": [],
   "source": [
    "import os\n",
    "import yfinance as yf\n",
    "import quantstats as qs\n",
    "import scipy.cluster.hierarchy as sch\n",
    "import cvxopt as opt\n",
    "import matplotlib.pyplot as plt\n",
    "import shutil\n",
    "import base64\n",
    "import cvxpy as cp\n",
    "\n",
    "from fredapi import Fred\n",
    "from scipy.stats import spearmanr\n",
    "from io import BytesIO\n",
    "from datetime import timedelta\n",
    "from IPython.display import Image\n",
    "from tqdm import tqdm\n",
    "from sklearn.cluster import AgglomerativeClustering\n",
    "from scipy.spatial.distance import squareform\n",
    "from scipy.cluster.hierarchy import fcluster\n",
    "from scipy.cluster.hierarchy import dendrogram, linkage, cophenet\n",
    "from sklearn.metrics import adjusted_mutual_info_score\n",
    "from sklearn import cluster, covariance, manifold\n",
    "from cvxopt import blas, solvers\n",
    "from IPython.display import display\n",
    "from scipy.optimize import minimize\n",
    "from matplotlib.backends.backend_svg import FigureCanvasSVG\n",
    "\n",
    "from class_model.model_prep import ModelPrep\n",
    "from core.operation import *\n",
    "\n",
    "import warnings\n",
    "\n",
    "warnings.filterwarnings('ignore')"
   ]
  },
  {
   "cell_type": "markdown",
   "id": "322551d0-691c-4292-abb9-3060007b8f6e",
   "metadata": {},
   "source": [
    "# Params"
   ]
  },
  {
   "cell_type": "code",
   "execution_count": null,
   "id": "041c9df1-1a6c-45b0-ba45-e6fc487b3ec9",
   "metadata": {},
   "outputs": [],
   "source": [
    "# Params\n",
    "live = True\n",
    "start = '2005-01-01'\n",
    "current_date = date.today().strftime('%Y-%m-%d')\n",
    "window = 60\n",
    "threshold = 2_000_000_000\n",
    "stock = read_stock(get_large(live) / 'permno_live.csv')"
   ]
  },
  {
   "cell_type": "code",
   "execution_count": null,
   "id": "58cbfd1d-39ef-4190-9912-e64d78e50107",
   "metadata": {},
   "outputs": [],
   "source": [
    "# Read in Data\n",
    "price = pd.read_parquet(get_parquet(live) / 'data_price.parquet.brotli')\n",
    "fund_q = pd.read_parquet(get_parquet(live) / 'data_fund_raw_q.parquet.brotli')\n",
    "rf = pd.read_parquet(get_parquet(live) / 'data_rf.parquet.brotli')\n",
    "ret_price = create_return(price, [1])\n",
    "\n",
    "# Resample to daily\n",
    "date_index = price.drop(price.columns, axis=1)\n",
    "fund_q = fund_q.groupby('permno').shift(3)\n",
    "fund_q = date_index.merge(fund_q, left_index=True, right_index=True, how='left').groupby('permno').ffill()"
   ]
  },
  {
   "cell_type": "markdown",
   "id": "dc3909a0-7ddb-446d-ae71-1425cdbc0dec",
   "metadata": {},
   "source": [
    "# Factors"
   ]
  },
  {
   "cell_type": "code",
   "execution_count": null,
   "id": "e5f07678-40a6-4219-9a0d-57894fc67464",
   "metadata": {
    "scrolled": true
   },
   "outputs": [],
   "source": [
    "accrual = ModelPrep(live=live, factor_name='factor_accrual', group='permno', interval='M', kind='fundamental', stock=stock, div=False, start=start, end=current_date, save=False).prep()\n",
    "accrual = accrual.groupby('permno').shift(3)\n",
    "comp_debt = ModelPrep(live=live, factor_name='factor_comp_debt', group='permno', interval='M', kind='fundamental', stock=stock, div=False, start=start, end=current_date, save=False).prep()\n",
    "comp_debt = comp_debt.groupby('permno').shift(3)\n",
    "inv_growth = ModelPrep(live=live, factor_name='factor_inv_growth', group='permno', interval='M', kind='fundamental', stock=stock, div=False, start=start, end=current_date, save=False).prep()\n",
    "inv_growth = inv_growth.groupby('permno').shift(3)\n",
    "pcttoacc = ModelPrep(live=live, factor_name='factor_pcttotacc', group='permno', interval='M', kind='fundamental', stock=stock, div=False, start=start, end=current_date, save=False).prep()\n",
    "pcttoacc = pcttoacc.groupby('permno').shift(3)\n",
    "asset_growth = ModelPrep(live=live, factor_name='factor_asset_growth', group='permno', interval='M', kind='fundamental', stock=stock, div=False, start=start, end=current_date, save=False).prep()\n",
    "asset_growth = asset_growth.groupby('permno').shift(3)\n",
    "chtax = ModelPrep(live=live, factor_name='factor_chtax', group='permno', interval='M', kind='fundamental', stock=stock, div=False, start=start, end=current_date, save=False).prep()\n",
    "chtax = chtax.groupby('permno').shift(3)\n",
    "net_debt_finance = ModelPrep(live=live, factor_name='factor_net_debt_finance', group='permno', interval='M', kind='fundamental', stock=stock, div=False, start=start, end=current_date, save=False).prep()\n",
    "net_debt_finance = net_debt_finance.groupby('permno').shift(3)\n",
    "noa = ModelPrep(live=live, factor_name='factor_noa', group='permno', interval='M', kind='fundamental', stock=stock, div=False, start=start, end=current_date, save=False).prep()\n",
    "noa = noa.groupby('permno').shift(3)\n",
    "invest_ppe = ModelPrep(live=live, factor_name='factor_invest_ppe_inv', group='permno', interval='M', kind='fundamental', stock=stock, div=False, start=start, end=current_date, save=False).prep()\n",
    "invest_ppe = invest_ppe.groupby('permno').shift(3)\n",
    "cheq = ModelPrep(live=live, factor_name='factor_cheq', group='permno', interval='M', kind='fundamental', stock=stock, div=False, start=start, end=current_date, save=False).prep()\n",
    "cheq = cheq.groupby('permno').shift(3)\n",
    "xfin = ModelPrep(live=live, factor_name='factor_xfin', group='permno', interval='M', kind='fundamental', stock=stock, div=False, start=start, end=current_date, save=False).prep()\n",
    "xfin = xfin.groupby('permno').shift(3)\n",
    "emmult = ModelPrep(live=live, factor_name='factor_emmult', group='permno', interval='M', kind='fundamental', stock=stock, div=False, start=start, end=current_date, save=False).prep()\n",
    "emmult = emmult.groupby('permno').shift(3)\n",
    "grcapx = ModelPrep(live=live, factor_name='factor_grcapx', group='permno', interval='M', kind='fundamental', stock=stock, div=False, start=start, end=current_date, save=False).prep()\n",
    "grcapx = grcapx.groupby('permno').shift(3)"
   ]
  },
  {
   "cell_type": "code",
   "execution_count": null,
   "id": "9d8b6c9c-6a10-4258-bf57-8fdbfc32fe1c",
   "metadata": {},
   "outputs": [],
   "source": [
    "int_mom = ModelPrep(live=live, factor_name='factor_int_mom', group='permno', interval='D', kind='mom', stock=stock, div=False, start=start, end=current_date, save=False).prep()\n",
    "mom_season = ModelPrep(live=live, factor_name='factor_mom_season', group='permno', interval='D', kind='mom', stock=stock, div=False, start=start, end=current_date, save=False).prep()\n",
    "ret_comp = ModelPrep(live=live, factor_name='factor_ret_comp', group='permno', interval='D', kind='price', stock=stock, div=False, start=start, end=current_date, save=False).prep()\n",
    "sb_sector = ModelPrep(live=live, factor_name='factor_sb_sector', group='permno', interval='D', kind='price', stock=stock, div=False, start=start, end=current_date, save=False).prep()"
   ]
  },
  {
   "cell_type": "code",
   "execution_count": null,
   "id": "5c0e804e-cb48-4686-b46c-f64f477762e6",
   "metadata": {},
   "outputs": [],
   "source": [
    "sb_pca = ModelPrep(live=live, factor_name='factor_sb_pca', group='permno', interval='D', kind='price', stock=stock, div=False, start=start, end=current_date, save=False).prep()"
   ]
  },
  {
   "cell_type": "code",
   "execution_count": null,
   "id": "482d3466-df07-4e63-bf1b-be79bd8b6f24",
   "metadata": {},
   "outputs": [],
   "source": [
    "sb_inverse = ModelPrep(live=live, factor_name='factor_sb_inverse', group='permno', interval='D', kind='price', stock=stock, div=False, start=start, end=current_date, save=False).prep()"
   ]
  },
  {
   "cell_type": "code",
   "execution_count": null,
   "id": "3d8dfe9d-00c6-4bd7-afc6-16ffb0a397b1",
   "metadata": {},
   "outputs": [],
   "source": [
    "mom_season_short = ModelPrep(live=live, factor_name='factor_mom_season_short', group='permno', interval='D', kind='mom', stock=stock, div=False, start=start, end=current_date, save=False).prep()\n",
    "mom_vol = ModelPrep(live=live, factor_name='factor_mom_vol', group='permno', interval='D', kind='mom', stock=stock, div=False, start=start, end=current_date, save=False).prep()\n",
    "mom_off_season = ModelPrep(live=live, factor_name='factor_mom_off_season', group='permno', interval='D', kind='mom', stock=stock, div=False, start=start, end=current_date, save=False).prep()\n",
    "mom_season6 = ModelPrep(live=live, factor_name='factor_mom_season6', group='permno', interval='D', kind='mom', stock=stock, div=False, start=start, end=current_date, save=False).prep()\n",
    "mom_season11 = ModelPrep(live=live, factor_name='factor_mom_season11', group='permno', interval='D', kind='mom', stock=stock, div=False, start=start, end=current_date, save=False).prep()"
   ]
  },
  {
   "cell_type": "code",
   "execution_count": null,
   "id": "bf820d12-bba1-4161-a562-009649026b7b",
   "metadata": {},
   "outputs": [],
   "source": [
    "load_ret = ModelPrep(live=live, factor_name='factor_load_ret', group='permno', interval='D', kind='loading', stock=stock, div=False, start=start, end=current_date, save=False).prep()\n",
    "load_volume = ModelPrep(live=live, factor_name='factor_load_volume', group='permno', interval='D', kind='loading', stock=stock, div=False, start=start, end=current_date, save=False).prep()"
   ]
  },
  {
   "cell_type": "code",
   "execution_count": null,
   "id": "1112637b-761b-4253-ad5e-8b23916223a4",
   "metadata": {},
   "outputs": [],
   "source": [
    "ind_mom = ModelPrep(live=live, factor_name='factor_ind_mom', group='permno', interval='D', kind='ind', stock=stock, div=False, start=start, end=current_date, save=False).prep()\n",
    "ind_mom_fama = ModelPrep(live=live, factor_name='factor_ind_mom_fama', group='permno', interval='D', kind='ind', stock=stock, div=False, start=start, end=current_date, save=False).prep()\n",
    "ind_mom_sub = ModelPrep(live=live, factor_name='factor_ind_mom_sub', group='permno', interval='D', kind='ind', stock=stock, div=False, start=start, end=current_date, save=False).prep()"
   ]
  },
  {
   "cell_type": "markdown",
   "id": "2228005b-9e35-4013-9727-5a0b7d018880",
   "metadata": {},
   "source": [
    "# Setting Up Data"
   ]
  },
  {
   "cell_type": "code",
   "execution_count": null,
   "id": "0227dd95-d0a7-4b18-935d-c9a8c5d5f800",
   "metadata": {},
   "outputs": [],
   "source": [
    "factor = (pd.merge(ret_price, sb_sector, left_index=True, right_index=True, how='left')\n",
    "          .merge(sb_pca, left_index=True, right_index=True, how='left')\n",
    "          .merge(accrual, left_index=True, right_index=True, how='left')\n",
    "          .merge(comp_debt, left_index=True, right_index=True, how='left')\n",
    "          .merge(ret_comp, left_index=True, right_index=True, how='left')\n",
    "          .merge(inv_growth, left_index=True, right_index=True, how='left')\n",
    "          .merge(pcttoacc, left_index=True, right_index=True, how='left')\n",
    "          .merge(int_mom, left_index=True, right_index=True, how='left')\n",
    "          .merge(mom_season, left_index=True, right_index=True, how='left')\n",
    "          .merge(asset_growth, left_index=True, right_index=True, how='left')\n",
    "          .merge(chtax, left_index=True, right_index=True, how='left')\n",
    "          .merge(net_debt_finance, left_index=True, right_index=True, how='left')\n",
    "          .merge(noa, left_index=True, right_index=True, how='left')\n",
    "          .merge(invest_ppe, left_index=True, right_index=True, how='left')\n",
    "          .merge(cheq, left_index=True, right_index=True, how='left')\n",
    "          .merge(xfin, left_index=True, right_index=True, how='left')\n",
    "          .merge(emmult, left_index=True, right_index=True, how='left')\n",
    "          .merge(grcapx, left_index=True, right_index=True, how='left')\n",
    "          .merge(mom_season_short, left_index=True, right_index=True, how='left')\n",
    "          .merge(mom_off_season, left_index=True, right_index=True, how='left')\n",
    "          .merge(mom_season6, left_index=True, right_index=True, how='left')\n",
    "          .merge(mom_season11, left_index=True, right_index=True, how='left')\n",
    "          .merge(load_ret, left_index=True, right_index=True, how='left')\n",
    "          .merge(load_volume, left_index=True, right_index=True, how='left')\n",
    "          .merge(ind_mom, left_index=True, right_index=True, how='left')\n",
    "          .merge(ind_mom_fama, left_index=True, right_index=True, how='left')\n",
    "          .merge(ind_mom_sub, left_index=True, right_index=True, how='left')\n",
    "          .merge(sb_inverse, left_index=True, right_index=True, how='left'))"
   ]
  },
  {
   "cell_type": "code",
   "execution_count": null,
   "id": "2b5cfbe9-4915-4877-98ff-262dd00b3a6c",
   "metadata": {},
   "outputs": [],
   "source": [
    "factor['accruals'] = factor.groupby('permno')['accruals'].ffill()\n",
    "factor['comp_debt_iss'] = factor.groupby('permno')['comp_debt_iss'].ffill()\n",
    "factor['inv_growth'] = factor.groupby('permno')['inv_growth'].ffill()\n",
    "factor['asset_growth'] = factor.groupby('permno')['asset_growth'].ffill()\n",
    "factor['chtax'] = factor.groupby('permno')['chtax'].ffill()\n",
    "factor['net_debt_fin'] = factor.groupby('permno')['net_debt_fin'].ffill()\n",
    "factor['noa'] = factor.groupby('permno')['noa'].ffill()\n",
    "factor['invest_ppe_inv'] = factor.groupby('permno')['invest_ppe_inv'].ffill()\n",
    "factor['cheq'] = factor.groupby('permno')['cheq'].ffill()\n",
    "factor['pct_tot_acc'] = factor.groupby('permno')['pct_tot_acc'].ffill()\n",
    "factor['xfin'] = factor.groupby('permno')['xfin'].ffill()\n",
    "factor['emmult'] = factor.groupby('permno')['emmult'].ffill()\n",
    "factor['grcapx'] = factor.groupby('permno')['grcapx'].ffill()\n",
    "factor['grcapx1y'] = factor.groupby('permno')['grcapx1y'].ffill()\n",
    "factor['grcapx3y'] = factor.groupby('permno')['grcapx3y'].ffill()"
   ]
  },
  {
   "cell_type": "code",
   "execution_count": null,
   "id": "c7547e4c-edc5-4732-84a7-76f5ce96ed36",
   "metadata": {},
   "outputs": [],
   "source": [
    "# Add market_cap\n",
    "market = pd.read_parquet(get_parquet(live) / 'data_misc.parquet.brotli', columns=['market_cap'])\n",
    "factor = factor.merge(market, left_index=True, right_index=True, how='left')"
   ]
  },
  {
   "cell_type": "markdown",
   "id": "e21fcbfe-0984-4c4a-8a03-3a0c065ba0b6",
   "metadata": {},
   "source": [
    "#### Basic Fundamentals"
   ]
  },
  {
   "cell_type": "code",
   "execution_count": null,
   "id": "e9f7f18e-7ab1-4956-b574-ce6c782530dc",
   "metadata": {},
   "outputs": [],
   "source": [
    "fund_q['current_ratio'] = fund_q['atq'] / fund_q['lctq']\n",
    "fund_q['cash_ratio'] = fund_q['cheq'] / fund_q['lctq']\n",
    "fund_q['debt_equity_ratio'] = fund_q['ltq'] / fund_q['ceqq']\n",
    "fund_q['return_on_assets'] = fund_q['niq'] / fund_q['atq']\n",
    "fund_q['return_on_equity'] = fund_q['niq'] / fund_q['ceqq']\n",
    "fund_q['gross_profit_margin'] = (fund_q['saleq'] - fund_q['cogsq']) / fund_q['saleq']\n",
    "fund_q['net_profit_margin'] = fund_q['niq'] / fund_q['saleq']\n",
    "fund_q['asset_turnover'] = fund_q['saleq'] / fund_q['atq']\n",
    "fund_q['inventory_turnover'] = fund_q['cogsq'] / fund_q['invtq']\n",
    "fund_q['payable_turnover'] = fund_q['cogsq'] / fund_q['apq']\n",
    "fund_q['book_to_market'] = fund_q['ceqq'] / (fund_q['prccq'] * fund_q['cshoq'])\n",
    "fund_q['price_to_earnings'] = fund_q['prccq'] / (fund_q['niq'] / fund_q['cshoq'])\n",
    "fund_q['ev_to_ebitda'] = (fund_q['ltq'] + fund_q['ceqq'] + (fund_q['prccq'] * fund_q['cshoq'])) / (fund_q['niq'] + fund_q['dpq'] + fund_q['xintq'])\n",
    "fund_q['debt_ratio'] = fund_q['ltq'] / fund_q['atq']\n",
    "fund_q['roic'] = fund_q['niq'] / (fund_q['ceqq'] + fund_q['ltq'])\n",
    "fund_q['financial_leverage'] = fund_q['atq'] / fund_q['ceqq']\n",
    "fund_q['net_margin'] = fund_q['niq'] / fund_q['revtq']\n",
    "fund_q['interest_coverage_ratio'] = fund_q['piq'] / fund_q['xintq']\n",
    "fund_q['days_of_inventory_on_hand'] = 365 / fund_q['inventory_turnover']\n",
    "fund_q['days_of_payables_outstanding'] = 365 / fund_q['payable_turnover']\n",
    "fund_q = fund_q.replace([np.inf, -np.inf], np.nan)\n",
    "fund_factor = fund_q[fund_q.columns[68:]]"
   ]
  },
  {
   "cell_type": "code",
   "execution_count": null,
   "id": "0297a1c4-f88e-43ac-ba07-9d5ebe054031",
   "metadata": {},
   "outputs": [],
   "source": [
    "factor = factor.merge(fund_factor, left_index=True, right_index=True, how='left')"
   ]
  },
  {
   "cell_type": "markdown",
   "id": "e2a6a9e9-8215-4e4e-b015-fb9410fcb026",
   "metadata": {},
   "source": [
    "# Factor Portfolios"
   ]
  },
  {
   "cell_type": "code",
   "execution_count": null,
   "id": "ea921c2d-1ef7-4769-a0d6-f5b7f85bc629",
   "metadata": {},
   "outputs": [],
   "source": [
    "# Function to select top and bottom stocks\n",
    "def select_long_short_stocks(group):\n",
    "    top_stocks = group.nlargest(25, 'adj_weight')\n",
    "    bottom_stocks = group.nsmallest(25, 'adj_weight')\n",
    "    top_stocks['final_weight'] = top_stocks['adj_weight'] * 1\n",
    "    bottom_stocks['final_weight'] = bottom_stocks['adj_weight'] * -1\n",
    "    # return pd.concat([top_stocks])\n",
    "    return pd.concat([top_stocks, bottom_stocks])\n",
    "\n",
    "# Create Factor-Based Portfolio\n",
    "def create_factor_port(data, factors, threshold):\n",
    "    df = data.copy(deep=True)\n",
    "    # Filtering by Market Capitalization\n",
    "    df = df[df['market_cap'] >= threshold]\n",
    "    # Create ranks for each factor\n",
    "    print(\"-\"*60)\n",
    "    print(\"Creating Factor Ranks...\")\n",
    "    for factor_name in factors:\n",
    "        print(f'Factor: {factor_name}')\n",
    "        df[f'{factor_name}_Rank'] = df.groupby('date')[factor_name].rank(ascending=False)\n",
    "    # Calculating average rank\n",
    "    df['avg_rank'] = df[[f'{f}_Rank' for f in factors]].mean(axis=1)\n",
    "    # Calculating rank weights\n",
    "    df['rank_weight'] = (1 / len(factors)) * df['avg_rank']\n",
    "    # Calculating inverse volatility\n",
    "    # df['vol'] = df.groupby('permno')['RET_01'].transform(lambda x: x.expanding().std())\n",
    "    df['vol'] = df.groupby('permno')['RET_01'].transform(lambda x: x.rolling(5).std().shift(1))\n",
    "    df['inv_vol_weight'] = 1 / df['vol']\n",
    "    # Find adjusted weight that accounts for rank and inverse volatility\n",
    "    df['adj_weight'] = df['rank_weight'] * df['inv_vol_weight']\n",
    "    # Selecting Top and Bottom Stocks\n",
    "    print(\"-\"*60)\n",
    "    print(\"Creating Long/Short portfolio...\")\n",
    "    top_bottom_stocks = df.groupby('date').apply(select_long_short_stocks).reset_index(level=0, drop=True)\n",
    "    # Normalizing Weights\n",
    "    top_bottom_stocks['final_weight'] /= top_bottom_stocks.groupby('date')['final_weight'].transform(lambda x: x.abs().sum())\n",
    "    # Shift returns\n",
    "    top_bottom_stocks['RET_01'] = top_bottom_stocks.groupby('permno')['RET_01'].shift(-1)\n",
    "    top_bottom_stocks['total_ret'] = top_bottom_stocks['RET_01'] * top_bottom_stocks['final_weight']\n",
    "    total_ret = top_bottom_stocks.groupby('date').total_ret.sum()\n",
    "    qs.reports.full(total_ret, 'SPY')\n",
    "    return total_ret\n",
    "\n",
    "# Create Factor-Based Portfolio\n",
    "def create_factor_port_month(data, factors, threshold):\n",
    "    price = pd.read_parquet(get_parquet(True) / 'data_price.parquet.brotli', columns=['Close'])\n",
    "    price = price.reset_index(level=0).groupby('permno').resample('M').last().drop('permno', axis=1)\n",
    "    price = create_return(price, [1])\n",
    "    df = data.copy(deep=True)\n",
    "    df = df.reset_index(level=0).groupby('permno').resample('M').mean().drop('permno', axis=1)\n",
    "    df['RET_01'] = price['RET_01']\n",
    "    df['shift_ret'] = df.groupby('permno')['RET_01'].shift(-1)\n",
    "    # Filtering by Market Capitalization\n",
    "    df = df[df['market_cap'] >= threshold]\n",
    "    # Create ranks for each factor\n",
    "    print(\"-\"*60)\n",
    "    print(\"Creating Factor Ranks...\")\n",
    "    for factor_name in factors:\n",
    "        print(f'Factor: {factor_name}')\n",
    "        df[f'{factor_name}_Rank'] = df.groupby('date')[factor_name].rank(ascending=False)\n",
    "    # Calculating average rank\n",
    "    df['avg_rank'] = df[[f'{f}_Rank' for f in factors]].mean(axis=1)\n",
    "    # Calculating rank weights\n",
    "    df['rank_weight'] = (1 / len(factors)) * df['avg_rank']\n",
    "    # Calculating inverse volatility\n",
    "    df['vol'] = df.groupby('permno')['RET_01'].transform(lambda x: x.rolling(12).std())\n",
    "    df['inv_vol_weight'] = 1 / df['vol']\n",
    "    # Find adjusted weight that accounts for rank and inverse volatility\n",
    "    df['adj_weight'] = df['rank_weight'] * df['inv_vol_weight']\n",
    "    # Selecting Top and Bottom Stocks\n",
    "    print(\"-\"*60)\n",
    "    print(\"Creating Long/Short portfolio...\")\n",
    "    top_bottom_stocks = df.groupby('date').apply(select_long_short_stocks).reset_index(level=0, drop=True)\n",
    "    # Normalizing Weights\n",
    "    top_bottom_stocks['final_weight'] /= top_bottom_stocks.groupby('date')['final_weight'].transform(lambda x: x.abs().sum())\n",
    "    top_bottom_stocks['total_ret'] = top_bottom_stocks['shift_ret'] * top_bottom_stocks['final_weight']\n",
    "    total_ret = top_bottom_stocks.groupby('date').total_ret.sum()\n",
    "    qs.reports.full(total_ret, 'SPY')\n",
    "    return total_ret"
   ]
  },
  {
   "cell_type": "code",
   "execution_count": null,
   "id": "1969d549-6a24-4c64-bcfa-7f5df6d46e97",
   "metadata": {},
   "outputs": [],
   "source": [
    "factor.columns[50:]"
   ]
  },
  {
   "cell_type": "markdown",
   "id": "33da7373-62c2-460e-bc31-886f2dab986a",
   "metadata": {},
   "source": [
    "# Fundamental"
   ]
  },
  {
   "cell_type": "code",
   "execution_count": null,
   "id": "b961b225-65b1-4813-b8b0-923949f8d01f",
   "metadata": {
    "scrolled": true
   },
   "outputs": [],
   "source": [
    "factors = [\n",
    "    \"accruals\",\n",
    "    \"inv_growth\",\n",
    "    \"comp_debt_iss\",\n",
    "    \"pct_tot_acc\",\n",
    "    'chtax', \n",
    "    'net_debt_fin', \n",
    "    'noa',\n",
    "    'invest_ppe_inv', \n",
    "    'cheq', \n",
    "    'xfin', \n",
    "    'emmult', \n",
    "    'grcapx',\n",
    "    'ev_to_ebitda'\n",
    "]\n",
    "\n",
    "total_ret = create_factor_port_month(factor, factors, threshold)"
   ]
  },
  {
   "cell_type": "code",
   "execution_count": null,
   "id": "c96aaf2b-5353-4a07-bc45-ad4b76950ddd",
   "metadata": {
    "scrolled": true
   },
   "outputs": [],
   "source": [
    "factors = [\n",
    "    \"accruals\",\n",
    "    \"inv_growth\",\n",
    "    \"comp_debt_iss\",\n",
    "    \"pct_tot_acc\",\n",
    "    'chtax', \n",
    "    'net_debt_fin', \n",
    "    'noa',\n",
    "    'invest_ppe_inv', \n",
    "    'cheq', \n",
    "    'xfin', \n",
    "    'emmult', \n",
    "    'grcapx',\n",
    "    'ev_to_ebitda'\n",
    "]\n",
    "\n",
    "total_ret = create_factor_port(factor, factors, threshold)"
   ]
  },
  {
   "cell_type": "markdown",
   "id": "8943e692-4cc0-4887-a5a2-7d45e2e75a29",
   "metadata": {},
   "source": [
    "# Momentum"
   ]
  },
  {
   "cell_type": "code",
   "execution_count": null,
   "id": "d38a8b85-fdc5-46fd-8853-f66484bea25a",
   "metadata": {
    "scrolled": true
   },
   "outputs": [],
   "source": [
    "factors = [\n",
    "    \"mom_season\",\n",
    "    \"mom_season_short\",\n",
    "    \"mom_season_6\",\n",
    "]\n",
    "\n",
    "total_ret = create_factor_port(factor, factors, threshold)"
   ]
  },
  {
   "cell_type": "markdown",
   "id": "4636ce6a-701d-4fe2-97ea-9ee22fb6a1bc",
   "metadata": {},
   "source": [
    "# Defensive"
   ]
  },
  {
   "cell_type": "code",
   "execution_count": null,
   "id": "4296141b-e15a-48d9-8bab-3bec83e117ff",
   "metadata": {
    "scrolled": true
   },
   "outputs": [],
   "source": [
    "factors = [\n",
    "    \"XLB_RET_01_sector_01_126\",\n",
    "    \"XLE_RET_01_sector_01_126\",\n",
    "    \"XLF_RET_01_sector_01_126\",\n",
    "    \"XLI_RET_01_sector_01_126\",\n",
    "    \"XLK_RET_01_sector_01_126\",\n",
    "    \"XLP_RET_01_sector_01_126\",\n",
    "    \"XLU_RET_01_sector_01_126\",\n",
    "    \"XLV_RET_01_sector_01_126\",\n",
    "    \"XLY_RET_01_sector_01_126\",\n",
    "]\n",
    "\n",
    "total_ret = create_factor_port(factor, factors, threshold)"
   ]
  },
  {
   "cell_type": "markdown",
   "id": "3883168d-934a-42d3-82bf-46c021849d23",
   "metadata": {},
   "source": [
    "# Combine"
   ]
  },
  {
   "cell_type": "code",
   "execution_count": null,
   "id": "acb4f39e-59f4-43a4-a1d0-a8c7013da964",
   "metadata": {
    "scrolled": true
   },
   "outputs": [],
   "source": [
    "factors = [\n",
    "    \"accruals\",\n",
    "    \"inv_growth\",\n",
    "    \"comp_debt_iss\",\n",
    "    \"pct_tot_acc\",\n",
    "    'chtax', \n",
    "    'net_debt_fin', \n",
    "    'noa',\n",
    "    'invest_ppe_inv', \n",
    "    'cheq', \n",
    "    'xfin', \n",
    "    'emmult', \n",
    "    'grcapx',\n",
    "    'ev_to_ebitda',\n",
    "    \"mom_season\",\n",
    "    \"mom_season_short\",\n",
    "    \"mom_season_6\",\n",
    "]\n",
    "\n",
    "total_ret = create_factor_port(factor, factors, threshold)"
   ]
  }
 ],
 "metadata": {
  "kernelspec": {
   "display_name": "algofacto",
   "language": "python",
   "name": "algofacto"
  },
  "language_info": {
   "codemirror_mode": {
    "name": "ipython",
    "version": 3
   },
   "file_extension": ".py",
   "mimetype": "text/x-python",
   "name": "python",
   "nbconvert_exporter": "python",
   "pygments_lexer": "ipython3",
   "version": "3.10.13"
  }
 },
 "nbformat": 4,
 "nbformat_minor": 5
}
