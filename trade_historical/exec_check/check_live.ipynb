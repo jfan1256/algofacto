{
 "cells": [
  {
   "cell_type": "code",
   "execution_count": 62,
   "id": "220a5d09-f76c-4807-a49b-b9a958caa78f",
   "metadata": {},
   "outputs": [],
   "source": [
    "import pandas as pd\n",
    "\n",
    "from core.operation import *"
   ]
  },
  {
   "cell_type": "code",
   "execution_count": 100,
   "id": "dc4f1da2-5fe3-4e80-8965-8f2ef3686943",
   "metadata": {},
   "outputs": [],
   "source": [
    "current_date = date.today().strftime('%Y-%m-%d')"
   ]
  },
  {
   "cell_type": "code",
   "execution_count": 101,
   "id": "22d04ba5-11ff-409a-bf7c-8dc025bbe41d",
   "metadata": {},
   "outputs": [],
   "source": [
    "# Get Stock Data\n",
    "ml_ret = pd.read_parquet(get_live_stock() / 'trade_stock_ml_ret.parquet.brotli')\n",
    "ml_trend = pd.read_parquet(get_live_stock() / 'trade_stock_ml_trend.parquet.brotli')\n",
    "port_iv = pd.read_parquet(get_live_stock() / 'trade_stock_port_iv.parquet.brotli')\n",
    "port_id = pd.read_parquet(get_live_stock() / 'trade_stock_port_id.parquet.brotli')\n",
    "port_ivm = pd.read_parquet(get_live_stock() / 'trade_stock_port_ivm.parquet.brotli')\n",
    "trend_mls = pd.read_parquet(get_live_stock() / 'trade_stock_trend_mls.parquet.brotli')\n",
    "mrev_etf = pd.read_parquet(get_live_stock() / 'trade_stock_mrev_etf.parquet.brotli')\n",
    "mrev_mkt = pd.read_parquet(get_live_stock() / 'trade_stock_mrev_mkt.parquet.brotli')\n",
    "\n",
    "# Load Live Price\n",
    "permno_data = pd.read_parquet(get_live_price() / 'data_permno_live.parquet.brotli')\n",
    "mrev_etf_hedge_data = pd.read_parquet(get_live_price() / 'data_mrev_etf_hedge_live.parquet.brotli')\n",
    "mrev_mkt_hedge_data = pd.read_parquet(get_live_price() / 'data_mrev_mkt_hedge_live.parquet.brotli')\n",
    "trend_mls_com_data = pd.read_parquet(get_live_price() / 'data_trend_mls_com_live.parquet.brotli')\n",
    "trend_mls_bond_data = pd.read_parquet(get_live_price() / 'data_trend_mls_bond_live.parquet.brotli')\n",
    "ml_trend_re_data = pd.read_parquet(get_live_price() / 'data_ml_trend_re_live.parquet.brotli')\n",
    "ml_trend_bond_data = pd.read_parquet(get_live_price() / 'data_ml_trend_bond_live.parquet.brotli')\n",
    "\n",
    "# Merge data by 'date', 'ticker', 'type'\n",
    "stock_data = pd.concat([ml_ret, ml_trend, port_iv, port_id, port_ivm, trend_mls, mrev_etf, mrev_mkt], axis=0)\n",
    "stock_data = stock_data.groupby(level=['date', 'ticker', 'type']).sum()\n",
    "stock_data = stock_data.loc[stock_data.index.get_level_values('date') == current_date]\n",
    "\n",
    "# Merge price data\n",
    "permno_data = permno_data.reset_index().set_index(['ticker', 'date'])\n",
    "price_data = pd.concat([permno_data, mrev_etf_hedge_data, mrev_mkt_hedge_data, trend_mls_bond_data, trend_mls_com_data, ml_trend_re_data, ml_trend_bond_data], axis=0)\n",
    "price_data = price_data.loc[~price_data.index.duplicated(keep='last')]"
   ]
  },
  {
   "cell_type": "code",
   "execution_count": 103,
   "id": "1e21ca46-3f14-49af-b714-da8baed95e84",
   "metadata": {},
   "outputs": [
    {
     "data": {
      "text/plain": [
       "weight    1.0\n",
       "dtype: float64"
      ]
     },
     "execution_count": 103,
     "metadata": {},
     "output_type": "execute_result"
    }
   ],
   "source": [
    "stock_data.sum()"
   ]
  },
  {
   "cell_type": "code",
   "execution_count": 52,
   "id": "559dd9b2-de8e-4293-ad74-41eaf3061546",
   "metadata": {},
   "outputs": [],
   "source": [
    "x = port_id.copy(deep=True)"
   ]
  },
  {
   "cell_type": "code",
   "execution_count": 61,
   "id": "74c7418c-ffad-4d63-b39d-08b279f9d902",
   "metadata": {},
   "outputs": [
    {
     "data": {
      "text/html": [
       "<div>\n",
       "<style scoped>\n",
       "    .dataframe tbody tr th:only-of-type {\n",
       "        vertical-align: middle;\n",
       "    }\n",
       "\n",
       "    .dataframe tbody tr th {\n",
       "        vertical-align: top;\n",
       "    }\n",
       "\n",
       "    .dataframe thead th {\n",
       "        text-align: right;\n",
       "    }\n",
       "</style>\n",
       "<table border=\"1\" class=\"dataframe\">\n",
       "  <thead>\n",
       "    <tr style=\"text-align: right;\">\n",
       "      <th></th>\n",
       "      <th></th>\n",
       "      <th>permno</th>\n",
       "      <th>Close</th>\n",
       "    </tr>\n",
       "    <tr>\n",
       "      <th>ticker</th>\n",
       "      <th>date</th>\n",
       "      <th></th>\n",
       "      <th></th>\n",
       "    </tr>\n",
       "  </thead>\n",
       "  <tbody>\n",
       "    <tr>\n",
       "      <th>HSTO</th>\n",
       "      <th>2024-02-13</th>\n",
       "      <td>14046.0</td>\n",
       "      <td>NaN</td>\n",
       "    </tr>\n",
       "    <tr>\n",
       "      <th>USO</th>\n",
       "      <th>2024-02-13</th>\n",
       "      <td>NaN</td>\n",
       "      <td>NaN</td>\n",
       "    </tr>\n",
       "  </tbody>\n",
       "</table>\n",
       "</div>"
      ],
      "text/plain": [
       "                    permno  Close\n",
       "ticker date                      \n",
       "HSTO   2024-02-13  14046.0    NaN\n",
       "USO    2024-02-13      NaN    NaN"
      ]
     },
     "execution_count": 61,
     "metadata": {},
     "output_type": "execute_result"
    }
   ],
   "source": [
    "price_data.loc[price_data['Close'].isnull()]"
   ]
  },
  {
   "cell_type": "code",
   "execution_count": 91,
   "id": "31bfbdf7-3ab1-481e-a4f9-ae4f4afa0074",
   "metadata": {},
   "outputs": [],
   "source": [
    "# Get Stock Data\n",
    "ml_ret = pd.read_parquet(get_live_stock() / 'trade_stock_ml_ret.parquet.brotli')\n",
    "ml_trend = pd.read_parquet(get_live_stock() / 'trade_stock_ml_trend.parquet.brotli')\n",
    "\n",
    "# Merge data by 'date', 'ticker', 'type'\n",
    "stock_data = pd.concat([ml_ret, ml_trend], axis=0)\n",
    "stock_data = stock_data.groupby(level=['date', 'ticker', 'type']).sum()\n",
    "stock_data = stock_data.loc[stock_data.index.get_level_values('date') == current_date]"
   ]
  },
  {
   "cell_type": "code",
   "execution_count": 92,
   "id": "4ebb7417-9f59-4c51-aad4-1b7e9eb9c147",
   "metadata": {},
   "outputs": [
    {
     "data": {
      "text/html": [
       "<div>\n",
       "<style scoped>\n",
       "    .dataframe tbody tr th:only-of-type {\n",
       "        vertical-align: middle;\n",
       "    }\n",
       "\n",
       "    .dataframe tbody tr th {\n",
       "        vertical-align: top;\n",
       "    }\n",
       "\n",
       "    .dataframe thead th {\n",
       "        text-align: right;\n",
       "    }\n",
       "</style>\n",
       "<table border=\"1\" class=\"dataframe\">\n",
       "  <thead>\n",
       "    <tr style=\"text-align: right;\">\n",
       "      <th></th>\n",
       "      <th></th>\n",
       "      <th></th>\n",
       "      <th>weight</th>\n",
       "    </tr>\n",
       "    <tr>\n",
       "      <th>date</th>\n",
       "      <th>ticker</th>\n",
       "      <th>type</th>\n",
       "      <th></th>\n",
       "    </tr>\n",
       "  </thead>\n",
       "  <tbody>\n",
       "    <tr>\n",
       "      <th rowspan=\"2\" valign=\"top\">2024-02-15</th>\n",
       "      <th rowspan=\"2\" valign=\"top\">SNAP</th>\n",
       "      <th>long</th>\n",
       "      <td>0.004</td>\n",
       "    </tr>\n",
       "    <tr>\n",
       "      <th>short</th>\n",
       "      <td>0.005</td>\n",
       "    </tr>\n",
       "  </tbody>\n",
       "</table>\n",
       "</div>"
      ],
      "text/plain": [
       "                         weight\n",
       "date       ticker type         \n",
       "2024-02-15 SNAP   long    0.004\n",
       "                  short   0.005"
      ]
     },
     "execution_count": 92,
     "metadata": {},
     "output_type": "execute_result"
    }
   ],
   "source": [
    "stock_data.loc[stock_data.index.get_level_values('ticker') == 'SNAP']"
   ]
  },
  {
   "cell_type": "code",
   "execution_count": 93,
   "id": "3f37fee3-edb7-47bb-92ed-458a86b35a42",
   "metadata": {},
   "outputs": [],
   "source": [
    "# Assuming 'df' is your DataFrame # Convert 'type' into positive and negative weights \n",
    "stock_data['signed_weight'] = np.where(stock_data.index.get_level_values('type') == 'long', stock_data['weight'], -stock_data['weight']) \n",
    "# Sum signed weights by ticker and date \n",
    "net_weights = stock_data.groupby(['date', 'ticker'])['signed_weight'].sum()\n",
    "# Determine the type based on the sign of the net weight \n",
    "net_weights = net_weights.reset_index() \n",
    "net_weights['type'] = np.where(net_weights['signed_weight'] > 0, 'long', 'short') \n",
    "# Assign absolute values to the weight column \n",
    "net_weights['weight'] = net_weights['signed_weight'].abs() \n",
    "del net_weights['signed_weight'] \n",
    "# Remove the signed_weight column as it's no longer needed \n",
    "# Re-create the MultiIndex with the correct 'type' \n",
    "stock_data = net_weights.set_index(['date', 'ticker', 'type'])"
   ]
  },
  {
   "cell_type": "code",
   "execution_count": 95,
   "id": "de9e7897-7d20-4959-bb66-b983eb007e3b",
   "metadata": {},
   "outputs": [
    {
     "data": {
      "text/html": [
       "<div>\n",
       "<style scoped>\n",
       "    .dataframe tbody tr th:only-of-type {\n",
       "        vertical-align: middle;\n",
       "    }\n",
       "\n",
       "    .dataframe tbody tr th {\n",
       "        vertical-align: top;\n",
       "    }\n",
       "\n",
       "    .dataframe thead th {\n",
       "        text-align: right;\n",
       "    }\n",
       "</style>\n",
       "<table border=\"1\" class=\"dataframe\">\n",
       "  <thead>\n",
       "    <tr style=\"text-align: right;\">\n",
       "      <th></th>\n",
       "      <th></th>\n",
       "      <th></th>\n",
       "      <th>weight</th>\n",
       "    </tr>\n",
       "    <tr>\n",
       "      <th>date</th>\n",
       "      <th>ticker</th>\n",
       "      <th>type</th>\n",
       "      <th></th>\n",
       "    </tr>\n",
       "  </thead>\n",
       "  <tbody>\n",
       "    <tr>\n",
       "      <th>2024-02-15</th>\n",
       "      <th>SNAP</th>\n",
       "      <th>short</th>\n",
       "      <td>0.001</td>\n",
       "    </tr>\n",
       "  </tbody>\n",
       "</table>\n",
       "</div>"
      ],
      "text/plain": [
       "                         weight\n",
       "date       ticker type         \n",
       "2024-02-15 SNAP   short   0.001"
      ]
     },
     "execution_count": 95,
     "metadata": {},
     "output_type": "execute_result"
    }
   ],
   "source": [
    "stock_data.loc[stock_data.index.get_level_values('ticker') == 'SNAP']"
   ]
  },
  {
   "cell_type": "code",
   "execution_count": null,
   "id": "7d6562d5-8bd2-4166-acb8-3953f2564d0a",
   "metadata": {},
   "outputs": [],
   "source": []
  }
 ],
 "metadata": {
  "kernelspec": {
   "display_name": "algofacto",
   "language": "python",
   "name": "algofacto"
  },
  "language_info": {
   "codemirror_mode": {
    "name": "ipython",
    "version": 3
   },
   "file_extension": ".py",
   "mimetype": "text/x-python",
   "name": "python",
   "nbconvert_exporter": "python",
   "pygments_lexer": "ipython3",
   "version": "3.10.13"
  }
 },
 "nbformat": 4,
 "nbformat_minor": 5
}
