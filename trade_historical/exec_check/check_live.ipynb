{
 "cells": [
  {
   "cell_type": "code",
   "execution_count": 3,
   "id": "220a5d09-f76c-4807-a49b-b9a958caa78f",
   "metadata": {},
   "outputs": [],
   "source": [
    "import pandas as pd\n",
    "\n",
    "from core.operation import *"
   ]
  },
  {
   "cell_type": "code",
   "execution_count": 5,
   "id": "dc4f1da2-5fe3-4e80-8965-8f2ef3686943",
   "metadata": {},
   "outputs": [],
   "source": [
    "current_date = date.today().strftime('%Y-%m-%d')"
   ]
  },
  {
   "cell_type": "code",
   "execution_count": 7,
   "id": "22d04ba5-11ff-409a-bf7c-8dc025bbe41d",
   "metadata": {},
   "outputs": [],
   "source": [
    "# Get Stock Data\n",
    "ml_ret = pd.read_parquet(get_live_stock() / 'trade_stock_ml_ret.parquet.brotli')\n",
    "ml_trend = pd.read_parquet(get_live_stock() / 'trade_stock_ml_trend.parquet.brotli')\n",
    "port_iv = pd.read_parquet(get_live_stock() / 'trade_stock_port_iv.parquet.brotli')\n",
    "port_im = pd.read_parquet(get_live_stock() / 'trade_stock_port_im.parquet.brotli')\n",
    "port_id = pd.read_parquet(get_live_stock() / 'trade_stock_port_id.parquet.brotli')\n",
    "port_ivm = pd.read_parquet(get_live_stock() / 'trade_stock_port_ivm.parquet.brotli')\n",
    "trend_mls = pd.read_parquet(get_live_stock() / 'trade_stock_trend_mls.parquet.brotli')\n",
    "mrev_etf = pd.read_parquet(get_live_stock() / 'trade_stock_mrev_etf.parquet.brotli')\n",
    "mrev_mkt = pd.read_parquet(get_live_stock() / 'trade_stock_mrev_mkt.parquet.brotli')\n",
    "\n",
    "# Load Live Price\n",
    "permno_data = pd.read_parquet(get_live_price() / 'data_permno_live.parquet.brotli')\n",
    "mrev_etf_hedge_data = pd.read_parquet(get_live_price() / 'data_mrev_etf_hedge_live.parquet.brotli')\n",
    "mrev_mkt_hedge_data = pd.read_parquet(get_live_price() / 'data_mrev_mkt_hedge_live.parquet.brotli')\n",
    "trend_mls_com_data = pd.read_parquet(get_live_price() / 'data_trend_mls_com_live.parquet.brotli')\n",
    "trend_mls_bond_data = pd.read_parquet(get_live_price() / 'data_trend_mls_bond_live.parquet.brotli')\n",
    "ml_trend_re_data = pd.read_parquet(get_live_price() / 'data_ml_trend_re_live.parquet.brotli')\n",
    "ml_trend_bond_data = pd.read_parquet(get_live_price() / 'data_ml_trend_bond_live.parquet.brotli')\n",
    "\n",
    "# Merge data by 'date', 'ticker', 'type'\n",
    "stock_data = pd.concat([ml_ret, ml_trend, port_iv, port_im, port_id, port_ivm, trend_mls, mrev_etf, mrev_mkt], axis=0)\n",
    "stock_data = stock_data.groupby(level=['date', 'ticker', 'type']).sum()\n",
    "stock_data = stock_data.loc[stock_data.index.get_level_values('date') == current_date]\n",
    "\n",
    "# Merge price data\n",
    "permno_data = permno_data.reset_index().set_index(['ticker', 'date'])\n",
    "price_data = pd.concat([permno_data, mrev_etf_hedge_data, mrev_mkt_hedge_data, trend_mls_bond_data, trend_mls_com_data, ml_trend_re_data, ml_trend_bond_data], axis=0)\n",
    "price_data = price_data.loc[~price_data.index.duplicated(keep='last')]"
   ]
  },
  {
   "cell_type": "code",
   "execution_count": 10,
   "id": "31bfbdf7-3ab1-481e-a4f9-ae4f4afa0074",
   "metadata": {},
   "outputs": [
    {
     "data": {
      "text/plain": [
       "True"
      ]
     },
     "execution_count": 10,
     "metadata": {},
     "output_type": "execute_result"
    }
   ],
   "source": [
    "'IYR' in stock_data.index.get_level_values('ticker')"
   ]
  },
  {
   "cell_type": "code",
   "execution_count": 11,
   "id": "3f37fee3-edb7-47bb-92ed-458a86b35a42",
   "metadata": {},
   "outputs": [
    {
     "data": {
      "text/html": [
       "<div>\n",
       "<style scoped>\n",
       "    .dataframe tbody tr th:only-of-type {\n",
       "        vertical-align: middle;\n",
       "    }\n",
       "\n",
       "    .dataframe tbody tr th {\n",
       "        vertical-align: top;\n",
       "    }\n",
       "\n",
       "    .dataframe thead th {\n",
       "        text-align: right;\n",
       "    }\n",
       "</style>\n",
       "<table border=\"1\" class=\"dataframe\">\n",
       "  <thead>\n",
       "    <tr style=\"text-align: right;\">\n",
       "      <th></th>\n",
       "      <th></th>\n",
       "      <th></th>\n",
       "      <th>weight</th>\n",
       "    </tr>\n",
       "    <tr>\n",
       "      <th>date</th>\n",
       "      <th>ticker</th>\n",
       "      <th>type</th>\n",
       "      <th></th>\n",
       "    </tr>\n",
       "  </thead>\n",
       "  <tbody>\n",
       "    <tr>\n",
       "      <th rowspan=\"11\" valign=\"top\">2024-02-09</th>\n",
       "      <th>A</th>\n",
       "      <th>long</th>\n",
       "      <td>0.001905</td>\n",
       "    </tr>\n",
       "    <tr>\n",
       "      <th>AA</th>\n",
       "      <th>short</th>\n",
       "      <td>0.000243</td>\n",
       "    </tr>\n",
       "    <tr>\n",
       "      <th>AAP</th>\n",
       "      <th>long</th>\n",
       "      <td>0.001905</td>\n",
       "    </tr>\n",
       "    <tr>\n",
       "      <th>ABBV</th>\n",
       "      <th>long</th>\n",
       "      <td>0.002670</td>\n",
       "    </tr>\n",
       "    <tr>\n",
       "      <th>ADSK</th>\n",
       "      <th>short</th>\n",
       "      <td>0.001905</td>\n",
       "    </tr>\n",
       "    <tr>\n",
       "      <th>...</th>\n",
       "      <th>...</th>\n",
       "      <td>...</td>\n",
       "    </tr>\n",
       "    <tr>\n",
       "      <th>XLV</th>\n",
       "      <th>short</th>\n",
       "      <td>0.002305</td>\n",
       "    </tr>\n",
       "    <tr>\n",
       "      <th>XLY</th>\n",
       "      <th>short</th>\n",
       "      <td>0.001651</td>\n",
       "    </tr>\n",
       "    <tr>\n",
       "      <th>XOP</th>\n",
       "      <th>long</th>\n",
       "      <td>0.003221</td>\n",
       "    </tr>\n",
       "    <tr>\n",
       "      <th>XYL</th>\n",
       "      <th>short</th>\n",
       "      <td>0.000205</td>\n",
       "    </tr>\n",
       "    <tr>\n",
       "      <th>ZTO</th>\n",
       "      <th>short</th>\n",
       "      <td>0.000244</td>\n",
       "    </tr>\n",
       "  </tbody>\n",
       "</table>\n",
       "<p>216 rows × 1 columns</p>\n",
       "</div>"
      ],
      "text/plain": [
       "                           weight\n",
       "date       ticker type           \n",
       "2024-02-09 A      long   0.001905\n",
       "           AA     short  0.000243\n",
       "           AAP    long   0.001905\n",
       "           ABBV   long   0.002670\n",
       "           ADSK   short  0.001905\n",
       "...                           ...\n",
       "           XLV    short  0.002305\n",
       "           XLY    short  0.001651\n",
       "           XOP    long   0.003221\n",
       "           XYL    short  0.000205\n",
       "           ZTO    short  0.000244\n",
       "\n",
       "[216 rows x 1 columns]"
      ]
     },
     "execution_count": 11,
     "metadata": {},
     "output_type": "execute_result"
    }
   ],
   "source": [
    "stock_data"
   ]
  },
  {
   "cell_type": "code",
   "execution_count": 13,
   "id": "7b165467-8da9-45a4-b4de-54559fee01b6",
   "metadata": {},
   "outputs": [
    {
     "data": {
      "text/plain": [
       "False"
      ]
     },
     "execution_count": 13,
     "metadata": {},
     "output_type": "execute_result"
    }
   ],
   "source": [
    "'IYR' in permno_data.index.get_level_values('ticker')"
   ]
  },
  {
   "cell_type": "code",
   "execution_count": null,
   "id": "de9e7897-7d20-4959-bb66-b983eb007e3b",
   "metadata": {},
   "outputs": [],
   "source": []
  }
 ],
 "metadata": {
  "kernelspec": {
   "display_name": "algofacto",
   "language": "python",
   "name": "algofacto"
  },
  "language_info": {
   "codemirror_mode": {
    "name": "ipython",
    "version": 3
   },
   "file_extension": ".py",
   "mimetype": "text/x-python",
   "name": "python",
   "nbconvert_exporter": "python",
   "pygments_lexer": "ipython3",
   "version": "3.10.13"
  }
 },
 "nbformat": 4,
 "nbformat_minor": 5
}
