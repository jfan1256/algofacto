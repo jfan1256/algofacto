{
 "cells": [
  {
   "cell_type": "markdown",
   "id": "5714bab1-498d-44a2-abca-17e07afc1e48",
   "metadata": {},
   "source": [
    "#### Import Package"
   ]
  },
  {
   "cell_type": "code",
   "execution_count": 1,
   "id": "b87b13b3-914f-48ab-b5e7-de63da516e34",
   "metadata": {},
   "outputs": [],
   "source": [
    "import talib\n",
    "import wrds\n",
    "\n",
    "from core.operation import *\n",
    "from class_model.model_prep import ModelPrep"
   ]
  },
  {
   "cell_type": "markdown",
   "id": "cc5693bf-23a0-4852-b56c-cdf1ebcfff32",
   "metadata": {},
   "source": [
    "#### Check permno"
   ]
  },
  {
   "cell_type": "code",
   "execution_count": null,
   "id": "218ecbc9-e3f6-4718-9886-a01008f9596d",
   "metadata": {},
   "outputs": [],
   "source": [
    "per_hist = read_stock(get_large(False) / 'permno_to_train_fund.csv')\n",
    "print(f\"Length of permno_to_train_fund: {len(per_hist)}\")\n",
    "\n",
    "per_live = read_stock(get_large(True) / 'permno_live.csv')\n",
    "print(f\"Length of permno_common: {len(per_live)}\")"
   ]
  },
  {
   "cell_type": "code",
   "execution_count": null,
   "id": "5fc45486-9af8-45ff-b861-c2c7613a4fcd",
   "metadata": {},
   "outputs": [],
   "source": [
    "print(f\"per_live equal to per_hist? {per_live == per_hist}\")"
   ]
  },
  {
   "cell_type": "code",
   "execution_count": null,
   "id": "82b24efc-1157-4f8a-a2cd-fa5e18a4d171",
   "metadata": {
    "scrolled": true
   },
   "outputs": [],
   "source": [
    "for permno in per_live:\n",
    "    if permno not in per_hist:\n",
    "        print(permno)"
   ]
  },
  {
   "cell_type": "markdown",
   "id": "1d8b1e21-510f-43ea-a70f-d5340f37dd5a",
   "metadata": {},
   "source": [
    "#### Check price"
   ]
  },
  {
   "cell_type": "code",
   "execution_count": null,
   "id": "7362118e-d8d7-4547-aedc-0b9ef7cf5b2f",
   "metadata": {},
   "outputs": [],
   "source": [
    "price_hist = pd.read_parquet(get_parquet(False) / 'data_price.parquet.brotli')\n",
    "price_hist_pre = get_stocks_data(price_hist, per_hist)\n",
    "price_hist_pre = set_timeframe(price_hist_pre, '2008-01-01', '2023-01-01')\n",
    "\n",
    "price_crsp = pd.read_parquet(get_parquet(True) / 'data_crsp_price.parquet.brotli')\n",
    "\n",
    "price_live = pd.read_parquet(get_parquet(True) / 'data_price.parquet.brotli')\n",
    "price_live_pre = set_timeframe(price_live, '2008-01-01', '2023-01-01')"
   ]
  },
  {
   "cell_type": "code",
   "execution_count": null,
   "id": "d1ffb79f-531c-479b-8859-e606a182569b",
   "metadata": {},
   "outputs": [],
   "source": [
    "print(f\"price_hist equal to price_crsp? {price_hist.equals(price_crsp)}\")\n",
    "print(f\"price_hist equal to price_crsp? {price_hist_pre.equals(price_live_pre)}\")"
   ]
  },
  {
   "cell_type": "markdown",
   "id": "43b58a31-adf7-4598-aeff-c16541f03d63",
   "metadata": {},
   "source": [
    "#### Check misc"
   ]
  },
  {
   "cell_type": "code",
   "execution_count": null,
   "id": "c12371e5-c789-40fd-94bb-bd1d87806bf6",
   "metadata": {},
   "outputs": [],
   "source": [
    "misc_live = pd.read_parquet(get_parquet(True) / 'data_misc.parquet.brotli')"
   ]
  },
  {
   "cell_type": "markdown",
   "id": "645ead92-7e08-4273-8b0c-76ff7d48edc1",
   "metadata": {},
   "source": [
    "#### Check ind"
   ]
  },
  {
   "cell_type": "code",
   "execution_count": 67,
   "id": "23d9dba1-459f-4af1-94aa-baa15ea4d65e",
   "metadata": {},
   "outputs": [
    {
     "data": {
      "text/html": [
       "<div>\n",
       "<style scoped>\n",
       "    .dataframe tbody tr th:only-of-type {\n",
       "        vertical-align: middle;\n",
       "    }\n",
       "\n",
       "    .dataframe tbody tr th {\n",
       "        vertical-align: top;\n",
       "    }\n",
       "\n",
       "    .dataframe thead th {\n",
       "        text-align: right;\n",
       "    }\n",
       "</style>\n",
       "<table border=\"1\" class=\"dataframe\">\n",
       "  <thead>\n",
       "    <tr style=\"text-align: right;\">\n",
       "      <th></th>\n",
       "      <th></th>\n",
       "      <th>ind_hist</th>\n",
       "      <th>ind_live</th>\n",
       "    </tr>\n",
       "    <tr>\n",
       "      <th>permno</th>\n",
       "      <th>date</th>\n",
       "      <th></th>\n",
       "      <th></th>\n",
       "    </tr>\n",
       "  </thead>\n",
       "  <tbody>\n",
       "    <tr>\n",
       "      <th rowspan=\"5\" valign=\"top\">12017</th>\n",
       "      <th>2010-07-27</th>\n",
       "      <td>451030.0</td>\n",
       "      <td>253020.0</td>\n",
       "    </tr>\n",
       "    <tr>\n",
       "      <th>2010-07-28</th>\n",
       "      <td>451030.0</td>\n",
       "      <td>253020.0</td>\n",
       "    </tr>\n",
       "    <tr>\n",
       "      <th>2010-07-29</th>\n",
       "      <td>451030.0</td>\n",
       "      <td>253020.0</td>\n",
       "    </tr>\n",
       "    <tr>\n",
       "      <th>2010-07-30</th>\n",
       "      <td>451030.0</td>\n",
       "      <td>253020.0</td>\n",
       "    </tr>\n",
       "    <tr>\n",
       "      <th>2010-08-02</th>\n",
       "      <td>451030.0</td>\n",
       "      <td>253020.0</td>\n",
       "    </tr>\n",
       "    <tr>\n",
       "      <th>...</th>\n",
       "      <th>...</th>\n",
       "      <td>...</td>\n",
       "      <td>...</td>\n",
       "    </tr>\n",
       "    <tr>\n",
       "      <th rowspan=\"5\" valign=\"top\">92665</th>\n",
       "      <th>2020-10-30</th>\n",
       "      <td>352010.0</td>\n",
       "      <td>352020.0</td>\n",
       "    </tr>\n",
       "    <tr>\n",
       "      <th>2020-11-02</th>\n",
       "      <td>352010.0</td>\n",
       "      <td>352020.0</td>\n",
       "    </tr>\n",
       "    <tr>\n",
       "      <th>2020-11-03</th>\n",
       "      <td>352010.0</td>\n",
       "      <td>352020.0</td>\n",
       "    </tr>\n",
       "    <tr>\n",
       "      <th>2020-11-04</th>\n",
       "      <td>352010.0</td>\n",
       "      <td>352020.0</td>\n",
       "    </tr>\n",
       "    <tr>\n",
       "      <th>2020-11-05</th>\n",
       "      <td>352010.0</td>\n",
       "      <td>352020.0</td>\n",
       "    </tr>\n",
       "  </tbody>\n",
       "</table>\n",
       "<p>91377 rows × 2 columns</p>\n",
       "</div>"
      ],
      "text/plain": [
       "                   ind_hist  ind_live\n",
       "permno date                          \n",
       "12017  2010-07-27  451030.0  253020.0\n",
       "       2010-07-28  451030.0  253020.0\n",
       "       2010-07-29  451030.0  253020.0\n",
       "       2010-07-30  451030.0  253020.0\n",
       "       2010-08-02  451030.0  253020.0\n",
       "...                     ...       ...\n",
       "92665  2020-10-30  352010.0  352020.0\n",
       "       2020-11-02  352010.0  352020.0\n",
       "       2020-11-03  352010.0  352020.0\n",
       "       2020-11-04  352010.0  352020.0\n",
       "       2020-11-05  352010.0  352020.0\n",
       "\n",
       "[91377 rows x 2 columns]"
      ]
     },
     "execution_count": 67,
     "metadata": {},
     "output_type": "execute_result"
    }
   ],
   "source": [
    "ind_hist = pd.read_parquet(get_parquet(False) / 'data_ind.parquet.brotli')\n",
    "ind_live = pd.read_parquet(get_parquet(True) / 'data_ind.parquet.brotli')\n",
    "ind_hist.columns = ['ind_hist']\n",
    "ind_live.columns = ['ind_live']\n",
    "ind_comb = ind_hist.join(ind_live)\n",
    "ind_comb.loc[ind_comb.ind_hist != ind_comb.ind_live]"
   ]
  },
  {
   "cell_type": "code",
   "execution_count": 65,
   "id": "ad028857-ddc3-420f-8366-f4ee051318e5",
   "metadata": {},
   "outputs": [
    {
     "name": "stdout",
     "output_type": "stream",
     "text": [
      "[12017, 13889, 14686, 14704, 14811, 15177, 15436, 16656, 18148, 24643, 45356, 63546, 76963, 77437, 79678, 82530, 85592, 85909, 86165, 89003, 90640, 91575, 92032, 92252, 92665]\n",
      "[]\n"
     ]
    }
   ],
   "source": [
    "unique_ind_hist_counts = ind_comb.groupby(level='permno')['ind_hist'].nunique()\n",
    "permnos_with_multiple_ind_hist = unique_ind_hist_counts[unique_ind_hist_counts > 1].index.tolist()\n",
    "print(permnos_with_multiple_ind_hist)\n",
    "unique_ind_live_counts = ind_comb.groupby(level='permno')['ind_live'].nunique()\n",
    "permnos_with_multiple_ind_live = unique_ind_live_counts[unique_ind_live_counts > 1].index.tolist()\n",
    "print(permnos_with_multiple_ind_live)"
   ]
  },
  {
   "cell_type": "code",
   "execution_count": 68,
   "id": "bb0a65aa-b659-4f74-a2e0-6c2bcd57da9b",
   "metadata": {},
   "outputs": [
    {
     "data": {
      "text/html": [
       "<div>\n",
       "<style scoped>\n",
       "    .dataframe tbody tr th:only-of-type {\n",
       "        vertical-align: middle;\n",
       "    }\n",
       "\n",
       "    .dataframe tbody tr th {\n",
       "        vertical-align: top;\n",
       "    }\n",
       "\n",
       "    .dataframe thead th {\n",
       "        text-align: right;\n",
       "    }\n",
       "</style>\n",
       "<table border=\"1\" class=\"dataframe\">\n",
       "  <thead>\n",
       "    <tr style=\"text-align: right;\">\n",
       "      <th></th>\n",
       "      <th></th>\n",
       "      <th>ind_hist</th>\n",
       "      <th>ind_live</th>\n",
       "    </tr>\n",
       "    <tr>\n",
       "      <th>permno</th>\n",
       "      <th>date</th>\n",
       "      <th></th>\n",
       "      <th></th>\n",
       "    </tr>\n",
       "  </thead>\n",
       "  <tbody>\n",
       "    <tr>\n",
       "      <th rowspan=\"5\" valign=\"top\">10145</th>\n",
       "      <th>2012-01-31</th>\n",
       "      <td>3</td>\n",
       "      <td>4</td>\n",
       "    </tr>\n",
       "    <tr>\n",
       "      <th>2012-02-01</th>\n",
       "      <td>3</td>\n",
       "      <td>4</td>\n",
       "    </tr>\n",
       "    <tr>\n",
       "      <th>2012-02-02</th>\n",
       "      <td>3</td>\n",
       "      <td>4</td>\n",
       "    </tr>\n",
       "    <tr>\n",
       "      <th>2012-02-03</th>\n",
       "      <td>3</td>\n",
       "      <td>4</td>\n",
       "    </tr>\n",
       "    <tr>\n",
       "      <th>2012-02-06</th>\n",
       "      <td>3</td>\n",
       "      <td>4</td>\n",
       "    </tr>\n",
       "    <tr>\n",
       "      <th>...</th>\n",
       "      <th>...</th>\n",
       "      <td>...</td>\n",
       "      <td>...</td>\n",
       "    </tr>\n",
       "    <tr>\n",
       "      <th rowspan=\"5\" valign=\"top\">93436</th>\n",
       "      <th>2022-12-23</th>\n",
       "      <td>4</td>\n",
       "      <td>23</td>\n",
       "    </tr>\n",
       "    <tr>\n",
       "      <th>2022-12-27</th>\n",
       "      <td>4</td>\n",
       "      <td>23</td>\n",
       "    </tr>\n",
       "    <tr>\n",
       "      <th>2022-12-28</th>\n",
       "      <td>4</td>\n",
       "      <td>23</td>\n",
       "    </tr>\n",
       "    <tr>\n",
       "      <th>2022-12-29</th>\n",
       "      <td>4</td>\n",
       "      <td>23</td>\n",
       "    </tr>\n",
       "    <tr>\n",
       "      <th>2022-12-30</th>\n",
       "      <td>4</td>\n",
       "      <td>23</td>\n",
       "    </tr>\n",
       "  </tbody>\n",
       "</table>\n",
       "<p>1682524 rows × 2 columns</p>\n",
       "</div>"
      ],
      "text/plain": [
       "                   ind_hist  ind_live\n",
       "permno date                          \n",
       "10145  2012-01-31         3         4\n",
       "       2012-02-01         3         4\n",
       "       2012-02-02         3         4\n",
       "       2012-02-03         3         4\n",
       "       2012-02-06         3         4\n",
       "...                     ...       ...\n",
       "93436  2022-12-23         4        23\n",
       "       2022-12-27         4        23\n",
       "       2022-12-28         4        23\n",
       "       2022-12-29         4        23\n",
       "       2022-12-30         4        23\n",
       "\n",
       "[1682524 rows x 2 columns]"
      ]
     },
     "execution_count": 68,
     "metadata": {},
     "output_type": "execute_result"
    }
   ],
   "source": [
    "ind_fama_hist = pd.read_parquet(get_parquet(False) / 'data_ind_fama.parquet.brotli')\n",
    "ind_fama_live = pd.read_parquet(get_parquet(True) / 'data_ind_fama.parquet.brotli')\n",
    "ind_fama_hist.columns = ['ind_hist']\n",
    "ind_fama_live.columns = ['ind_live']\n",
    "ind_fama_comb = ind_fama_hist.join(ind_fama_live)\n",
    "ind_fama_comb.loc[ind_fama_comb.ind_hist != ind_fama_comb.ind_live]"
   ]
  },
  {
   "cell_type": "markdown",
   "id": "1a3959d5-23d2-4f5e-baea-fe47b55a615c",
   "metadata": {},
   "source": [
    "#### Check prep"
   ]
  },
  {
   "cell_type": "code",
   "execution_count": 16,
   "id": "52bcba13-ac9d-4e36-bed5-8a3da5935de0",
   "metadata": {},
   "outputs": [
    {
     "name": "stdout",
     "output_type": "stream",
     "text": [
      "Length of permno_to_train_fund: 1054\n",
      "Length of permno_common: 1054\n"
     ]
    }
   ],
   "source": [
    "per_hist = read_stock(get_large(False) / 'permno_to_train_fund.csv')\n",
    "print(f\"Length of permno_to_train_fund: {len(per_hist)}\")\n",
    "\n",
    "per_live = read_stock(get_large(True) / 'permno_live.csv')\n",
    "print(f\"Length of permno_common: {len(per_live)}\")"
   ]
  },
  {
   "cell_type": "code",
   "execution_count": 78,
   "id": "8118f21b-2d0c-47bd-bf29-0f4dc74feab3",
   "metadata": {},
   "outputs": [],
   "source": [
    "start_model = '2008-01-01'\n",
    "current_date = '2023-01-01'\n",
    "factor_name = 'factor_talib'"
   ]
  },
  {
   "cell_type": "code",
   "execution_count": 79,
   "id": "e10f9cf4-0b54-494b-af14-6a46a3e38bfd",
   "metadata": {},
   "outputs": [
    {
     "name": "stdout",
     "output_type": "stream",
     "text": [
      "Creating factor_talib -------------------------------------- | \u001b[92m✔\u001b[0m\n",
      "Shape: (3114791, 20)\n",
      "Creating factor_talib -------------------------------------- | \u001b[92m✔\u001b[0m\n",
      "Shape: (3114791, 20)\n"
     ]
    }
   ],
   "source": [
    "factor_hist = ModelPrep(live=False, factor_name=factor_name, group='permno', interval='D', kind='price', stock=per_hist, div=False, start=start_model, end=current_date, save=False).prep()\n",
    "factor_live = ModelPrep(live=True, factor_name=factor_name, group='permno', interval='D', kind='price', stock=per_live, div=False, start=start_model, end=current_date, save=False).prep()"
   ]
  },
  {
   "cell_type": "code",
   "execution_count": 80,
   "id": "e9ab67b7-4eeb-4537-9fb7-5532a86a33bf",
   "metadata": {},
   "outputs": [
    {
     "data": {
      "text/plain": [
       "True"
      ]
     },
     "execution_count": 80,
     "metadata": {},
     "output_type": "execute_result"
    }
   ],
   "source": [
    "factor_hist.equals(factor_live)"
   ]
  },
  {
   "cell_type": "markdown",
   "id": "c18ed906-d519-4f15-b251-e8faa741258c",
   "metadata": {},
   "source": [
    "#### Check talib"
   ]
  },
  {
   "cell_type": "code",
   "execution_count": 49,
   "id": "eb4a88a3-a334-4f66-8c23-ff5ee28901cc",
   "metadata": {},
   "outputs": [
    {
     "name": "stdout",
     "output_type": "stream",
     "text": [
      "price_hist_pre equals price_live_pre? True\n",
      "price_live_test equals price_hist_pre? True\n"
     ]
    }
   ],
   "source": [
    "price_hist = pd.read_parquet(get_parquet(False) / 'data_price.parquet.brotli')\n",
    "price_hist_pre = get_stocks_data(price_hist, per_hist)\n",
    "price_hist_pre = set_timeframe(price_hist_pre, '2008-01-01', '2023-01-01')\n",
    "\n",
    "price_crsp = pd.read_parquet(get_parquet(True) / 'data_crsp_price.parquet.brotli')\n",
    "\n",
    "price_live = pd.read_parquet(get_parquet(True) / 'data_price.parquet.brotli')\n",
    "price_live = set_timeframe(price_live, '2008-01-01', '2025-01-01')\n",
    "price_live_pre = set_timeframe(price_live, '2008-01-01', '2023-01-01')\n",
    "\n",
    "price_hist_pre['ad'] = (price_hist_pre.groupby('permno', group_keys=False).apply(lambda x: talib.AD(x.High, x.Low, x.Close, x.Volume) / x.expanding().Volume.mean()))\n",
    "price_live_pre['ad'] = (price_live_pre.groupby('permno', group_keys=False).apply(lambda x: talib.AD(x.High, x.Low, x.Close, x.Volume) / x.expanding().Volume.mean()))\n",
    "price_live['ad'] = (price_live.groupby('permno', group_keys=False).apply(lambda x: talib.AD(x.High, x.Low, x.Close, x.Volume) / x.expanding().Volume.mean()))\n",
    "price_live_test = set_timeframe(price_live, '2008-01-01', '2023-01-01')\n",
    "\n",
    "print(f\"price_hist_pre equals price_live_pre? {price_hist_pre.equals(price_live_pre)}\")\n",
    "print(f\"price_live_test equals price_hist_pre? {price_live_test.equals(price_hist_pre)}\")"
   ]
  },
  {
   "cell_type": "markdown",
   "id": "d51c59c3-0306-47e8-bd3d-5efc729c2740",
   "metadata": {},
   "source": [
    "#### Check WRDS"
   ]
  },
  {
   "cell_type": "code",
   "execution_count": 72,
   "id": "b5c31627-aa49-4e0c-9ae6-6af6360369a6",
   "metadata": {},
   "outputs": [
    {
     "name": "stdout",
     "output_type": "stream",
     "text": [
      "Loading library list...\n",
      "Done\n"
     ]
    }
   ],
   "source": [
    "with open(get_config() / 'api_key.json') as f:\n",
    "    config = json.load(f)\n",
    "    wrd_key = config['wrd_key']\n",
    "    fred_key = config['fred_key']\n",
    "\n",
    "db = wrds.Connection(wrds_username=wrd_key)"
   ]
  },
  {
   "cell_type": "code",
   "execution_count": 73,
   "id": "e2a4c22b-3a40-485d-8c21-41dafdddbd41",
   "metadata": {},
   "outputs": [
    {
     "ename": "NotSubscribedError",
     "evalue": "You do not have permission to access the crspa library",
     "output_type": "error",
     "traceback": [
      "\u001b[1;31m---------------------------------------------------------------------------\u001b[0m",
      "\u001b[1;31mNotSubscribedError\u001b[0m                        Traceback (most recent call last)",
      "Cell \u001b[1;32mIn[73], line 1\u001b[0m\n\u001b[1;32m----> 1\u001b[0m \u001b[43mdb\u001b[49m\u001b[38;5;241;43m.\u001b[39;49m\u001b[43mlist_tables\u001b[49m\u001b[43m(\u001b[49m\u001b[43mlibrary\u001b[49m\u001b[38;5;241;43m=\u001b[39;49m\u001b[38;5;124;43m'\u001b[39;49m\u001b[38;5;124;43mcrspa\u001b[39;49m\u001b[38;5;124;43m'\u001b[39;49m\u001b[43m)\u001b[49m\n",
      "File \u001b[1;32m~\\AppData\\Roaming\\Python\\Python310\\site-packages\\wrds\\sql.py:398\u001b[0m, in \u001b[0;36mConnection.list_tables\u001b[1;34m(self, library)\u001b[0m\n\u001b[0;32m    386\u001b[0m \u001b[38;5;28;01mdef\u001b[39;00m \u001b[38;5;21mlist_tables\u001b[39m(\u001b[38;5;28mself\u001b[39m, library):\n\u001b[0;32m    387\u001b[0m \u001b[38;5;250m    \u001b[39m\u001b[38;5;124;03m\"\"\"\u001b[39;00m\n\u001b[0;32m    388\u001b[0m \u001b[38;5;124;03m    Returns a list of all the views/tables/foreign tables within a schema.\u001b[39;00m\n\u001b[0;32m    389\u001b[0m \n\u001b[1;32m   (...)\u001b[0m\n\u001b[0;32m    396\u001b[0m \u001b[38;5;124;03m    ['wciklink_gvkey', 'dforms', 'wciklink_cusip', 'wrds_forms', ...]\u001b[39;00m\n\u001b[0;32m    397\u001b[0m \u001b[38;5;124;03m    \"\"\"\u001b[39;00m\n\u001b[1;32m--> 398\u001b[0m     \u001b[38;5;28;01mif\u001b[39;00m \u001b[38;5;28;43mself\u001b[39;49m\u001b[38;5;241;43m.\u001b[39;49m\u001b[43m__check_schema_perms\u001b[49m\u001b[43m(\u001b[49m\u001b[43mlibrary\u001b[49m\u001b[43m)\u001b[49m:\n\u001b[0;32m    399\u001b[0m         output \u001b[38;5;241m=\u001b[39m (\n\u001b[0;32m    400\u001b[0m             \u001b[38;5;28mself\u001b[39m\u001b[38;5;241m.\u001b[39minsp\u001b[38;5;241m.\u001b[39mget_view_names(schema\u001b[38;5;241m=\u001b[39mlibrary)\n\u001b[0;32m    401\u001b[0m             \u001b[38;5;241m+\u001b[39m \u001b[38;5;28mself\u001b[39m\u001b[38;5;241m.\u001b[39minsp\u001b[38;5;241m.\u001b[39mget_table_names(schema\u001b[38;5;241m=\u001b[39mlibrary)\n\u001b[0;32m    402\u001b[0m             \u001b[38;5;241m+\u001b[39m \u001b[38;5;28mself\u001b[39m\u001b[38;5;241m.\u001b[39minsp\u001b[38;5;241m.\u001b[39mget_foreign_table_names(schema\u001b[38;5;241m=\u001b[39mlibrary)\n\u001b[0;32m    403\u001b[0m         )\n\u001b[0;32m    404\u001b[0m         \u001b[38;5;28;01mreturn\u001b[39;00m output\n",
      "File \u001b[1;32m~\\AppData\\Roaming\\Python\\Python310\\site-packages\\wrds\\sql.py:367\u001b[0m, in \u001b[0;36mConnection.__check_schema_perms\u001b[1;34m(self, schema)\u001b[0m\n\u001b[0;32m    365\u001b[0m \u001b[38;5;28;01melse\u001b[39;00m:\n\u001b[0;32m    366\u001b[0m     \u001b[38;5;28;01mif\u001b[39;00m schema \u001b[38;5;129;01min\u001b[39;00m \u001b[38;5;28mself\u001b[39m\u001b[38;5;241m.\u001b[39minsp\u001b[38;5;241m.\u001b[39mget_schema_names():\n\u001b[1;32m--> 367\u001b[0m         \u001b[38;5;28;01mraise\u001b[39;00m NotSubscribedError(\n\u001b[0;32m    368\u001b[0m             \u001b[38;5;124m\"\u001b[39m\u001b[38;5;124mYou do not have permission to access \u001b[39m\u001b[38;5;124m\"\u001b[39m\n\u001b[0;32m    369\u001b[0m             \u001b[38;5;124m\"\u001b[39m\u001b[38;5;124mthe \u001b[39m\u001b[38;5;132;01m{}\u001b[39;00m\u001b[38;5;124m library\u001b[39m\u001b[38;5;124m\"\u001b[39m\u001b[38;5;241m.\u001b[39mformat(schema)\n\u001b[0;32m    370\u001b[0m         )\n\u001b[0;32m    371\u001b[0m     \u001b[38;5;28;01melse\u001b[39;00m:\n\u001b[0;32m    372\u001b[0m         \u001b[38;5;28;01mraise\u001b[39;00m SchemaNotFoundError(\u001b[38;5;124m\"\u001b[39m\u001b[38;5;124mThe \u001b[39m\u001b[38;5;132;01m{}\u001b[39;00m\u001b[38;5;124m library is not found.\u001b[39m\u001b[38;5;124m\"\u001b[39m\u001b[38;5;241m.\u001b[39mformat(schema))\n",
      "\u001b[1;31mNotSubscribedError\u001b[0m: You do not have permission to access the crspa library"
     ]
    }
   ],
   "source": [
    "db.list_tables(library='crspa')"
   ]
  },
  {
   "cell_type": "code",
   "execution_count": null,
   "id": "e64f6fc3-473f-417e-836e-921ab1093e28",
   "metadata": {},
   "outputs": [],
   "source": []
  }
 ],
 "metadata": {
  "kernelspec": {
   "display_name": "algofacto",
   "language": "python",
   "name": "algofacto"
  },
  "language_info": {
   "codemirror_mode": {
    "name": "ipython",
    "version": 3
   },
   "file_extension": ".py",
   "mimetype": "text/x-python",
   "name": "python",
   "nbconvert_exporter": "python",
   "pygments_lexer": "ipython3",
   "version": "3.10.13"
  }
 },
 "nbformat": 4,
 "nbformat_minor": 5
}
